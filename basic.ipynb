{
  "nbformat": 4,
  "nbformat_minor": 0,
  "metadata": {
    "kernelspec": {
      "display_name": "Python 3",
      "language": "python",
      "name": "python3"
    },
    "language_info": {
      "codemirror_mode": {
        "name": "ipython",
        "version": 3
      },
      "file_extension": ".py",
      "mimetype": "text/x-python",
      "name": "python",
      "nbconvert_exporter": "python",
      "pygments_lexer": "ipython3",
      "version": "3.7.4"
    },
    "colab": {
      "name": "basic.ipynb",
      "provenance": [],
      "collapsed_sections": [
        "SucgSgaK0C0-",
        "nRMYdr7pz8mx",
        "6hLXlWuh1GX4"
      ],
      "include_colab_link": true
    }
  },
  "cells": [
    {
      "cell_type": "markdown",
      "metadata": {
        "id": "view-in-github",
        "colab_type": "text"
      },
      "source": [
        "<a href=\"https://colab.research.google.com/github/yihana/RHadoop/blob/master/basic.ipynb\" target=\"_parent\"><img src=\"https://colab.research.google.com/assets/colab-badge.svg\" alt=\"Open In Colab\"/></a>"
      ]
    },
    {
      "cell_type": "markdown",
      "metadata": {
        "id": "SucgSgaK0C0-",
        "colab_type": "text"
      },
      "source": [
        "# 준비"
      ]
    },
    {
      "cell_type": "code",
      "metadata": {
        "id": "4sMF3UCieazQ",
        "colab_type": "code",
        "outputId": "437a7a99-1d5b-45f0-be33-20379948e71e",
        "colab": {
          "base_uri": "https://localhost:8080/",
          "height": 35
        }
      },
      "source": [
        "#1. 프로그래밍 준비\n",
        "\n",
        "자산 = 300000\n",
        "부채 = 200000\n",
        "자본 = 100000\n",
        "자산 == 부채 + 자본"
      ],
      "execution_count": 0,
      "outputs": [
        {
          "output_type": "execute_result",
          "data": {
            "text/plain": [
              "True"
            ]
          },
          "metadata": {
            "tags": []
          },
          "execution_count": 1
        }
      ]
    },
    {
      "cell_type": "code",
      "metadata": {
        "id": "w3mtaVAAeazm",
        "colab_type": "code",
        "outputId": "52bca7a7-396e-4e98-cba4-894fd06f4009",
        "colab": {}
      },
      "source": [
        "#2. 회계등식\n",
        "#자산 300,000, 부채 200,000 , 자본 100,000인 회사의 회계등식을 만들고 확인하기\n",
        "자산 = 300000\n",
        "부채 = 200000\n",
        "자본 = 100000\n",
        "자산 == 부채 + 자본\n",
        "\n",
        "자산 = 320000\n",
        "부채 = 200000\n",
        "자본 = 100000\n",
        "자산 == 부채 + 자본"
      ],
      "execution_count": 0,
      "outputs": [
        {
          "output_type": "execute_result",
          "data": {
            "text/plain": [
              "False"
            ]
          },
          "metadata": {
            "tags": []
          },
          "execution_count": 3
        }
      ]
    },
    {
      "cell_type": "code",
      "metadata": {
        "id": "2VfYxOGyeaz5",
        "colab_type": "code",
        "outputId": "9ccbb4c8-c161-45fe-9578-a723891e2d05",
        "colab": {}
      },
      "source": [
        "#python3.6 부터는 숫자입력 세자리수 구분 : _\n",
        "print(1_000_000)"
      ],
      "execution_count": 0,
      "outputs": [
        {
          "output_type": "stream",
          "text": [
            "1000000\n"
          ],
          "name": "stdout"
        }
      ]
    },
    {
      "cell_type": "code",
      "metadata": {
        "id": "gO-xkla_ea0H",
        "colab_type": "code",
        "outputId": "b418b155-81f2-4421-85b7-dc0118f071f9",
        "colab": {}
      },
      "source": [
        "#3. 확장된 회계등식\n",
        "'''\n",
        "자산 500, 비용 200, 부채 400, 자본 100, 수익 200경우 아래와 같이 \n",
        "확장된 회계등식을 만들고 참 또는 거짓을 구하라\n",
        "자산 + 비용 = 부채 + 자본 + 수익\n",
        "'''\n",
        "자산 = 500\n",
        "비용 = 200\n",
        "차변 = 자산 + 비용\n",
        "부채 = 400\n",
        "자본 = 100\n",
        "수익 = 200\n",
        "대변 = 부채 + 자본 + 수익\n",
        "차변 == 대변"
      ],
      "execution_count": 0,
      "outputs": [
        {
          "output_type": "execute_result",
          "data": {
            "text/plain": [
              "True"
            ]
          },
          "metadata": {
            "tags": []
          },
          "execution_count": 5
        }
      ]
    },
    {
      "cell_type": "code",
      "metadata": {
        "id": "Z6Po4uYkea0P",
        "colab_type": "code",
        "colab": {}
      },
      "source": [
        "#.회계상 거래 판별\n",
        "사건1 = '판매'\n",
        "사건2 = '신문보기'\n",
        "사건3 = '일당지급'\n",
        "판단기준 = '재무제표에 표시될 수 있는가?'\n",
        "사건_판단 = list()"
      ],
      "execution_count": 0,
      "outputs": []
    },
    {
      "cell_type": "code",
      "metadata": {
        "id": "N7Brd19yea0v",
        "colab_type": "code",
        "outputId": "55c4ca67-caf8-4d09-a9d5-a595dc92641a",
        "colab": {
          "base_uri": "https://localhost:8080/",
          "height": 53
        }
      },
      "source": [
        "print(사건1)\n",
        "print(판단기준)\n",
        "사건_판단.append((사건1,True))"
      ],
      "execution_count": 0,
      "outputs": [
        {
          "output_type": "stream",
          "text": [
            "판매\n",
            "재무제표에 표시될 수 있는가?\n"
          ],
          "name": "stdout"
        }
      ]
    },
    {
      "cell_type": "code",
      "metadata": {
        "id": "i1faJYNmiVcW",
        "colab_type": "code",
        "outputId": "1094dad4-036b-4f8d-af75-3d0f378bf9f5",
        "colab": {
          "base_uri": "https://localhost:8080/",
          "height": 53
        }
      },
      "source": [
        "print(사건2)\n",
        "print(판단기준)\n",
        "사건_판단.append((사건2,False))"
      ],
      "execution_count": 0,
      "outputs": [
        {
          "output_type": "stream",
          "text": [
            "신문보기\n",
            "재무제표에 표시될 수 있는가?\n"
          ],
          "name": "stdout"
        }
      ]
    },
    {
      "cell_type": "code",
      "metadata": {
        "id": "oTh-OnK3im9i",
        "colab_type": "code",
        "outputId": "c81671d0-9e39-4757-eed2-68fd3cd00c3e",
        "colab": {
          "base_uri": "https://localhost:8080/",
          "height": 53
        }
      },
      "source": [
        "print(사건3)\n",
        "print(판단기준)\n",
        "사건_판단.append((사건3,True))"
      ],
      "execution_count": 0,
      "outputs": [
        {
          "output_type": "stream",
          "text": [
            "일당지급\n",
            "재무제표에 표시될 수 있는가?\n"
          ],
          "name": "stdout"
        }
      ]
    },
    {
      "cell_type": "code",
      "metadata": {
        "id": "Wn_ex9F_ivxK",
        "colab_type": "code",
        "outputId": "5eefdc77-1fff-4c25-836a-bc080bc59970",
        "colab": {
          "base_uri": "https://localhost:8080/",
          "height": 35
        }
      },
      "source": [
        "print(사건_판단)"
      ],
      "execution_count": 0,
      "outputs": [
        {
          "output_type": "stream",
          "text": [
            "[('판매', True), ('신문보기', False), ('일당지급', True)]\n"
          ],
          "name": "stdout"
        }
      ]
    },
    {
      "cell_type": "code",
      "metadata": {
        "id": "4FTu6gCqi_BD",
        "colab_type": "code",
        "outputId": "52acac91-2844-471a-ef18-aff3247e0b4f",
        "colab": {
          "base_uri": "https://localhost:8080/",
          "height": 35
        }
      },
      "source": [
        "회계기록_사건 = [line[0] for line in 사건_판단 if line[1] == True]\n",
        "print(회계기록_사건)"
      ],
      "execution_count": 0,
      "outputs": [
        {
          "output_type": "stream",
          "text": [
            "['판매', '일당지급']\n"
          ],
          "name": "stdout"
        }
      ]
    },
    {
      "cell_type": "code",
      "metadata": {
        "id": "SEsLZVQ3jTpI",
        "colab_type": "code",
        "outputId": "f2be37b9-c32d-4c03-c5f9-11cf0bdbdde6",
        "colab": {
          "base_uri": "https://localhost:8080/",
          "height": 35
        }
      },
      "source": [
        "#논리흐름\n",
        "# : 경제적 사건 -> 재무제표에 표시(사건판단) -> 회계기록\n",
        "#자료형\n",
        "# (1)리스트 list\n",
        "a = ['가','나','다']\n",
        "print(a)"
      ],
      "execution_count": 0,
      "outputs": [
        {
          "output_type": "stream",
          "text": [
            "['가', '나', '다']\n"
          ],
          "name": "stdout"
        }
      ]
    },
    {
      "cell_type": "code",
      "metadata": {
        "id": "1gwZvGRrkSFC",
        "colab_type": "code",
        "colab": {}
      },
      "source": [
        "a = list()"
      ],
      "execution_count": 0,
      "outputs": []
    },
    {
      "cell_type": "code",
      "metadata": {
        "id": "0_r6i7g8kUr8",
        "colab_type": "code",
        "outputId": "acf61f54-9e4f-49de-ce1b-8731ce36090e",
        "colab": {
          "base_uri": "https://localhost:8080/",
          "height": 35
        }
      },
      "source": [
        "a.append(1)\n",
        "print(a)"
      ],
      "execution_count": 0,
      "outputs": [
        {
          "output_type": "stream",
          "text": [
            "[1]\n"
          ],
          "name": "stdout"
        }
      ]
    },
    {
      "cell_type": "code",
      "metadata": {
        "id": "bKbFpaWpkYm7",
        "colab_type": "code",
        "outputId": "0ebf79a6-f845-47fb-af1e-7aea3d112987",
        "colab": {
          "base_uri": "https://localhost:8080/",
          "height": 35
        }
      },
      "source": [
        "a.append(2)\n",
        "a.append(3)\n",
        "a.append(4)\n",
        "a.append(5)\n",
        "print(a)"
      ],
      "execution_count": 0,
      "outputs": [
        {
          "output_type": "stream",
          "text": [
            "[1, 2, 3, 4, 5]\n"
          ],
          "name": "stdout"
        }
      ]
    },
    {
      "cell_type": "code",
      "metadata": {
        "id": "YqM55S8UkgLf",
        "colab_type": "code",
        "colab": {}
      },
      "source": [
        "# (2)튜플 tuple\n",
        "sales = (50,2)\n",
        "price = (50,)"
      ],
      "execution_count": 0,
      "outputs": []
    },
    {
      "cell_type": "code",
      "metadata": {
        "id": "L9VHxLlwnKh1",
        "colab_type": "code",
        "outputId": "33da9114-d8fe-4001-86c9-3052497f5f7a",
        "colab": {
          "base_uri": "https://localhost:8080/",
          "height": 35
        }
      },
      "source": [
        "(50,) == 50"
      ],
      "execution_count": 0,
      "outputs": [
        {
          "output_type": "execute_result",
          "data": {
            "text/plain": [
              "False"
            ]
          },
          "metadata": {
            "tags": []
          },
          "execution_count": 15
        }
      ]
    },
    {
      "cell_type": "code",
      "metadata": {
        "id": "x0ch1qRMm6XP",
        "colab_type": "code",
        "outputId": "8fb29be8-f4f3-4446-f63f-28fe59fa0b3c",
        "colab": {
          "base_uri": "https://localhost:8080/",
          "height": 35
        }
      },
      "source": [
        "b = (1,2,'a')\n",
        "b[2]"
      ],
      "execution_count": 0,
      "outputs": [
        {
          "output_type": "execute_result",
          "data": {
            "text/plain": [
              "'a'"
            ]
          },
          "metadata": {
            "tags": []
          },
          "execution_count": 16
        }
      ]
    },
    {
      "cell_type": "code",
      "metadata": {
        "id": "2AncUMWfnQEs",
        "colab_type": "code",
        "outputId": "0eae3104-8daf-46c1-9ce6-e09cbdce1cac",
        "colab": {
          "base_uri": "https://localhost:8080/",
          "height": 172
        }
      },
      "source": [
        "b[2] = 'c' #튜플은 데이터값이 초기에 결정된 후 바꿀수 없음"
      ],
      "execution_count": 0,
      "outputs": [
        {
          "output_type": "error",
          "ename": "TypeError",
          "evalue": "ignored",
          "traceback": [
            "\u001b[0;31m---------------------------------------------------------------------------\u001b[0m",
            "\u001b[0;31mTypeError\u001b[0m                                 Traceback (most recent call last)",
            "\u001b[0;32m<ipython-input-17-5ff2319a73fe>\u001b[0m in \u001b[0;36m<module>\u001b[0;34m()\u001b[0m\n\u001b[0;32m----> 1\u001b[0;31m \u001b[0mb\u001b[0m\u001b[0;34m[\u001b[0m\u001b[0;36m2\u001b[0m\u001b[0;34m]\u001b[0m \u001b[0;34m=\u001b[0m \u001b[0;34m'c'\u001b[0m \u001b[0;31m#튜플은 데이터값이 초기에 결정된 후 바꿀수 없음\u001b[0m\u001b[0;34m\u001b[0m\u001b[0;34m\u001b[0m\u001b[0m\n\u001b[0m",
            "\u001b[0;31mTypeError\u001b[0m: 'tuple' object does not support item assignment"
          ]
        }
      ]
    },
    {
      "cell_type": "code",
      "metadata": {
        "id": "1v7gL5dFndyv",
        "colab_type": "code",
        "outputId": "e7c8904e-c9f7-4f0a-fa1b-c551782fc896",
        "colab": {
          "base_uri": "https://localhost:8080/",
          "height": 71
        }
      },
      "source": [
        "#(3) 제어문 for\n",
        "for element in [1,2,3] : \n",
        "  print(element)"
      ],
      "execution_count": 0,
      "outputs": [
        {
          "output_type": "stream",
          "text": [
            "1\n",
            "2\n",
            "3\n"
          ],
          "name": "stdout"
        }
      ]
    },
    {
      "cell_type": "code",
      "metadata": {
        "id": "l6fmzCFJnpy5",
        "colab_type": "code",
        "outputId": "b3292ff8-5333-49a0-e5cb-167ca55afe48",
        "colab": {
          "base_uri": "https://localhost:8080/",
          "height": 35
        }
      },
      "source": [
        "#조건부나열\n",
        "[element + 10 for element in [1,2,3]]"
      ],
      "execution_count": 0,
      "outputs": [
        {
          "output_type": "execute_result",
          "data": {
            "text/plain": [
              "[11, 12, 13]"
            ]
          },
          "metadata": {
            "tags": []
          },
          "execution_count": 19
        }
      ]
    },
    {
      "cell_type": "code",
      "metadata": {
        "id": "UCLlHCnnoAOu",
        "colab_type": "code",
        "outputId": "311ff5fc-09c9-4079-8989-5ceb65a1a407",
        "colab": {
          "base_uri": "https://localhost:8080/",
          "height": 35
        }
      },
      "source": [
        "[element+10 for element in [1,2,3] if element <=2]"
      ],
      "execution_count": 0,
      "outputs": [
        {
          "output_type": "execute_result",
          "data": {
            "text/plain": [
              "[11, 12]"
            ]
          },
          "metadata": {
            "tags": []
          },
          "execution_count": 20
        }
      ]
    },
    {
      "cell_type": "code",
      "metadata": {
        "id": "IkH-oyGeoXta",
        "colab_type": "code",
        "outputId": "354b5621-4bf8-459b-e246-ef0afb5925f9",
        "colab": {
          "base_uri": "https://localhost:8080/",
          "height": 35
        }
      },
      "source": [
        "my_list = [(True,10),(False,20),(True,30)]\n",
        "[element[1]+100 for element in my_list if element[0] == True]"
      ],
      "execution_count": 0,
      "outputs": [
        {
          "output_type": "execute_result",
          "data": {
            "text/plain": [
              "[110, 130]"
            ]
          },
          "metadata": {
            "tags": []
          },
          "execution_count": 21
        }
      ]
    },
    {
      "cell_type": "code",
      "metadata": {
        "id": "PwbVFozPowH0",
        "colab_type": "code",
        "outputId": "da61b3c6-dbf1-46b1-820e-a32146fb2b77",
        "colab": {
          "base_uri": "https://localhost:8080/",
          "height": 35
        }
      },
      "source": [
        "#5. 거래분석\n",
        "#사례. A씨는 2020년 1월 1일에 15,000원을 투자하여 컴퓨터프로그램 회사를 만들었다.\n",
        "#이 거래는 자산의 증가 및 자본의 증가를 초래한다.\n",
        "#따라서 다음과 같은 확장된 회계등식상의 결과를 나타낸다.\n",
        "# 자산 + 비용 = 부채 + 자본 + 수익\n",
        "# 현금                 자본금\n",
        "# 15,000               15,000\n",
        "\n",
        "자산 = 15000\n",
        "비용 = 0\n",
        "현금 = 자산\n",
        "부채 = 0\n",
        "자본 = 15000\n",
        "수익 = 0\n",
        "자본금 = 자본\n",
        "현금 == 자본금"
      ],
      "execution_count": 0,
      "outputs": [
        {
          "output_type": "execute_result",
          "data": {
            "text/plain": [
              "True"
            ]
          },
          "metadata": {
            "tags": []
          },
          "execution_count": 29
        }
      ]
    },
    {
      "cell_type": "markdown",
      "metadata": {
        "id": "nRMYdr7pz8mx",
        "colab_type": "text"
      },
      "source": [
        "# 분개 프로그램"
      ]
    },
    {
      "cell_type": "code",
      "metadata": {
        "id": "v5a7ZVbgpcVT",
        "colab_type": "code",
        "colab": {}
      },
      "source": [
        "#6. 분개\n",
        "#A회사는 용역을 제공하는 것을 주 업무로 하는 회사이다. \n",
        "#다음은 2020년 1월중에 발생한 거래이다.\n",
        "\n",
        "#2020년 1월 1일 : 자본금 \\100,000,000을 주주로부터 현금으로 출자받다.\n",
        "#2020년 1월 2일 : 사무실을 빌리고 1개월 임차료 \\1,000,000을 현금으로 지급하다.\n",
        "#2020년 1월 3일 : 중고 자동차 1대를 구입하고 \\1,500,000을 현금으로 지급하다.\n",
        "#2020년 1월 4일 : 경리부 직원에 대한 급여 \\700,000 을 현금으로 지급하다.\n",
        "#2020년 1월 5일 : 기계장치 \\5,000,000을 B회사로부터 외상으로 구입하다.\n",
        "#2020년 1월 6일 : 용역을 제공하고 그 대가로 \\4,000,000 수취하기로 하였다.\n",
        "#2020년 1월 7일 : A은행으로부터 현금 \\40,000,000을 만기 2년으로 차입하다."
      ],
      "execution_count": 0,
      "outputs": []
    },
    {
      "cell_type": "code",
      "metadata": {
        "id": "tLId4d2PvAga",
        "colab_type": "code",
        "colab": {}
      },
      "source": [
        "분개_1월1일 = [[\"1월1일\"], \n",
        "                [\"차변\",[\"현금\",100_000_000]],\n",
        "                [\"대변\",[\"자본금\",100_000_000]]]\n",
        "분개_1월2일 = [[\"1월2일\"], \n",
        "                [\"차변\",[\"임차료\",1_000_000]],\n",
        "                [\"대변\",[\"현금\",1_000_000]]]     \n",
        "분개_1월3일 = [[\"1월3일\"], \n",
        "                [\"차변\",[\"차량운반구\",1_500_000]],\n",
        "                [\"대변\",[\"현금\",1_500_000]]] \n",
        "분개_1월4일 = [[\"1월4일\"], \n",
        "                [\"차변\",[\"급여\",700_000]],\n",
        "                [\"대변\",[\"현금\",700_000]]]\n",
        "분개_1월5일 = [[\"1월5일\"], \n",
        "                [\"차변\",[\"기계\",5_000_000]],\n",
        "                [\"대변\",[\"미지급금\",5_000_000]]]\n",
        "분개_1월6일 = [[\"1월6일\"], \n",
        "                [\"차변\",[\"매출채권\",4_000_000]],\n",
        "                [\"대변\",[\"매출\",4_000_000]]]\n",
        "분개_1월7일 = [[\"1월7일\"], \n",
        "                [\"차변\",[\"현금\",40_000_000]],\n",
        "                [\"대변\",[\"장기차입금\",40_000_000]]]                                                                                                   "
      ],
      "execution_count": 0,
      "outputs": []
    },
    {
      "cell_type": "code",
      "metadata": {
        "id": "v6ZdcoThwy2Q",
        "colab_type": "code",
        "colab": {}
      },
      "source": [
        "전체분개 = [분개_1월1일, 분개_1월2일, 분개_1월3일, 분개_1월4일,\n",
        "            분개_1월5일, 분개_1월6일, 분개_1월7일]"
      ],
      "execution_count": 0,
      "outputs": []
    },
    {
      "cell_type": "code",
      "metadata": {
        "id": "-yZapZY0xJT2",
        "colab_type": "code",
        "outputId": "8c41c960-00c8-4dda-f1de-65ddb0c5fcc5",
        "colab": {
          "base_uri": "https://localhost:8080/",
          "height": 53
        }
      },
      "source": [
        "분개_차변 = [분개세부내역[1][1] for 일자별분개 in 전체분개\n",
        "                for 분개세부내역 in 일자별분개 if 분개세부내역[0] == \"차변\"]\n",
        "분개_대변 = [분개세부내역[1][1] for 일자별분개 in 전체분개\n",
        "                for 분개세부내역 in 일자별분개 if 분개세부내역[0] == \"대변\"]\n",
        "print(분개_차변)\n",
        "print(분개_대변)                                "
      ],
      "execution_count": 0,
      "outputs": [
        {
          "output_type": "stream",
          "text": [
            "[100000000, 1000000, 1500000, 700000, 5000000, 4000000, 40000000]\n",
            "[100000000, 1000000, 1500000, 700000, 5000000, 4000000, 40000000]\n"
          ],
          "name": "stdout"
        }
      ]
    },
    {
      "cell_type": "code",
      "metadata": {
        "id": "Jzc6bwhLxu5n",
        "colab_type": "code",
        "outputId": "36645fa9-7070-466b-9e68-a38aecaf7e09",
        "colab": {
          "base_uri": "https://localhost:8080/",
          "height": 35
        }
      },
      "source": [
        "print(\"분개차변합계: \", sum(분개_차변), \"분개대변합계: \", sum(분개_대변))"
      ],
      "execution_count": 0,
      "outputs": [
        {
          "output_type": "stream",
          "text": [
            "분개차변합계:  152200000 분개대변합계:  152200000\n"
          ],
          "name": "stdout"
        }
      ]
    },
    {
      "cell_type": "code",
      "metadata": {
        "id": "V0csc4qNhiyC",
        "colab_type": "code",
        "outputId": "0e386073-d8ed-4576-c8d2-c699fc0abda1",
        "colab": {
          "base_uri": "https://localhost:8080/",
          "height": 125
        }
      },
      "source": [
        "#분개세부내역 확인\n",
        "전체분개 = [분개_1월1일, 분개_1월2일]\n",
        "for 일자별분개 in 전체분개:\n",
        "  for 분개세부내역 in 일자별분개:\n",
        "    print(분개세부내역)"
      ],
      "execution_count": 0,
      "outputs": [
        {
          "output_type": "stream",
          "text": [
            "['1월1일']\n",
            "['차변', ['현금', 100000000]]\n",
            "['대변', ['자본금', 100000000]]\n",
            "['1월2일']\n",
            "['차변', ['임차료', 1000000]]\n",
            "['대변', ['현금', 1000000]]\n"
          ],
          "name": "stdout"
        }
      ]
    },
    {
      "cell_type": "code",
      "metadata": {
        "id": "UV17eedeyC9f",
        "colab_type": "code",
        "colab": {}
      },
      "source": [
        "def 계정전기(입력계정):\n",
        "  if 입력계정 in [세세부내역[0] for 일자별분개 in 전체분개\n",
        "              for 분개세부내역 in 일자별분개\n",
        "              for 세세부내역 in 분개세부내역]:\n",
        "                print([[일자별분개[0],분개세부내역[0],세세부내역[1]] for 일자별분개 in 전체분개\n",
        "                       for 분개세부내역 in 일자별분개\n",
        "                       for 세세부내역 in 분개세부내역 if 세세부내역[0] == 입력계정])\n",
        "  else:\n",
        "    print(\"계정과목없음\")              \n",
        "\n",
        "def 계정전기합계(입력계정):\n",
        "  if 입력계정 in [세세부내역[0] for 일자별분개 in 전체분개\n",
        "              for 분개세부내역 in 일자별분개\n",
        "              for 세세부내역 in 분개세부내역]:\n",
        "                차변계정금액 = [세세부내역[1] for 일자별분개 in 전체분개\n",
        "                          for 분개세부내역 in 일자별분개 if 분개세부내역[0] == \"차변\"\n",
        "                          for 세세부내역 in 분개세부내역 if 세세부내역[0] == 입력계정]\n",
        "                대변계정금액 = [세세부내역[1] for 일자별분개 in 전체분개\n",
        "                          for 분개세부내역 in 일자별분개 if 분개세부내역[0] == \"대변\"\n",
        "                          for 세세부내역 in 분개세부내역 if 세세부내역[0] == 입력계정]\n",
        "                if sum(차변계정금액) > sum(대변계정금액):\n",
        "                  print(\"차변잔액: \",abs(sum(차변계정금액) - sum(대변계정금액)))\n",
        "                else:\n",
        "                  print(\"대변잔액: \",abs(sum(차변계정금액) - sum(대변계정금액)))\n",
        "  else:\n",
        "    print(\"계정과목없음\")    "
      ],
      "execution_count": 0,
      "outputs": []
    },
    {
      "cell_type": "code",
      "metadata": {
        "id": "jHEy5AUjfkd5",
        "colab_type": "code",
        "outputId": "ce32b5df-0ae6-44c6-85be-865415355108",
        "colab": {
          "base_uri": "https://localhost:8080/",
          "height": 91
        }
      },
      "source": [
        " 계정전기(\"현금\")\n",
        " print(\"************************************\")\n",
        " 계정전기합계(\"현금\") "
      ],
      "execution_count": 0,
      "outputs": [
        {
          "output_type": "stream",
          "text": [
            "[[['1월1일'], '차변', 100000000], [['1월2일'], '대변', 1000000], [['1월3일'], '대변', 1500000], [['1월4일'], '대변', 700000], [['1월7일'], '차변', 40000000]]\n",
            "************************************\n",
            "차변잔액:  136800000\n"
          ],
          "name": "stdout"
        }
      ]
    },
    {
      "cell_type": "markdown",
      "metadata": {
        "id": "6hLXlWuh1GX4",
        "colab_type": "text"
      },
      "source": [
        "#7.현금및 현금성자산 분류"
      ]
    },
    {
      "cell_type": "code",
      "metadata": {
        "id": "klygds_Nikb-",
        "colab_type": "code",
        "colab": {}
      },
      "source": [
        "#7. 현금및 현금성자산\n",
        "통화 = ['통화', 425000, True]\n",
        "우표 = ['우표', 10000, False]\n",
        "타인발행당좌수표 = ['타인발행당좌수표', 100000, True]\n",
        "기일이경과한이자표 = ['기일이경과한이자표', 40000, True]\n",
        "배당금통지지급표 = ['배당금통지지급표', 20000, True]\n",
        "선일자수표 = ['선일자수표', 120000, False]\n",
        "우편환증서 = ['우편환증서', 3000, True]\n",
        "직원에대한가불증 = ['직원에대한가불증', 500000, False]\n",
        "양도성예금증서_취득당시만기4개월 = ['양도성예금증서_취득당시만기4개월', 4000000, False]\n",
        "총항목 = [통화, 우표, 타인발행당좌수표, 기일이경과한이자표, 배당금통지지급표, \n",
        "       선일자수표, 우편환증서, 직원에대한가불증, 양도성예금증서_취득당시만기4개월]"
      ],
      "execution_count": 0,
      "outputs": []
    },
    {
      "cell_type": "code",
      "metadata": {
        "id": "YXXQkF-D2791",
        "colab_type": "code",
        "colab": {}
      },
      "source": [
        "현금항목 = list([각항목[0] for 각항목 in 총항목 if 각항목[2] == True])\n",
        "현금항목금액 = list([각항목[1] for 각항목 in 총항목 if 각항목[2] == True])"
      ],
      "execution_count": 0,
      "outputs": []
    },
    {
      "cell_type": "code",
      "metadata": {
        "id": "wFSoQXMl38wI",
        "colab_type": "code",
        "outputId": "4af8f9e3-939b-4bbd-c1de-658a3ec7b3d5",
        "colab": {
          "base_uri": "https://localhost:8080/",
          "height": 51
        }
      },
      "source": [
        "print(현금항목)\n",
        "print(현금항목금액)"
      ],
      "execution_count": 0,
      "outputs": [
        {
          "output_type": "stream",
          "text": [
            "['통화', '타인발행당좌수표', '기일이경과한이자표', '배당금통지지급표', '우편환증서']\n",
            "[425000, 100000, 40000, 20000, 3000]\n"
          ],
          "name": "stdout"
        }
      ]
    },
    {
      "cell_type": "code",
      "metadata": {
        "id": "em_YAtxh4E3u",
        "colab_type": "code",
        "colab": {}
      },
      "source": [
        "def 현금및현금성자산(입력항목):\n",
        "  if 입력항목 in 현금항목:\n",
        "    금액 = 현금항목금액[현금항목.index(입력항목)]\n",
        "    print(\"%s : 현금및현금성자산이며 금액은 %d원입니다.\" % (입력항목, 금액))\n",
        "  else : \n",
        "    print(\"%s : 현금및현금성자산이 아닙니다.\" % (입력항목))"
      ],
      "execution_count": 0,
      "outputs": []
    },
    {
      "cell_type": "code",
      "metadata": {
        "id": "FfWQyoRXNevG",
        "colab_type": "code",
        "outputId": "9cf78ea8-88ef-44e5-aaee-1546343bec25",
        "colab": {
          "base_uri": "https://localhost:8080/",
          "height": 51
        }
      },
      "source": [
        "현금및현금성자산합계 = sum(현금항목금액)\n",
        "print(현금및현금성자산합계)\n",
        "현금및현금성자산('통화')"
      ],
      "execution_count": 0,
      "outputs": [
        {
          "output_type": "stream",
          "text": [
            "588000\n",
            "통화 : 현금및현금성자산이며 금액은 425000원입니다.\n"
          ],
          "name": "stdout"
        }
      ]
    },
    {
      "cell_type": "markdown",
      "metadata": {
        "id": "pIR3Ll_uPmm6",
        "colab_type": "text"
      },
      "source": [
        "#8.매출원가 공식"
      ]
    },
    {
      "cell_type": "code",
      "metadata": {
        "id": "yC7w9JDlN680",
        "colab_type": "code",
        "outputId": "5db587f7-d923-462e-c3d3-13f13c79eb0d",
        "colab": {
          "base_uri": "https://localhost:8080/",
          "height": 35
        }
      },
      "source": [
        "#매출원가 공식\n",
        "#기초재고액(₩30) + 당기매입액(₩70) = 매출원가(₩60) + 기말재고액(₩40)\n",
        "\n",
        "기초재고 = 30\n",
        "당기매입 = 70\n",
        "매출원가 = 60\n",
        "기말재고 = 40\n",
        "print(기초재고 + 당기매입 == 매출원가 + 기말재고)"
      ],
      "execution_count": 0,
      "outputs": [
        {
          "output_type": "stream",
          "text": [
            "True\n"
          ],
          "name": "stdout"
        }
      ]
    },
    {
      "cell_type": "code",
      "metadata": {
        "id": "NiqwR2e-QmEa",
        "colab_type": "code",
        "colab": {}
      },
      "source": [
        "#9.Pandas 라이브러리\n",
        "#자료형 Series 1차원, DataFrame 2차원\n",
        "#Series 특징\n",
        "#리스트를 가지고 생성할 수 있는데 기본적으로는 리스트처럼 정수 인덱스를 이용행서 순서대로 저장한다.\n",
        "#values 속성을 호출하면 데이터의 배열이 리턴된다.\n",
        "#index 속성을 호출하면 인덱스의 배열이 리턴된다.\n",
        "#각각의 데이터는 [인덱스]를 이용해서 접근이 가능하다.\n",
        "#index 파라미터를 이용해서 파라미터를 직접 대입이 가능하다.\n",
        "\n",
        "import numpy as np\n",
        "import pandas as pd\n",
        "from pandas import Series, DataFrame"
      ],
      "execution_count": 0,
      "outputs": []
    },
    {
      "cell_type": "code",
      "metadata": {
        "id": "T7HkG14DSHM8",
        "colab_type": "code",
        "outputId": "d548c7cd-7ec6-46f1-e18c-224328b5daed",
        "colab": {
          "base_uri": "https://localhost:8080/",
          "height": 107
        }
      },
      "source": [
        "금액 = Series([4000, 3000, 3500, 2000])\n",
        "print(금액)"
      ],
      "execution_count": 0,
      "outputs": [
        {
          "output_type": "stream",
          "text": [
            "0    4000\n",
            "1    3000\n",
            "2    3500\n",
            "3    2000\n",
            "dtype: int64\n"
          ],
          "name": "stdout"
        }
      ]
    },
    {
      "cell_type": "code",
      "metadata": {
        "id": "CPuAQVnESSFR",
        "colab_type": "code",
        "outputId": "d528b970-b939-4d81-f1cd-b14a5a7cebd4",
        "colab": {
          "base_uri": "https://localhost:8080/",
          "height": 35
        }
      },
      "source": [
        "print(금액.index)"
      ],
      "execution_count": 0,
      "outputs": [
        {
          "output_type": "stream",
          "text": [
            "RangeIndex(start=0, stop=4, step=1)\n"
          ],
          "name": "stdout"
        }
      ]
    },
    {
      "cell_type": "code",
      "metadata": {
        "id": "BBlox8UfSmP7",
        "colab_type": "code",
        "outputId": "0af60596-cee7-4722-c465-1ef60fd2deea",
        "colab": {
          "base_uri": "https://localhost:8080/",
          "height": 35
        }
      },
      "source": [
        "print(금액.values)"
      ],
      "execution_count": 0,
      "outputs": [
        {
          "output_type": "stream",
          "text": [
            "[4000 3000 3500 2000]\n"
          ],
          "name": "stdout"
        }
      ]
    },
    {
      "cell_type": "code",
      "metadata": {
        "id": "ktz2Wi_ASvf-",
        "colab_type": "code",
        "outputId": "fbd6207b-9f15-47e3-c084-48f0155fea77",
        "colab": {
          "base_uri": "https://localhost:8080/",
          "height": 107
        }
      },
      "source": [
        "계정금액 = Series([4000, 3000, 3500, 2000], index=['현금','매출채권','토지','건물'])\n",
        "print(계정금액)"
      ],
      "execution_count": 0,
      "outputs": [
        {
          "output_type": "stream",
          "text": [
            "현금      4000\n",
            "매출채권    3000\n",
            "토지      3500\n",
            "건물      2000\n",
            "dtype: int64\n"
          ],
          "name": "stdout"
        }
      ]
    },
    {
      "cell_type": "code",
      "metadata": {
        "id": "-tL1-7e2TJDs",
        "colab_type": "code",
        "outputId": "5ae03056-8e28-492d-e388-97bc16d10e4c",
        "colab": {
          "base_uri": "https://localhost:8080/",
          "height": 35
        }
      },
      "source": [
        " print(계정금액[0]) #순번을 이용해서 데이터 접근"
      ],
      "execution_count": 0,
      "outputs": [
        {
          "output_type": "stream",
          "text": [
            "4000\n"
          ],
          "name": "stdout"
        }
      ]
    },
    {
      "cell_type": "code",
      "metadata": {
        "id": "2GOzwmISTmE0",
        "colab_type": "code",
        "outputId": "9633a618-293c-40bb-a887-86f727ba4c43",
        "colab": {
          "base_uri": "https://localhost:8080/",
          "height": 35
        }
      },
      "source": [
        " print(계정금액['현금']) #직접 입력한 인덱스를 이용해서 데이터 접근"
      ],
      "execution_count": 0,
      "outputs": [
        {
          "output_type": "stream",
          "text": [
            "4000\n"
          ],
          "name": "stdout"
        }
      ]
    },
    {
      "cell_type": "code",
      "metadata": {
        "id": "txM99qIxTvEB",
        "colab_type": "code",
        "outputId": "95f0c25a-f0b6-4b7e-a03c-a979d3c3cb8f",
        "colab": {
          "base_uri": "https://localhost:8080/",
          "height": 107
        }
      },
      "source": [
        "#2)Series 연산\n",
        "금액 = Series([4000, 3000, 3500, 2000], index=['현금','현금','매출채권','토지'])\n",
        "print(금액) "
      ],
      "execution_count": 0,
      "outputs": [
        {
          "output_type": "stream",
          "text": [
            "현금      4000\n",
            "현금      3000\n",
            "매출채권    3500\n",
            "토지      2000\n",
            "dtype: int64\n"
          ],
          "name": "stdout"
        }
      ]
    },
    {
      "cell_type": "code",
      "metadata": {
        "id": "wbC-R2OuUK4I",
        "colab_type": "code",
        "outputId": "c76d5d2b-dee9-4517-8016-505390f3cf93",
        "colab": {
          "base_uri": "https://localhost:8080/",
          "height": 71
        }
      },
      "source": [
        "print(금액[금액>3000])"
      ],
      "execution_count": 0,
      "outputs": [
        {
          "output_type": "stream",
          "text": [
            "현금      4000\n",
            "매출채권    3500\n",
            "dtype: int64\n"
          ],
          "name": "stdout"
        }
      ]
    },
    {
      "cell_type": "code",
      "metadata": {
        "id": "jBamZ5YqUd66",
        "colab_type": "code",
        "outputId": "484c8319-c1c0-4b28-f00f-20ccd41f1ce7",
        "colab": {
          "base_uri": "https://localhost:8080/",
          "height": 107
        }
      },
      "source": [
        "print(금액+100)"
      ],
      "execution_count": 0,
      "outputs": [
        {
          "output_type": "stream",
          "text": [
            "현금      4100\n",
            "현금      3100\n",
            "매출채권    3600\n",
            "토지      2100\n",
            "dtype: int64\n"
          ],
          "name": "stdout"
        }
      ]
    },
    {
      "cell_type": "code",
      "metadata": {
        "id": "TGzsyCt7Ujrn",
        "colab_type": "code",
        "outputId": "bb492deb-e8a5-47d3-cc36-226b14c97464",
        "colab": {
          "base_uri": "https://localhost:8080/",
          "height": 35
        }
      },
      "source": [
        "print(np.sum(금액)) #print(금액.sum())도 동일한 결과를 나타낸다."
      ],
      "execution_count": 0,
      "outputs": [
        {
          "output_type": "stream",
          "text": [
            "12500\n"
          ],
          "name": "stdout"
        }
      ]
    },
    {
      "cell_type": "code",
      "metadata": {
        "id": "dp2oVqUCU1Oq",
        "colab_type": "code",
        "outputId": "a487cd7f-afba-4422-fc79-e01086b1469a",
        "colab": {
          "base_uri": "https://localhost:8080/",
          "height": 197
        }
      },
      "source": [
        "#3)Series의 연산 : null, boolean 등이 있는 경우 \n",
        "#Series간 인덱스가 동일한 데이터끼리 연산한다. 한쪽에만 존재하거나 None 데이터와의 연산은 NaN으로 나온다.\n",
        "#pd.isnull(Series객체) 또는 Series객체.isnull(): 데이터가 없는 경우는 True를 리턴하며, \n",
        "#데이터가 있는 경우는 False로 value를 생성해서 Series 객체로 리턴한다.\n",
        "\n",
        "금액1 = Series([4000, 3000, None, 2000], index=['현금','매출채권','미수금','토지'])\n",
        "금액2 = Series([3000, 3000, 3500, 2000], index=['현금','미수수익','매출채권','토지'])\n",
        "print(금액1)\n",
        "print(금액2)"
      ],
      "execution_count": 0,
      "outputs": [
        {
          "output_type": "stream",
          "text": [
            "현금      4000.0\n",
            "매출채권    3000.0\n",
            "미수금        NaN\n",
            "토지      2000.0\n",
            "dtype: float64\n",
            "현금      3000\n",
            "미수수익    3000\n",
            "매출채권    3500\n",
            "토지      2000\n",
            "dtype: int64\n"
          ],
          "name": "stdout"
        }
      ]
    },
    {
      "cell_type": "code",
      "metadata": {
        "id": "LWNG694dWDhw",
        "colab_type": "code",
        "outputId": "b5efa066-2141-4f02-ee3c-ec3ccac3fcba",
        "colab": {
          "base_uri": "https://localhost:8080/",
          "height": 107
        }
      },
      "source": [
        "print(금액1.isnull())"
      ],
      "execution_count": 0,
      "outputs": [
        {
          "output_type": "stream",
          "text": [
            "현금      False\n",
            "매출채권    False\n",
            "미수금      True\n",
            "토지      False\n",
            "dtype: bool\n"
          ],
          "name": "stdout"
        }
      ]
    },
    {
      "cell_type": "code",
      "metadata": {
        "id": "vGwczHBCWM8f",
        "colab_type": "code",
        "outputId": "c43b5359-ead7-4858-b963-76e94ce75839",
        "colab": {
          "base_uri": "https://localhost:8080/",
          "height": 125
        }
      },
      "source": [
        "print(금액1+금액2)"
      ],
      "execution_count": 0,
      "outputs": [
        {
          "output_type": "stream",
          "text": [
            "매출채권    6500.0\n",
            "미수금        NaN\n",
            "미수수익       NaN\n",
            "토지      4000.0\n",
            "현금      7000.0\n",
            "dtype: float64\n"
          ],
          "name": "stdout"
        }
      ]
    },
    {
      "cell_type": "code",
      "metadata": {
        "id": "d7o2VPjxWTZ1",
        "colab_type": "code",
        "colab": {}
      },
      "source": [
        "#(2) DataFrame\n",
        "# 1) DataFrame의 기본 기능\n",
        "# DataFrame은 딕셔너리 배열과 유사하며, 딕셔너리를 이용해서 생성할 수 있다.\n",
        "# 각 key에 리스트가 할당된 딕셔너리를 변환할 수 있다.\n",
        "# 정렬순서를 변경하고자 하면 columns 매개변수에 순서를 리스트로 대입하면 된다.\n",
        "# DataFrame의 각 column의 데이터는 ['컬럼명'] 또는 컬럼명으로 접근하면 Series 객체로 리턴된다.\n",
        "# 특정 행(row)에 접근하기 위해서는 ix[인덱스]를 이용하면 되고, 데이터는 Series 객체로 리턴된다.\n",
        "# 사용가능한 입력 데이터 : 2차원 ndarray/ 리스트,튜플,딕셔너리,Series의 딕셔너리/딕셔너리,Series의 list/리스트,튜플의 리스트\n",
        "\n",
        "import numpy as np\n",
        "import pandas as pd\n",
        "from pandas import Series, DataFrame"
      ],
      "execution_count": 0,
      "outputs": []
    },
    {
      "cell_type": "code",
      "metadata": {
        "id": "bhaMjbZMX0_W",
        "colab_type": "code",
        "outputId": "c4fb60c9-7945-4275-9994-6c0581ac2b67",
        "colab": {
          "base_uri": "https://localhost:8080/",
          "height": 107
        }
      },
      "source": [
        "items = {'code':[1,2,3,4],\n",
        "         '재무제표':['재무상태표','손익계산서','현금흐름표','자본변동표'],\n",
        "         '계정과목':['매출채권','매출원가','현금','자본'],\n",
        "         '금액':[1500, 15000, 1000, 500]}\n",
        "data = DataFrame(items)         \n",
        "print(data)"
      ],
      "execution_count": 0,
      "outputs": [
        {
          "output_type": "stream",
          "text": [
            "   code   재무제표  계정과목     금액\n",
            "0     1  재무상태표  매출채권   1500\n",
            "1     2  손익계산서  매출원가  15000\n",
            "2     3  현금흐름표    현금   1000\n",
            "3     4  자본변동표    자본    500\n"
          ],
          "name": "stdout"
        }
      ]
    },
    {
      "cell_type": "code",
      "metadata": {
        "id": "OCE_4ZFsYb8E",
        "colab_type": "code",
        "outputId": "14e13630-005c-480c-f758-f41045343136",
        "colab": {
          "base_uri": "https://localhost:8080/",
          "height": 107
        }
      },
      "source": [
        "print(data['재무제표']) #재무제표 컬럼의 모든 값을 출력하기"
      ],
      "execution_count": 0,
      "outputs": [
        {
          "output_type": "stream",
          "text": [
            "0    재무상태표\n",
            "1    손익계산서\n",
            "2    현금흐름표\n",
            "3    자본변동표\n",
            "Name: 재무제표, dtype: object\n"
          ],
          "name": "stdout"
        }
      ]
    },
    {
      "cell_type": "code",
      "metadata": {
        "id": "S0vFOnIOcWYi",
        "colab_type": "code",
        "outputId": "d0213c2a-098b-433f-aa3c-36c0b5f22c4a",
        "colab": {
          "base_uri": "https://localhost:8080/",
          "height": 107
        }
      },
      "source": [
        "print(data.loc[0]) #0번째 데이터를 가져오기"
      ],
      "execution_count": 0,
      "outputs": [
        {
          "output_type": "stream",
          "text": [
            "code        1\n",
            "재무제표    재무상태표\n",
            "계정과목     매출채권\n",
            "금액       1500\n",
            "Name: 0, dtype: object\n"
          ],
          "name": "stdout"
        }
      ]
    },
    {
      "cell_type": "code",
      "metadata": {
        "id": "_Dc455EIc6Ye",
        "colab_type": "code",
        "outputId": "72bbf92a-4752-4767-8b86-62280c2625e9",
        "colab": {
          "base_uri": "https://localhost:8080/",
          "height": 35
        }
      },
      "source": [
        "print(data['계정과목'].loc[0]) #계정과목 컬럼의 0번째 데이터를 가져오기"
      ],
      "execution_count": 0,
      "outputs": [
        {
          "output_type": "stream",
          "text": [
            "매출채권\n"
          ],
          "name": "stdout"
        }
      ]
    },
    {
      "cell_type": "markdown",
      "metadata": {
        "id": "is6__YYCeine",
        "colab_type": "text"
      },
      "source": [
        "#10. 재고자산 단위원가결정방법 : 선입선출법"
      ]
    },
    {
      "cell_type": "code",
      "metadata": {
        "id": "UjZJb02oeev8",
        "colab_type": "code",
        "colab": {}
      },
      "source": [
        "#(1)출고단가와 출고금액이 모두 입력되어 있는 경우\n",
        "import numpy as np\n",
        "import pandas as pd"
      ],
      "execution_count": 0,
      "outputs": []
    },
    {
      "cell_type": "code",
      "metadata": {
        "id": "ddnYCpUVzoTJ",
        "colab_type": "code",
        "outputId": "fbdcbda7-64ba-4ec6-f03e-0755df8d8d93",
        "colab": {
          "base_uri": "https://localhost:8080/",
          "height": 35
        }
      },
      "source": [
        "from google.colab import drive\n",
        "drive.mount('/content/gdrive')"
      ],
      "execution_count": 0,
      "outputs": [
        {
          "output_type": "stream",
          "text": [
            "Drive already mounted at /content/gdrive; to attempt to forcibly remount, call drive.mount(\"/content/gdrive\", force_remount=True).\n"
          ],
          "name": "stdout"
        }
      ]
    },
    {
      "cell_type": "code",
      "metadata": {
        "id": "k_v1OmK-j09o",
        "colab_type": "code",
        "outputId": "6563bd1e-57f1-42f9-df10-359818b07215",
        "colab": {
          "base_uri": "https://localhost:8080/",
          "height": 161
        }
      },
      "source": [
        "df = pd.read_csv('/content/gdrive/My Drive/Colab Notebooks/inventory.csv',encoding='ms949')\n",
        "df.head()\n",
        "\n",
        "#encoding='ms949를 반드시 입력하여야 한다.\n",
        "print(df)\n",
        "\n"
      ],
      "execution_count": 0,
      "outputs": [
        {
          "output_type": "stream",
          "text": [
            "           일자    적요  입고수량   입고단가    입고금액  출고수량   출고단가    출고금액\n",
            "0  2017-03-01  전월이월     5  20000  100000     0      0       0\n",
            "1  2017-03-09    매입    15  18000  270000     0      0       0\n",
            "2  2017-03-16    매출     0      0       0     5  20000  100000\n",
            "3  2017-03-16    매출     0      0       0     5  18000   90000\n",
            "4  2017-03-24    매입    20  22000  440000     0      0       0\n",
            "5  2017-03-29    매출     0      0       0    10  18000  180000\n",
            "6  2017-03-29    매출     0      0       0     2  22000   44000\n"
          ],
          "name": "stdout"
        }
      ]
    },
    {
      "cell_type": "code",
      "metadata": {
        "id": "AvCRk9GmkQly",
        "colab_type": "code",
        "outputId": "5234ff8d-46c4-45ec-d522-78fd3e8aca89",
        "colab": {
          "base_uri": "https://localhost:8080/",
          "height": 187
        }
      },
      "source": [
        "#판다스에서 출력결과를 표형태로 보여주기 위해서는 style함수를 뒤에 붙이면 된다.\n",
        "df.style"
      ],
      "execution_count": 0,
      "outputs": [
        {
          "output_type": "execute_result",
          "data": {
            "text/html": [
              "<style  type=\"text/css\" >\n",
              "</style><table id=\"T_39232778_94f1_11ea_b6bd_0242ac1c0002\" ><thead>    <tr>        <th class=\"blank level0\" ></th>        <th class=\"col_heading level0 col0\" >일자</th>        <th class=\"col_heading level0 col1\" >적요</th>        <th class=\"col_heading level0 col2\" >입고수량</th>        <th class=\"col_heading level0 col3\" >입고단가</th>        <th class=\"col_heading level0 col4\" >입고금액</th>        <th class=\"col_heading level0 col5\" >출고수량</th>        <th class=\"col_heading level0 col6\" >출고단가</th>        <th class=\"col_heading level0 col7\" >출고금액</th>    </tr></thead><tbody>\n",
              "                <tr>\n",
              "                        <th id=\"T_39232778_94f1_11ea_b6bd_0242ac1c0002level0_row0\" class=\"row_heading level0 row0\" >0</th>\n",
              "                        <td id=\"T_39232778_94f1_11ea_b6bd_0242ac1c0002row0_col0\" class=\"data row0 col0\" >2017-03-01</td>\n",
              "                        <td id=\"T_39232778_94f1_11ea_b6bd_0242ac1c0002row0_col1\" class=\"data row0 col1\" >전월이월</td>\n",
              "                        <td id=\"T_39232778_94f1_11ea_b6bd_0242ac1c0002row0_col2\" class=\"data row0 col2\" >5</td>\n",
              "                        <td id=\"T_39232778_94f1_11ea_b6bd_0242ac1c0002row0_col3\" class=\"data row0 col3\" >20000</td>\n",
              "                        <td id=\"T_39232778_94f1_11ea_b6bd_0242ac1c0002row0_col4\" class=\"data row0 col4\" >100000</td>\n",
              "                        <td id=\"T_39232778_94f1_11ea_b6bd_0242ac1c0002row0_col5\" class=\"data row0 col5\" >0</td>\n",
              "                        <td id=\"T_39232778_94f1_11ea_b6bd_0242ac1c0002row0_col6\" class=\"data row0 col6\" >0</td>\n",
              "                        <td id=\"T_39232778_94f1_11ea_b6bd_0242ac1c0002row0_col7\" class=\"data row0 col7\" >0</td>\n",
              "            </tr>\n",
              "            <tr>\n",
              "                        <th id=\"T_39232778_94f1_11ea_b6bd_0242ac1c0002level0_row1\" class=\"row_heading level0 row1\" >1</th>\n",
              "                        <td id=\"T_39232778_94f1_11ea_b6bd_0242ac1c0002row1_col0\" class=\"data row1 col0\" >2017-03-09</td>\n",
              "                        <td id=\"T_39232778_94f1_11ea_b6bd_0242ac1c0002row1_col1\" class=\"data row1 col1\" >매입</td>\n",
              "                        <td id=\"T_39232778_94f1_11ea_b6bd_0242ac1c0002row1_col2\" class=\"data row1 col2\" >15</td>\n",
              "                        <td id=\"T_39232778_94f1_11ea_b6bd_0242ac1c0002row1_col3\" class=\"data row1 col3\" >18000</td>\n",
              "                        <td id=\"T_39232778_94f1_11ea_b6bd_0242ac1c0002row1_col4\" class=\"data row1 col4\" >270000</td>\n",
              "                        <td id=\"T_39232778_94f1_11ea_b6bd_0242ac1c0002row1_col5\" class=\"data row1 col5\" >0</td>\n",
              "                        <td id=\"T_39232778_94f1_11ea_b6bd_0242ac1c0002row1_col6\" class=\"data row1 col6\" >0</td>\n",
              "                        <td id=\"T_39232778_94f1_11ea_b6bd_0242ac1c0002row1_col7\" class=\"data row1 col7\" >0</td>\n",
              "            </tr>\n",
              "            <tr>\n",
              "                        <th id=\"T_39232778_94f1_11ea_b6bd_0242ac1c0002level0_row2\" class=\"row_heading level0 row2\" >2</th>\n",
              "                        <td id=\"T_39232778_94f1_11ea_b6bd_0242ac1c0002row2_col0\" class=\"data row2 col0\" >2017-03-16</td>\n",
              "                        <td id=\"T_39232778_94f1_11ea_b6bd_0242ac1c0002row2_col1\" class=\"data row2 col1\" >매출</td>\n",
              "                        <td id=\"T_39232778_94f1_11ea_b6bd_0242ac1c0002row2_col2\" class=\"data row2 col2\" >0</td>\n",
              "                        <td id=\"T_39232778_94f1_11ea_b6bd_0242ac1c0002row2_col3\" class=\"data row2 col3\" >0</td>\n",
              "                        <td id=\"T_39232778_94f1_11ea_b6bd_0242ac1c0002row2_col4\" class=\"data row2 col4\" >0</td>\n",
              "                        <td id=\"T_39232778_94f1_11ea_b6bd_0242ac1c0002row2_col5\" class=\"data row2 col5\" >5</td>\n",
              "                        <td id=\"T_39232778_94f1_11ea_b6bd_0242ac1c0002row2_col6\" class=\"data row2 col6\" >20000</td>\n",
              "                        <td id=\"T_39232778_94f1_11ea_b6bd_0242ac1c0002row2_col7\" class=\"data row2 col7\" >100000</td>\n",
              "            </tr>\n",
              "            <tr>\n",
              "                        <th id=\"T_39232778_94f1_11ea_b6bd_0242ac1c0002level0_row3\" class=\"row_heading level0 row3\" >3</th>\n",
              "                        <td id=\"T_39232778_94f1_11ea_b6bd_0242ac1c0002row3_col0\" class=\"data row3 col0\" >2017-03-16</td>\n",
              "                        <td id=\"T_39232778_94f1_11ea_b6bd_0242ac1c0002row3_col1\" class=\"data row3 col1\" >매출</td>\n",
              "                        <td id=\"T_39232778_94f1_11ea_b6bd_0242ac1c0002row3_col2\" class=\"data row3 col2\" >0</td>\n",
              "                        <td id=\"T_39232778_94f1_11ea_b6bd_0242ac1c0002row3_col3\" class=\"data row3 col3\" >0</td>\n",
              "                        <td id=\"T_39232778_94f1_11ea_b6bd_0242ac1c0002row3_col4\" class=\"data row3 col4\" >0</td>\n",
              "                        <td id=\"T_39232778_94f1_11ea_b6bd_0242ac1c0002row3_col5\" class=\"data row3 col5\" >5</td>\n",
              "                        <td id=\"T_39232778_94f1_11ea_b6bd_0242ac1c0002row3_col6\" class=\"data row3 col6\" >18000</td>\n",
              "                        <td id=\"T_39232778_94f1_11ea_b6bd_0242ac1c0002row3_col7\" class=\"data row3 col7\" >90000</td>\n",
              "            </tr>\n",
              "            <tr>\n",
              "                        <th id=\"T_39232778_94f1_11ea_b6bd_0242ac1c0002level0_row4\" class=\"row_heading level0 row4\" >4</th>\n",
              "                        <td id=\"T_39232778_94f1_11ea_b6bd_0242ac1c0002row4_col0\" class=\"data row4 col0\" >2017-03-24</td>\n",
              "                        <td id=\"T_39232778_94f1_11ea_b6bd_0242ac1c0002row4_col1\" class=\"data row4 col1\" >매입</td>\n",
              "                        <td id=\"T_39232778_94f1_11ea_b6bd_0242ac1c0002row4_col2\" class=\"data row4 col2\" >20</td>\n",
              "                        <td id=\"T_39232778_94f1_11ea_b6bd_0242ac1c0002row4_col3\" class=\"data row4 col3\" >22000</td>\n",
              "                        <td id=\"T_39232778_94f1_11ea_b6bd_0242ac1c0002row4_col4\" class=\"data row4 col4\" >440000</td>\n",
              "                        <td id=\"T_39232778_94f1_11ea_b6bd_0242ac1c0002row4_col5\" class=\"data row4 col5\" >0</td>\n",
              "                        <td id=\"T_39232778_94f1_11ea_b6bd_0242ac1c0002row4_col6\" class=\"data row4 col6\" >0</td>\n",
              "                        <td id=\"T_39232778_94f1_11ea_b6bd_0242ac1c0002row4_col7\" class=\"data row4 col7\" >0</td>\n",
              "            </tr>\n",
              "            <tr>\n",
              "                        <th id=\"T_39232778_94f1_11ea_b6bd_0242ac1c0002level0_row5\" class=\"row_heading level0 row5\" >5</th>\n",
              "                        <td id=\"T_39232778_94f1_11ea_b6bd_0242ac1c0002row5_col0\" class=\"data row5 col0\" >2017-03-29</td>\n",
              "                        <td id=\"T_39232778_94f1_11ea_b6bd_0242ac1c0002row5_col1\" class=\"data row5 col1\" >매출</td>\n",
              "                        <td id=\"T_39232778_94f1_11ea_b6bd_0242ac1c0002row5_col2\" class=\"data row5 col2\" >0</td>\n",
              "                        <td id=\"T_39232778_94f1_11ea_b6bd_0242ac1c0002row5_col3\" class=\"data row5 col3\" >0</td>\n",
              "                        <td id=\"T_39232778_94f1_11ea_b6bd_0242ac1c0002row5_col4\" class=\"data row5 col4\" >0</td>\n",
              "                        <td id=\"T_39232778_94f1_11ea_b6bd_0242ac1c0002row5_col5\" class=\"data row5 col5\" >10</td>\n",
              "                        <td id=\"T_39232778_94f1_11ea_b6bd_0242ac1c0002row5_col6\" class=\"data row5 col6\" >18000</td>\n",
              "                        <td id=\"T_39232778_94f1_11ea_b6bd_0242ac1c0002row5_col7\" class=\"data row5 col7\" >180000</td>\n",
              "            </tr>\n",
              "            <tr>\n",
              "                        <th id=\"T_39232778_94f1_11ea_b6bd_0242ac1c0002level0_row6\" class=\"row_heading level0 row6\" >6</th>\n",
              "                        <td id=\"T_39232778_94f1_11ea_b6bd_0242ac1c0002row6_col0\" class=\"data row6 col0\" >2017-03-29</td>\n",
              "                        <td id=\"T_39232778_94f1_11ea_b6bd_0242ac1c0002row6_col1\" class=\"data row6 col1\" >매출</td>\n",
              "                        <td id=\"T_39232778_94f1_11ea_b6bd_0242ac1c0002row6_col2\" class=\"data row6 col2\" >0</td>\n",
              "                        <td id=\"T_39232778_94f1_11ea_b6bd_0242ac1c0002row6_col3\" class=\"data row6 col3\" >0</td>\n",
              "                        <td id=\"T_39232778_94f1_11ea_b6bd_0242ac1c0002row6_col4\" class=\"data row6 col4\" >0</td>\n",
              "                        <td id=\"T_39232778_94f1_11ea_b6bd_0242ac1c0002row6_col5\" class=\"data row6 col5\" >2</td>\n",
              "                        <td id=\"T_39232778_94f1_11ea_b6bd_0242ac1c0002row6_col6\" class=\"data row6 col6\" >22000</td>\n",
              "                        <td id=\"T_39232778_94f1_11ea_b6bd_0242ac1c0002row6_col7\" class=\"data row6 col7\" >44000</td>\n",
              "            </tr>\n",
              "    </tbody></table>"
            ],
            "text/plain": [
              "<pandas.io.formats.style.Styler at 0x7fec6811d0b8>"
            ]
          },
          "metadata": {
            "tags": []
          },
          "execution_count": 49
        }
      ]
    },
    {
      "cell_type": "code",
      "metadata": {
        "id": "lQUyugE1wTjw",
        "colab_type": "code",
        "outputId": "de9a49c7-c2f7-429e-8722-1574220590e7",
        "colab": {
          "base_uri": "https://localhost:8080/",
          "height": 53
        }
      },
      "source": [
        "입고금액_합계 = df[\"입고금액\"].sum()\n",
        "출고금액_합계 = df[\"출고금액\"].sum()\n",
        "기말재고액 = 입고금액_합계 - 출고금액_합계\n",
        "매출원가 = 입고금액_합계 - 기말재고액\n",
        "print(\"매출원가: \", 매출원가)\n",
        "print(\"기말재고액: \", 기말재고액)"
      ],
      "execution_count": 0,
      "outputs": [
        {
          "output_type": "stream",
          "text": [
            "매출원가:  414000\n",
            "기말재고액:  396000\n"
          ],
          "name": "stdout"
        }
      ]
    },
    {
      "cell_type": "code",
      "metadata": {
        "id": "EPTul3b5wXtf",
        "colab_type": "code",
        "outputId": "e24c9cd0-c9a7-48e9-87f2-e772c3a41d3c",
        "colab": {
          "base_uri": "https://localhost:8080/",
          "height": 331
        }
      },
      "source": [
        "\t\n",
        "df = pd.read_csv('/content/gdrive/My Drive/Colab Notebooks/inventory1.csv', encoding='ms949')\n",
        "\n",
        "print(df)\n",
        "\n",
        "df.style"
      ],
      "execution_count": 0,
      "outputs": [
        {
          "output_type": "stream",
          "text": [
            "           일자    적요  입고수량   입고단가    입고금액  출고수량\n",
            "0  2017-03-01  전월이월     5  20000  100000     0\n",
            "1  2017-03-09    매입    15  18000  270000     0\n",
            "2  2017-03-16    매출     0      0       0     5\n",
            "3  2017-03-16    매출     0      0       0     5\n",
            "4  2017-03-24    매입    20  22000  440000     0\n",
            "5  2017-03-29    매출     0      0       0    10\n",
            "6  2017-03-29    매출     0      0       0     2\n"
          ],
          "name": "stdout"
        },
        {
          "output_type": "execute_result",
          "data": {
            "text/html": [
              "<style  type=\"text/css\" >\n",
              "</style><table id=\"T_58859308_94f1_11ea_b6bd_0242ac1c0002\" ><thead>    <tr>        <th class=\"blank level0\" ></th>        <th class=\"col_heading level0 col0\" >일자</th>        <th class=\"col_heading level0 col1\" >적요</th>        <th class=\"col_heading level0 col2\" >입고수량</th>        <th class=\"col_heading level0 col3\" >입고단가</th>        <th class=\"col_heading level0 col4\" >입고금액</th>        <th class=\"col_heading level0 col5\" >출고수량</th>    </tr></thead><tbody>\n",
              "                <tr>\n",
              "                        <th id=\"T_58859308_94f1_11ea_b6bd_0242ac1c0002level0_row0\" class=\"row_heading level0 row0\" >0</th>\n",
              "                        <td id=\"T_58859308_94f1_11ea_b6bd_0242ac1c0002row0_col0\" class=\"data row0 col0\" >2017-03-01</td>\n",
              "                        <td id=\"T_58859308_94f1_11ea_b6bd_0242ac1c0002row0_col1\" class=\"data row0 col1\" >전월이월</td>\n",
              "                        <td id=\"T_58859308_94f1_11ea_b6bd_0242ac1c0002row0_col2\" class=\"data row0 col2\" >5</td>\n",
              "                        <td id=\"T_58859308_94f1_11ea_b6bd_0242ac1c0002row0_col3\" class=\"data row0 col3\" >20000</td>\n",
              "                        <td id=\"T_58859308_94f1_11ea_b6bd_0242ac1c0002row0_col4\" class=\"data row0 col4\" >100000</td>\n",
              "                        <td id=\"T_58859308_94f1_11ea_b6bd_0242ac1c0002row0_col5\" class=\"data row0 col5\" >0</td>\n",
              "            </tr>\n",
              "            <tr>\n",
              "                        <th id=\"T_58859308_94f1_11ea_b6bd_0242ac1c0002level0_row1\" class=\"row_heading level0 row1\" >1</th>\n",
              "                        <td id=\"T_58859308_94f1_11ea_b6bd_0242ac1c0002row1_col0\" class=\"data row1 col0\" >2017-03-09</td>\n",
              "                        <td id=\"T_58859308_94f1_11ea_b6bd_0242ac1c0002row1_col1\" class=\"data row1 col1\" >매입</td>\n",
              "                        <td id=\"T_58859308_94f1_11ea_b6bd_0242ac1c0002row1_col2\" class=\"data row1 col2\" >15</td>\n",
              "                        <td id=\"T_58859308_94f1_11ea_b6bd_0242ac1c0002row1_col3\" class=\"data row1 col3\" >18000</td>\n",
              "                        <td id=\"T_58859308_94f1_11ea_b6bd_0242ac1c0002row1_col4\" class=\"data row1 col4\" >270000</td>\n",
              "                        <td id=\"T_58859308_94f1_11ea_b6bd_0242ac1c0002row1_col5\" class=\"data row1 col5\" >0</td>\n",
              "            </tr>\n",
              "            <tr>\n",
              "                        <th id=\"T_58859308_94f1_11ea_b6bd_0242ac1c0002level0_row2\" class=\"row_heading level0 row2\" >2</th>\n",
              "                        <td id=\"T_58859308_94f1_11ea_b6bd_0242ac1c0002row2_col0\" class=\"data row2 col0\" >2017-03-16</td>\n",
              "                        <td id=\"T_58859308_94f1_11ea_b6bd_0242ac1c0002row2_col1\" class=\"data row2 col1\" >매출</td>\n",
              "                        <td id=\"T_58859308_94f1_11ea_b6bd_0242ac1c0002row2_col2\" class=\"data row2 col2\" >0</td>\n",
              "                        <td id=\"T_58859308_94f1_11ea_b6bd_0242ac1c0002row2_col3\" class=\"data row2 col3\" >0</td>\n",
              "                        <td id=\"T_58859308_94f1_11ea_b6bd_0242ac1c0002row2_col4\" class=\"data row2 col4\" >0</td>\n",
              "                        <td id=\"T_58859308_94f1_11ea_b6bd_0242ac1c0002row2_col5\" class=\"data row2 col5\" >5</td>\n",
              "            </tr>\n",
              "            <tr>\n",
              "                        <th id=\"T_58859308_94f1_11ea_b6bd_0242ac1c0002level0_row3\" class=\"row_heading level0 row3\" >3</th>\n",
              "                        <td id=\"T_58859308_94f1_11ea_b6bd_0242ac1c0002row3_col0\" class=\"data row3 col0\" >2017-03-16</td>\n",
              "                        <td id=\"T_58859308_94f1_11ea_b6bd_0242ac1c0002row3_col1\" class=\"data row3 col1\" >매출</td>\n",
              "                        <td id=\"T_58859308_94f1_11ea_b6bd_0242ac1c0002row3_col2\" class=\"data row3 col2\" >0</td>\n",
              "                        <td id=\"T_58859308_94f1_11ea_b6bd_0242ac1c0002row3_col3\" class=\"data row3 col3\" >0</td>\n",
              "                        <td id=\"T_58859308_94f1_11ea_b6bd_0242ac1c0002row3_col4\" class=\"data row3 col4\" >0</td>\n",
              "                        <td id=\"T_58859308_94f1_11ea_b6bd_0242ac1c0002row3_col5\" class=\"data row3 col5\" >5</td>\n",
              "            </tr>\n",
              "            <tr>\n",
              "                        <th id=\"T_58859308_94f1_11ea_b6bd_0242ac1c0002level0_row4\" class=\"row_heading level0 row4\" >4</th>\n",
              "                        <td id=\"T_58859308_94f1_11ea_b6bd_0242ac1c0002row4_col0\" class=\"data row4 col0\" >2017-03-24</td>\n",
              "                        <td id=\"T_58859308_94f1_11ea_b6bd_0242ac1c0002row4_col1\" class=\"data row4 col1\" >매입</td>\n",
              "                        <td id=\"T_58859308_94f1_11ea_b6bd_0242ac1c0002row4_col2\" class=\"data row4 col2\" >20</td>\n",
              "                        <td id=\"T_58859308_94f1_11ea_b6bd_0242ac1c0002row4_col3\" class=\"data row4 col3\" >22000</td>\n",
              "                        <td id=\"T_58859308_94f1_11ea_b6bd_0242ac1c0002row4_col4\" class=\"data row4 col4\" >440000</td>\n",
              "                        <td id=\"T_58859308_94f1_11ea_b6bd_0242ac1c0002row4_col5\" class=\"data row4 col5\" >0</td>\n",
              "            </tr>\n",
              "            <tr>\n",
              "                        <th id=\"T_58859308_94f1_11ea_b6bd_0242ac1c0002level0_row5\" class=\"row_heading level0 row5\" >5</th>\n",
              "                        <td id=\"T_58859308_94f1_11ea_b6bd_0242ac1c0002row5_col0\" class=\"data row5 col0\" >2017-03-29</td>\n",
              "                        <td id=\"T_58859308_94f1_11ea_b6bd_0242ac1c0002row5_col1\" class=\"data row5 col1\" >매출</td>\n",
              "                        <td id=\"T_58859308_94f1_11ea_b6bd_0242ac1c0002row5_col2\" class=\"data row5 col2\" >0</td>\n",
              "                        <td id=\"T_58859308_94f1_11ea_b6bd_0242ac1c0002row5_col3\" class=\"data row5 col3\" >0</td>\n",
              "                        <td id=\"T_58859308_94f1_11ea_b6bd_0242ac1c0002row5_col4\" class=\"data row5 col4\" >0</td>\n",
              "                        <td id=\"T_58859308_94f1_11ea_b6bd_0242ac1c0002row5_col5\" class=\"data row5 col5\" >10</td>\n",
              "            </tr>\n",
              "            <tr>\n",
              "                        <th id=\"T_58859308_94f1_11ea_b6bd_0242ac1c0002level0_row6\" class=\"row_heading level0 row6\" >6</th>\n",
              "                        <td id=\"T_58859308_94f1_11ea_b6bd_0242ac1c0002row6_col0\" class=\"data row6 col0\" >2017-03-29</td>\n",
              "                        <td id=\"T_58859308_94f1_11ea_b6bd_0242ac1c0002row6_col1\" class=\"data row6 col1\" >매출</td>\n",
              "                        <td id=\"T_58859308_94f1_11ea_b6bd_0242ac1c0002row6_col2\" class=\"data row6 col2\" >0</td>\n",
              "                        <td id=\"T_58859308_94f1_11ea_b6bd_0242ac1c0002row6_col3\" class=\"data row6 col3\" >0</td>\n",
              "                        <td id=\"T_58859308_94f1_11ea_b6bd_0242ac1c0002row6_col4\" class=\"data row6 col4\" >0</td>\n",
              "                        <td id=\"T_58859308_94f1_11ea_b6bd_0242ac1c0002row6_col5\" class=\"data row6 col5\" >2</td>\n",
              "            </tr>\n",
              "    </tbody></table>"
            ],
            "text/plain": [
              "<pandas.io.formats.style.Styler at 0x7fec68219cf8>"
            ]
          },
          "metadata": {
            "tags": []
          },
          "execution_count": 52
        }
      ]
    },
    {
      "cell_type": "code",
      "metadata": {
        "id": "9xq4PO2qwfEI",
        "colab_type": "code",
        "outputId": "b02d4fde-98b7-4c6e-fa4b-9f4ecf41aed5",
        "colab": {
          "base_uri": "https://localhost:8080/",
          "height": 331
        }
      },
      "source": [
        "\t\n",
        "출고수량합계 = df['출고수량'].sum()\n",
        "\n",
        "df['입고수량누적'] = df['입고수량'].cumsum()\n",
        "\n",
        "print(df)\n",
        "\n",
        "df.style"
      ],
      "execution_count": 0,
      "outputs": [
        {
          "output_type": "stream",
          "text": [
            "           일자    적요  입고수량   입고단가    입고금액  출고수량  입고수량누적\n",
            "0  2017-03-01  전월이월     5  20000  100000     0       5\n",
            "1  2017-03-09    매입    15  18000  270000     0      20\n",
            "2  2017-03-16    매출     0      0       0     5      20\n",
            "3  2017-03-16    매출     0      0       0     5      20\n",
            "4  2017-03-24    매입    20  22000  440000     0      40\n",
            "5  2017-03-29    매출     0      0       0    10      40\n",
            "6  2017-03-29    매출     0      0       0     2      40\n"
          ],
          "name": "stdout"
        },
        {
          "output_type": "execute_result",
          "data": {
            "text/html": [
              "<style  type=\"text/css\" >\n",
              "</style><table id=\"T_5d8afa14_94f1_11ea_b6bd_0242ac1c0002\" ><thead>    <tr>        <th class=\"blank level0\" ></th>        <th class=\"col_heading level0 col0\" >일자</th>        <th class=\"col_heading level0 col1\" >적요</th>        <th class=\"col_heading level0 col2\" >입고수량</th>        <th class=\"col_heading level0 col3\" >입고단가</th>        <th class=\"col_heading level0 col4\" >입고금액</th>        <th class=\"col_heading level0 col5\" >출고수량</th>        <th class=\"col_heading level0 col6\" >입고수량누적</th>    </tr></thead><tbody>\n",
              "                <tr>\n",
              "                        <th id=\"T_5d8afa14_94f1_11ea_b6bd_0242ac1c0002level0_row0\" class=\"row_heading level0 row0\" >0</th>\n",
              "                        <td id=\"T_5d8afa14_94f1_11ea_b6bd_0242ac1c0002row0_col0\" class=\"data row0 col0\" >2017-03-01</td>\n",
              "                        <td id=\"T_5d8afa14_94f1_11ea_b6bd_0242ac1c0002row0_col1\" class=\"data row0 col1\" >전월이월</td>\n",
              "                        <td id=\"T_5d8afa14_94f1_11ea_b6bd_0242ac1c0002row0_col2\" class=\"data row0 col2\" >5</td>\n",
              "                        <td id=\"T_5d8afa14_94f1_11ea_b6bd_0242ac1c0002row0_col3\" class=\"data row0 col3\" >20000</td>\n",
              "                        <td id=\"T_5d8afa14_94f1_11ea_b6bd_0242ac1c0002row0_col4\" class=\"data row0 col4\" >100000</td>\n",
              "                        <td id=\"T_5d8afa14_94f1_11ea_b6bd_0242ac1c0002row0_col5\" class=\"data row0 col5\" >0</td>\n",
              "                        <td id=\"T_5d8afa14_94f1_11ea_b6bd_0242ac1c0002row0_col6\" class=\"data row0 col6\" >5</td>\n",
              "            </tr>\n",
              "            <tr>\n",
              "                        <th id=\"T_5d8afa14_94f1_11ea_b6bd_0242ac1c0002level0_row1\" class=\"row_heading level0 row1\" >1</th>\n",
              "                        <td id=\"T_5d8afa14_94f1_11ea_b6bd_0242ac1c0002row1_col0\" class=\"data row1 col0\" >2017-03-09</td>\n",
              "                        <td id=\"T_5d8afa14_94f1_11ea_b6bd_0242ac1c0002row1_col1\" class=\"data row1 col1\" >매입</td>\n",
              "                        <td id=\"T_5d8afa14_94f1_11ea_b6bd_0242ac1c0002row1_col2\" class=\"data row1 col2\" >15</td>\n",
              "                        <td id=\"T_5d8afa14_94f1_11ea_b6bd_0242ac1c0002row1_col3\" class=\"data row1 col3\" >18000</td>\n",
              "                        <td id=\"T_5d8afa14_94f1_11ea_b6bd_0242ac1c0002row1_col4\" class=\"data row1 col4\" >270000</td>\n",
              "                        <td id=\"T_5d8afa14_94f1_11ea_b6bd_0242ac1c0002row1_col5\" class=\"data row1 col5\" >0</td>\n",
              "                        <td id=\"T_5d8afa14_94f1_11ea_b6bd_0242ac1c0002row1_col6\" class=\"data row1 col6\" >20</td>\n",
              "            </tr>\n",
              "            <tr>\n",
              "                        <th id=\"T_5d8afa14_94f1_11ea_b6bd_0242ac1c0002level0_row2\" class=\"row_heading level0 row2\" >2</th>\n",
              "                        <td id=\"T_5d8afa14_94f1_11ea_b6bd_0242ac1c0002row2_col0\" class=\"data row2 col0\" >2017-03-16</td>\n",
              "                        <td id=\"T_5d8afa14_94f1_11ea_b6bd_0242ac1c0002row2_col1\" class=\"data row2 col1\" >매출</td>\n",
              "                        <td id=\"T_5d8afa14_94f1_11ea_b6bd_0242ac1c0002row2_col2\" class=\"data row2 col2\" >0</td>\n",
              "                        <td id=\"T_5d8afa14_94f1_11ea_b6bd_0242ac1c0002row2_col3\" class=\"data row2 col3\" >0</td>\n",
              "                        <td id=\"T_5d8afa14_94f1_11ea_b6bd_0242ac1c0002row2_col4\" class=\"data row2 col4\" >0</td>\n",
              "                        <td id=\"T_5d8afa14_94f1_11ea_b6bd_0242ac1c0002row2_col5\" class=\"data row2 col5\" >5</td>\n",
              "                        <td id=\"T_5d8afa14_94f1_11ea_b6bd_0242ac1c0002row2_col6\" class=\"data row2 col6\" >20</td>\n",
              "            </tr>\n",
              "            <tr>\n",
              "                        <th id=\"T_5d8afa14_94f1_11ea_b6bd_0242ac1c0002level0_row3\" class=\"row_heading level0 row3\" >3</th>\n",
              "                        <td id=\"T_5d8afa14_94f1_11ea_b6bd_0242ac1c0002row3_col0\" class=\"data row3 col0\" >2017-03-16</td>\n",
              "                        <td id=\"T_5d8afa14_94f1_11ea_b6bd_0242ac1c0002row3_col1\" class=\"data row3 col1\" >매출</td>\n",
              "                        <td id=\"T_5d8afa14_94f1_11ea_b6bd_0242ac1c0002row3_col2\" class=\"data row3 col2\" >0</td>\n",
              "                        <td id=\"T_5d8afa14_94f1_11ea_b6bd_0242ac1c0002row3_col3\" class=\"data row3 col3\" >0</td>\n",
              "                        <td id=\"T_5d8afa14_94f1_11ea_b6bd_0242ac1c0002row3_col4\" class=\"data row3 col4\" >0</td>\n",
              "                        <td id=\"T_5d8afa14_94f1_11ea_b6bd_0242ac1c0002row3_col5\" class=\"data row3 col5\" >5</td>\n",
              "                        <td id=\"T_5d8afa14_94f1_11ea_b6bd_0242ac1c0002row3_col6\" class=\"data row3 col6\" >20</td>\n",
              "            </tr>\n",
              "            <tr>\n",
              "                        <th id=\"T_5d8afa14_94f1_11ea_b6bd_0242ac1c0002level0_row4\" class=\"row_heading level0 row4\" >4</th>\n",
              "                        <td id=\"T_5d8afa14_94f1_11ea_b6bd_0242ac1c0002row4_col0\" class=\"data row4 col0\" >2017-03-24</td>\n",
              "                        <td id=\"T_5d8afa14_94f1_11ea_b6bd_0242ac1c0002row4_col1\" class=\"data row4 col1\" >매입</td>\n",
              "                        <td id=\"T_5d8afa14_94f1_11ea_b6bd_0242ac1c0002row4_col2\" class=\"data row4 col2\" >20</td>\n",
              "                        <td id=\"T_5d8afa14_94f1_11ea_b6bd_0242ac1c0002row4_col3\" class=\"data row4 col3\" >22000</td>\n",
              "                        <td id=\"T_5d8afa14_94f1_11ea_b6bd_0242ac1c0002row4_col4\" class=\"data row4 col4\" >440000</td>\n",
              "                        <td id=\"T_5d8afa14_94f1_11ea_b6bd_0242ac1c0002row4_col5\" class=\"data row4 col5\" >0</td>\n",
              "                        <td id=\"T_5d8afa14_94f1_11ea_b6bd_0242ac1c0002row4_col6\" class=\"data row4 col6\" >40</td>\n",
              "            </tr>\n",
              "            <tr>\n",
              "                        <th id=\"T_5d8afa14_94f1_11ea_b6bd_0242ac1c0002level0_row5\" class=\"row_heading level0 row5\" >5</th>\n",
              "                        <td id=\"T_5d8afa14_94f1_11ea_b6bd_0242ac1c0002row5_col0\" class=\"data row5 col0\" >2017-03-29</td>\n",
              "                        <td id=\"T_5d8afa14_94f1_11ea_b6bd_0242ac1c0002row5_col1\" class=\"data row5 col1\" >매출</td>\n",
              "                        <td id=\"T_5d8afa14_94f1_11ea_b6bd_0242ac1c0002row5_col2\" class=\"data row5 col2\" >0</td>\n",
              "                        <td id=\"T_5d8afa14_94f1_11ea_b6bd_0242ac1c0002row5_col3\" class=\"data row5 col3\" >0</td>\n",
              "                        <td id=\"T_5d8afa14_94f1_11ea_b6bd_0242ac1c0002row5_col4\" class=\"data row5 col4\" >0</td>\n",
              "                        <td id=\"T_5d8afa14_94f1_11ea_b6bd_0242ac1c0002row5_col5\" class=\"data row5 col5\" >10</td>\n",
              "                        <td id=\"T_5d8afa14_94f1_11ea_b6bd_0242ac1c0002row5_col6\" class=\"data row5 col6\" >40</td>\n",
              "            </tr>\n",
              "            <tr>\n",
              "                        <th id=\"T_5d8afa14_94f1_11ea_b6bd_0242ac1c0002level0_row6\" class=\"row_heading level0 row6\" >6</th>\n",
              "                        <td id=\"T_5d8afa14_94f1_11ea_b6bd_0242ac1c0002row6_col0\" class=\"data row6 col0\" >2017-03-29</td>\n",
              "                        <td id=\"T_5d8afa14_94f1_11ea_b6bd_0242ac1c0002row6_col1\" class=\"data row6 col1\" >매출</td>\n",
              "                        <td id=\"T_5d8afa14_94f1_11ea_b6bd_0242ac1c0002row6_col2\" class=\"data row6 col2\" >0</td>\n",
              "                        <td id=\"T_5d8afa14_94f1_11ea_b6bd_0242ac1c0002row6_col3\" class=\"data row6 col3\" >0</td>\n",
              "                        <td id=\"T_5d8afa14_94f1_11ea_b6bd_0242ac1c0002row6_col4\" class=\"data row6 col4\" >0</td>\n",
              "                        <td id=\"T_5d8afa14_94f1_11ea_b6bd_0242ac1c0002row6_col5\" class=\"data row6 col5\" >2</td>\n",
              "                        <td id=\"T_5d8afa14_94f1_11ea_b6bd_0242ac1c0002row6_col6\" class=\"data row6 col6\" >40</td>\n",
              "            </tr>\n",
              "    </tbody></table>"
            ],
            "text/plain": [
              "<pandas.io.formats.style.Styler at 0x7fec682199e8>"
            ]
          },
          "metadata": {
            "tags": []
          },
          "execution_count": 53
        }
      ]
    },
    {
      "cell_type": "code",
      "metadata": {
        "id": "lTV6We8mwjj3",
        "colab_type": "code",
        "outputId": "690d534f-2d03-4e60-8e0d-0946c8b4ba4a",
        "colab": {
          "base_uri": "https://localhost:8080/",
          "height": 331
        }
      },
      "source": [
        "df['출고순서누적'] = df['입고수량누적'].apply(lambda x:출고수량합계 if x >= 출고수량합계 else x)\n",
        "print(df)\n",
        "df.style"
      ],
      "execution_count": 0,
      "outputs": [
        {
          "output_type": "stream",
          "text": [
            "           일자    적요  입고수량   입고단가    입고금액  출고수량  입고수량누적  출고순서누적\n",
            "0  2017-03-01  전월이월     5  20000  100000     0       5       5\n",
            "1  2017-03-09    매입    15  18000  270000     0      20      20\n",
            "2  2017-03-16    매출     0      0       0     5      20      20\n",
            "3  2017-03-16    매출     0      0       0     5      20      20\n",
            "4  2017-03-24    매입    20  22000  440000     0      40      22\n",
            "5  2017-03-29    매출     0      0       0    10      40      22\n",
            "6  2017-03-29    매출     0      0       0     2      40      22\n"
          ],
          "name": "stdout"
        },
        {
          "output_type": "execute_result",
          "data": {
            "text/html": [
              "<style  type=\"text/css\" >\n",
              "</style><table id=\"T_6f87fbf4_94f1_11ea_b6bd_0242ac1c0002\" ><thead>    <tr>        <th class=\"blank level0\" ></th>        <th class=\"col_heading level0 col0\" >일자</th>        <th class=\"col_heading level0 col1\" >적요</th>        <th class=\"col_heading level0 col2\" >입고수량</th>        <th class=\"col_heading level0 col3\" >입고단가</th>        <th class=\"col_heading level0 col4\" >입고금액</th>        <th class=\"col_heading level0 col5\" >출고수량</th>        <th class=\"col_heading level0 col6\" >입고수량누적</th>        <th class=\"col_heading level0 col7\" >출고순서누적</th>    </tr></thead><tbody>\n",
              "                <tr>\n",
              "                        <th id=\"T_6f87fbf4_94f1_11ea_b6bd_0242ac1c0002level0_row0\" class=\"row_heading level0 row0\" >0</th>\n",
              "                        <td id=\"T_6f87fbf4_94f1_11ea_b6bd_0242ac1c0002row0_col0\" class=\"data row0 col0\" >2017-03-01</td>\n",
              "                        <td id=\"T_6f87fbf4_94f1_11ea_b6bd_0242ac1c0002row0_col1\" class=\"data row0 col1\" >전월이월</td>\n",
              "                        <td id=\"T_6f87fbf4_94f1_11ea_b6bd_0242ac1c0002row0_col2\" class=\"data row0 col2\" >5</td>\n",
              "                        <td id=\"T_6f87fbf4_94f1_11ea_b6bd_0242ac1c0002row0_col3\" class=\"data row0 col3\" >20000</td>\n",
              "                        <td id=\"T_6f87fbf4_94f1_11ea_b6bd_0242ac1c0002row0_col4\" class=\"data row0 col4\" >100000</td>\n",
              "                        <td id=\"T_6f87fbf4_94f1_11ea_b6bd_0242ac1c0002row0_col5\" class=\"data row0 col5\" >0</td>\n",
              "                        <td id=\"T_6f87fbf4_94f1_11ea_b6bd_0242ac1c0002row0_col6\" class=\"data row0 col6\" >5</td>\n",
              "                        <td id=\"T_6f87fbf4_94f1_11ea_b6bd_0242ac1c0002row0_col7\" class=\"data row0 col7\" >5</td>\n",
              "            </tr>\n",
              "            <tr>\n",
              "                        <th id=\"T_6f87fbf4_94f1_11ea_b6bd_0242ac1c0002level0_row1\" class=\"row_heading level0 row1\" >1</th>\n",
              "                        <td id=\"T_6f87fbf4_94f1_11ea_b6bd_0242ac1c0002row1_col0\" class=\"data row1 col0\" >2017-03-09</td>\n",
              "                        <td id=\"T_6f87fbf4_94f1_11ea_b6bd_0242ac1c0002row1_col1\" class=\"data row1 col1\" >매입</td>\n",
              "                        <td id=\"T_6f87fbf4_94f1_11ea_b6bd_0242ac1c0002row1_col2\" class=\"data row1 col2\" >15</td>\n",
              "                        <td id=\"T_6f87fbf4_94f1_11ea_b6bd_0242ac1c0002row1_col3\" class=\"data row1 col3\" >18000</td>\n",
              "                        <td id=\"T_6f87fbf4_94f1_11ea_b6bd_0242ac1c0002row1_col4\" class=\"data row1 col4\" >270000</td>\n",
              "                        <td id=\"T_6f87fbf4_94f1_11ea_b6bd_0242ac1c0002row1_col5\" class=\"data row1 col5\" >0</td>\n",
              "                        <td id=\"T_6f87fbf4_94f1_11ea_b6bd_0242ac1c0002row1_col6\" class=\"data row1 col6\" >20</td>\n",
              "                        <td id=\"T_6f87fbf4_94f1_11ea_b6bd_0242ac1c0002row1_col7\" class=\"data row1 col7\" >20</td>\n",
              "            </tr>\n",
              "            <tr>\n",
              "                        <th id=\"T_6f87fbf4_94f1_11ea_b6bd_0242ac1c0002level0_row2\" class=\"row_heading level0 row2\" >2</th>\n",
              "                        <td id=\"T_6f87fbf4_94f1_11ea_b6bd_0242ac1c0002row2_col0\" class=\"data row2 col0\" >2017-03-16</td>\n",
              "                        <td id=\"T_6f87fbf4_94f1_11ea_b6bd_0242ac1c0002row2_col1\" class=\"data row2 col1\" >매출</td>\n",
              "                        <td id=\"T_6f87fbf4_94f1_11ea_b6bd_0242ac1c0002row2_col2\" class=\"data row2 col2\" >0</td>\n",
              "                        <td id=\"T_6f87fbf4_94f1_11ea_b6bd_0242ac1c0002row2_col3\" class=\"data row2 col3\" >0</td>\n",
              "                        <td id=\"T_6f87fbf4_94f1_11ea_b6bd_0242ac1c0002row2_col4\" class=\"data row2 col4\" >0</td>\n",
              "                        <td id=\"T_6f87fbf4_94f1_11ea_b6bd_0242ac1c0002row2_col5\" class=\"data row2 col5\" >5</td>\n",
              "                        <td id=\"T_6f87fbf4_94f1_11ea_b6bd_0242ac1c0002row2_col6\" class=\"data row2 col6\" >20</td>\n",
              "                        <td id=\"T_6f87fbf4_94f1_11ea_b6bd_0242ac1c0002row2_col7\" class=\"data row2 col7\" >20</td>\n",
              "            </tr>\n",
              "            <tr>\n",
              "                        <th id=\"T_6f87fbf4_94f1_11ea_b6bd_0242ac1c0002level0_row3\" class=\"row_heading level0 row3\" >3</th>\n",
              "                        <td id=\"T_6f87fbf4_94f1_11ea_b6bd_0242ac1c0002row3_col0\" class=\"data row3 col0\" >2017-03-16</td>\n",
              "                        <td id=\"T_6f87fbf4_94f1_11ea_b6bd_0242ac1c0002row3_col1\" class=\"data row3 col1\" >매출</td>\n",
              "                        <td id=\"T_6f87fbf4_94f1_11ea_b6bd_0242ac1c0002row3_col2\" class=\"data row3 col2\" >0</td>\n",
              "                        <td id=\"T_6f87fbf4_94f1_11ea_b6bd_0242ac1c0002row3_col3\" class=\"data row3 col3\" >0</td>\n",
              "                        <td id=\"T_6f87fbf4_94f1_11ea_b6bd_0242ac1c0002row3_col4\" class=\"data row3 col4\" >0</td>\n",
              "                        <td id=\"T_6f87fbf4_94f1_11ea_b6bd_0242ac1c0002row3_col5\" class=\"data row3 col5\" >5</td>\n",
              "                        <td id=\"T_6f87fbf4_94f1_11ea_b6bd_0242ac1c0002row3_col6\" class=\"data row3 col6\" >20</td>\n",
              "                        <td id=\"T_6f87fbf4_94f1_11ea_b6bd_0242ac1c0002row3_col7\" class=\"data row3 col7\" >20</td>\n",
              "            </tr>\n",
              "            <tr>\n",
              "                        <th id=\"T_6f87fbf4_94f1_11ea_b6bd_0242ac1c0002level0_row4\" class=\"row_heading level0 row4\" >4</th>\n",
              "                        <td id=\"T_6f87fbf4_94f1_11ea_b6bd_0242ac1c0002row4_col0\" class=\"data row4 col0\" >2017-03-24</td>\n",
              "                        <td id=\"T_6f87fbf4_94f1_11ea_b6bd_0242ac1c0002row4_col1\" class=\"data row4 col1\" >매입</td>\n",
              "                        <td id=\"T_6f87fbf4_94f1_11ea_b6bd_0242ac1c0002row4_col2\" class=\"data row4 col2\" >20</td>\n",
              "                        <td id=\"T_6f87fbf4_94f1_11ea_b6bd_0242ac1c0002row4_col3\" class=\"data row4 col3\" >22000</td>\n",
              "                        <td id=\"T_6f87fbf4_94f1_11ea_b6bd_0242ac1c0002row4_col4\" class=\"data row4 col4\" >440000</td>\n",
              "                        <td id=\"T_6f87fbf4_94f1_11ea_b6bd_0242ac1c0002row4_col5\" class=\"data row4 col5\" >0</td>\n",
              "                        <td id=\"T_6f87fbf4_94f1_11ea_b6bd_0242ac1c0002row4_col6\" class=\"data row4 col6\" >40</td>\n",
              "                        <td id=\"T_6f87fbf4_94f1_11ea_b6bd_0242ac1c0002row4_col7\" class=\"data row4 col7\" >22</td>\n",
              "            </tr>\n",
              "            <tr>\n",
              "                        <th id=\"T_6f87fbf4_94f1_11ea_b6bd_0242ac1c0002level0_row5\" class=\"row_heading level0 row5\" >5</th>\n",
              "                        <td id=\"T_6f87fbf4_94f1_11ea_b6bd_0242ac1c0002row5_col0\" class=\"data row5 col0\" >2017-03-29</td>\n",
              "                        <td id=\"T_6f87fbf4_94f1_11ea_b6bd_0242ac1c0002row5_col1\" class=\"data row5 col1\" >매출</td>\n",
              "                        <td id=\"T_6f87fbf4_94f1_11ea_b6bd_0242ac1c0002row5_col2\" class=\"data row5 col2\" >0</td>\n",
              "                        <td id=\"T_6f87fbf4_94f1_11ea_b6bd_0242ac1c0002row5_col3\" class=\"data row5 col3\" >0</td>\n",
              "                        <td id=\"T_6f87fbf4_94f1_11ea_b6bd_0242ac1c0002row5_col4\" class=\"data row5 col4\" >0</td>\n",
              "                        <td id=\"T_6f87fbf4_94f1_11ea_b6bd_0242ac1c0002row5_col5\" class=\"data row5 col5\" >10</td>\n",
              "                        <td id=\"T_6f87fbf4_94f1_11ea_b6bd_0242ac1c0002row5_col6\" class=\"data row5 col6\" >40</td>\n",
              "                        <td id=\"T_6f87fbf4_94f1_11ea_b6bd_0242ac1c0002row5_col7\" class=\"data row5 col7\" >22</td>\n",
              "            </tr>\n",
              "            <tr>\n",
              "                        <th id=\"T_6f87fbf4_94f1_11ea_b6bd_0242ac1c0002level0_row6\" class=\"row_heading level0 row6\" >6</th>\n",
              "                        <td id=\"T_6f87fbf4_94f1_11ea_b6bd_0242ac1c0002row6_col0\" class=\"data row6 col0\" >2017-03-29</td>\n",
              "                        <td id=\"T_6f87fbf4_94f1_11ea_b6bd_0242ac1c0002row6_col1\" class=\"data row6 col1\" >매출</td>\n",
              "                        <td id=\"T_6f87fbf4_94f1_11ea_b6bd_0242ac1c0002row6_col2\" class=\"data row6 col2\" >0</td>\n",
              "                        <td id=\"T_6f87fbf4_94f1_11ea_b6bd_0242ac1c0002row6_col3\" class=\"data row6 col3\" >0</td>\n",
              "                        <td id=\"T_6f87fbf4_94f1_11ea_b6bd_0242ac1c0002row6_col4\" class=\"data row6 col4\" >0</td>\n",
              "                        <td id=\"T_6f87fbf4_94f1_11ea_b6bd_0242ac1c0002row6_col5\" class=\"data row6 col5\" >2</td>\n",
              "                        <td id=\"T_6f87fbf4_94f1_11ea_b6bd_0242ac1c0002row6_col6\" class=\"data row6 col6\" >40</td>\n",
              "                        <td id=\"T_6f87fbf4_94f1_11ea_b6bd_0242ac1c0002row6_col7\" class=\"data row6 col7\" >22</td>\n",
              "            </tr>\n",
              "    </tbody></table>"
            ],
            "text/plain": [
              "<pandas.io.formats.style.Styler at 0x7fec6811d908>"
            ]
          },
          "metadata": {
            "tags": []
          },
          "execution_count": 54
        }
      ]
    },
    {
      "cell_type": "code",
      "metadata": {
        "id": "TTKVzvA7wmIg",
        "colab_type": "code",
        "outputId": "b925df3a-632d-48bc-b232-447ac48e7c0a",
        "colab": {
          "base_uri": "https://localhost:8080/",
          "height": 331
        }
      },
      "source": [
        "df['출고순서누적'] = df['입고수량누적'].apply(lambda x:출고수량합계 if x >= 출고수량합계 else x)\n",
        "# 만약 x가 출고수량합계(22)보다 크거나 같으면 출고수량합계이며 그렇지 않으면 x인 람다함수를 '입고수량누적' 칼럼에 적용한 것을 '출고순서누적' 칼럼으로 추가 생성한다.\n",
        "print(df)\n",
        "df.style"
      ],
      "execution_count": 0,
      "outputs": [
        {
          "output_type": "stream",
          "text": [
            "           일자    적요  입고수량   입고단가    입고금액  출고수량  입고수량누적  출고순서누적\n",
            "0  2017-03-01  전월이월     5  20000  100000     0       5       5\n",
            "1  2017-03-09    매입    15  18000  270000     0      20      20\n",
            "2  2017-03-16    매출     0      0       0     5      20      20\n",
            "3  2017-03-16    매출     0      0       0     5      20      20\n",
            "4  2017-03-24    매입    20  22000  440000     0      40      22\n",
            "5  2017-03-29    매출     0      0       0    10      40      22\n",
            "6  2017-03-29    매출     0      0       0     2      40      22\n"
          ],
          "name": "stdout"
        },
        {
          "output_type": "execute_result",
          "data": {
            "text/html": [
              "<style  type=\"text/css\" >\n",
              "</style><table id=\"T_80867b06_94f1_11ea_b6bd_0242ac1c0002\" ><thead>    <tr>        <th class=\"blank level0\" ></th>        <th class=\"col_heading level0 col0\" >일자</th>        <th class=\"col_heading level0 col1\" >적요</th>        <th class=\"col_heading level0 col2\" >입고수량</th>        <th class=\"col_heading level0 col3\" >입고단가</th>        <th class=\"col_heading level0 col4\" >입고금액</th>        <th class=\"col_heading level0 col5\" >출고수량</th>        <th class=\"col_heading level0 col6\" >입고수량누적</th>        <th class=\"col_heading level0 col7\" >출고순서누적</th>    </tr></thead><tbody>\n",
              "                <tr>\n",
              "                        <th id=\"T_80867b06_94f1_11ea_b6bd_0242ac1c0002level0_row0\" class=\"row_heading level0 row0\" >0</th>\n",
              "                        <td id=\"T_80867b06_94f1_11ea_b6bd_0242ac1c0002row0_col0\" class=\"data row0 col0\" >2017-03-01</td>\n",
              "                        <td id=\"T_80867b06_94f1_11ea_b6bd_0242ac1c0002row0_col1\" class=\"data row0 col1\" >전월이월</td>\n",
              "                        <td id=\"T_80867b06_94f1_11ea_b6bd_0242ac1c0002row0_col2\" class=\"data row0 col2\" >5</td>\n",
              "                        <td id=\"T_80867b06_94f1_11ea_b6bd_0242ac1c0002row0_col3\" class=\"data row0 col3\" >20000</td>\n",
              "                        <td id=\"T_80867b06_94f1_11ea_b6bd_0242ac1c0002row0_col4\" class=\"data row0 col4\" >100000</td>\n",
              "                        <td id=\"T_80867b06_94f1_11ea_b6bd_0242ac1c0002row0_col5\" class=\"data row0 col5\" >0</td>\n",
              "                        <td id=\"T_80867b06_94f1_11ea_b6bd_0242ac1c0002row0_col6\" class=\"data row0 col6\" >5</td>\n",
              "                        <td id=\"T_80867b06_94f1_11ea_b6bd_0242ac1c0002row0_col7\" class=\"data row0 col7\" >5</td>\n",
              "            </tr>\n",
              "            <tr>\n",
              "                        <th id=\"T_80867b06_94f1_11ea_b6bd_0242ac1c0002level0_row1\" class=\"row_heading level0 row1\" >1</th>\n",
              "                        <td id=\"T_80867b06_94f1_11ea_b6bd_0242ac1c0002row1_col0\" class=\"data row1 col0\" >2017-03-09</td>\n",
              "                        <td id=\"T_80867b06_94f1_11ea_b6bd_0242ac1c0002row1_col1\" class=\"data row1 col1\" >매입</td>\n",
              "                        <td id=\"T_80867b06_94f1_11ea_b6bd_0242ac1c0002row1_col2\" class=\"data row1 col2\" >15</td>\n",
              "                        <td id=\"T_80867b06_94f1_11ea_b6bd_0242ac1c0002row1_col3\" class=\"data row1 col3\" >18000</td>\n",
              "                        <td id=\"T_80867b06_94f1_11ea_b6bd_0242ac1c0002row1_col4\" class=\"data row1 col4\" >270000</td>\n",
              "                        <td id=\"T_80867b06_94f1_11ea_b6bd_0242ac1c0002row1_col5\" class=\"data row1 col5\" >0</td>\n",
              "                        <td id=\"T_80867b06_94f1_11ea_b6bd_0242ac1c0002row1_col6\" class=\"data row1 col6\" >20</td>\n",
              "                        <td id=\"T_80867b06_94f1_11ea_b6bd_0242ac1c0002row1_col7\" class=\"data row1 col7\" >20</td>\n",
              "            </tr>\n",
              "            <tr>\n",
              "                        <th id=\"T_80867b06_94f1_11ea_b6bd_0242ac1c0002level0_row2\" class=\"row_heading level0 row2\" >2</th>\n",
              "                        <td id=\"T_80867b06_94f1_11ea_b6bd_0242ac1c0002row2_col0\" class=\"data row2 col0\" >2017-03-16</td>\n",
              "                        <td id=\"T_80867b06_94f1_11ea_b6bd_0242ac1c0002row2_col1\" class=\"data row2 col1\" >매출</td>\n",
              "                        <td id=\"T_80867b06_94f1_11ea_b6bd_0242ac1c0002row2_col2\" class=\"data row2 col2\" >0</td>\n",
              "                        <td id=\"T_80867b06_94f1_11ea_b6bd_0242ac1c0002row2_col3\" class=\"data row2 col3\" >0</td>\n",
              "                        <td id=\"T_80867b06_94f1_11ea_b6bd_0242ac1c0002row2_col4\" class=\"data row2 col4\" >0</td>\n",
              "                        <td id=\"T_80867b06_94f1_11ea_b6bd_0242ac1c0002row2_col5\" class=\"data row2 col5\" >5</td>\n",
              "                        <td id=\"T_80867b06_94f1_11ea_b6bd_0242ac1c0002row2_col6\" class=\"data row2 col6\" >20</td>\n",
              "                        <td id=\"T_80867b06_94f1_11ea_b6bd_0242ac1c0002row2_col7\" class=\"data row2 col7\" >20</td>\n",
              "            </tr>\n",
              "            <tr>\n",
              "                        <th id=\"T_80867b06_94f1_11ea_b6bd_0242ac1c0002level0_row3\" class=\"row_heading level0 row3\" >3</th>\n",
              "                        <td id=\"T_80867b06_94f1_11ea_b6bd_0242ac1c0002row3_col0\" class=\"data row3 col0\" >2017-03-16</td>\n",
              "                        <td id=\"T_80867b06_94f1_11ea_b6bd_0242ac1c0002row3_col1\" class=\"data row3 col1\" >매출</td>\n",
              "                        <td id=\"T_80867b06_94f1_11ea_b6bd_0242ac1c0002row3_col2\" class=\"data row3 col2\" >0</td>\n",
              "                        <td id=\"T_80867b06_94f1_11ea_b6bd_0242ac1c0002row3_col3\" class=\"data row3 col3\" >0</td>\n",
              "                        <td id=\"T_80867b06_94f1_11ea_b6bd_0242ac1c0002row3_col4\" class=\"data row3 col4\" >0</td>\n",
              "                        <td id=\"T_80867b06_94f1_11ea_b6bd_0242ac1c0002row3_col5\" class=\"data row3 col5\" >5</td>\n",
              "                        <td id=\"T_80867b06_94f1_11ea_b6bd_0242ac1c0002row3_col6\" class=\"data row3 col6\" >20</td>\n",
              "                        <td id=\"T_80867b06_94f1_11ea_b6bd_0242ac1c0002row3_col7\" class=\"data row3 col7\" >20</td>\n",
              "            </tr>\n",
              "            <tr>\n",
              "                        <th id=\"T_80867b06_94f1_11ea_b6bd_0242ac1c0002level0_row4\" class=\"row_heading level0 row4\" >4</th>\n",
              "                        <td id=\"T_80867b06_94f1_11ea_b6bd_0242ac1c0002row4_col0\" class=\"data row4 col0\" >2017-03-24</td>\n",
              "                        <td id=\"T_80867b06_94f1_11ea_b6bd_0242ac1c0002row4_col1\" class=\"data row4 col1\" >매입</td>\n",
              "                        <td id=\"T_80867b06_94f1_11ea_b6bd_0242ac1c0002row4_col2\" class=\"data row4 col2\" >20</td>\n",
              "                        <td id=\"T_80867b06_94f1_11ea_b6bd_0242ac1c0002row4_col3\" class=\"data row4 col3\" >22000</td>\n",
              "                        <td id=\"T_80867b06_94f1_11ea_b6bd_0242ac1c0002row4_col4\" class=\"data row4 col4\" >440000</td>\n",
              "                        <td id=\"T_80867b06_94f1_11ea_b6bd_0242ac1c0002row4_col5\" class=\"data row4 col5\" >0</td>\n",
              "                        <td id=\"T_80867b06_94f1_11ea_b6bd_0242ac1c0002row4_col6\" class=\"data row4 col6\" >40</td>\n",
              "                        <td id=\"T_80867b06_94f1_11ea_b6bd_0242ac1c0002row4_col7\" class=\"data row4 col7\" >22</td>\n",
              "            </tr>\n",
              "            <tr>\n",
              "                        <th id=\"T_80867b06_94f1_11ea_b6bd_0242ac1c0002level0_row5\" class=\"row_heading level0 row5\" >5</th>\n",
              "                        <td id=\"T_80867b06_94f1_11ea_b6bd_0242ac1c0002row5_col0\" class=\"data row5 col0\" >2017-03-29</td>\n",
              "                        <td id=\"T_80867b06_94f1_11ea_b6bd_0242ac1c0002row5_col1\" class=\"data row5 col1\" >매출</td>\n",
              "                        <td id=\"T_80867b06_94f1_11ea_b6bd_0242ac1c0002row5_col2\" class=\"data row5 col2\" >0</td>\n",
              "                        <td id=\"T_80867b06_94f1_11ea_b6bd_0242ac1c0002row5_col3\" class=\"data row5 col3\" >0</td>\n",
              "                        <td id=\"T_80867b06_94f1_11ea_b6bd_0242ac1c0002row5_col4\" class=\"data row5 col4\" >0</td>\n",
              "                        <td id=\"T_80867b06_94f1_11ea_b6bd_0242ac1c0002row5_col5\" class=\"data row5 col5\" >10</td>\n",
              "                        <td id=\"T_80867b06_94f1_11ea_b6bd_0242ac1c0002row5_col6\" class=\"data row5 col6\" >40</td>\n",
              "                        <td id=\"T_80867b06_94f1_11ea_b6bd_0242ac1c0002row5_col7\" class=\"data row5 col7\" >22</td>\n",
              "            </tr>\n",
              "            <tr>\n",
              "                        <th id=\"T_80867b06_94f1_11ea_b6bd_0242ac1c0002level0_row6\" class=\"row_heading level0 row6\" >6</th>\n",
              "                        <td id=\"T_80867b06_94f1_11ea_b6bd_0242ac1c0002row6_col0\" class=\"data row6 col0\" >2017-03-29</td>\n",
              "                        <td id=\"T_80867b06_94f1_11ea_b6bd_0242ac1c0002row6_col1\" class=\"data row6 col1\" >매출</td>\n",
              "                        <td id=\"T_80867b06_94f1_11ea_b6bd_0242ac1c0002row6_col2\" class=\"data row6 col2\" >0</td>\n",
              "                        <td id=\"T_80867b06_94f1_11ea_b6bd_0242ac1c0002row6_col3\" class=\"data row6 col3\" >0</td>\n",
              "                        <td id=\"T_80867b06_94f1_11ea_b6bd_0242ac1c0002row6_col4\" class=\"data row6 col4\" >0</td>\n",
              "                        <td id=\"T_80867b06_94f1_11ea_b6bd_0242ac1c0002row6_col5\" class=\"data row6 col5\" >2</td>\n",
              "                        <td id=\"T_80867b06_94f1_11ea_b6bd_0242ac1c0002row6_col6\" class=\"data row6 col6\" >40</td>\n",
              "                        <td id=\"T_80867b06_94f1_11ea_b6bd_0242ac1c0002row6_col7\" class=\"data row6 col7\" >22</td>\n",
              "            </tr>\n",
              "    </tbody></table>"
            ],
            "text/plain": [
              "<pandas.io.formats.style.Styler at 0x7fec6811d630>"
            ]
          },
          "metadata": {
            "tags": []
          },
          "execution_count": 55
        }
      ]
    },
    {
      "cell_type": "code",
      "metadata": {
        "id": "Ll6PStrXwols",
        "colab_type": "code",
        "outputId": "0c72b6b8-47af-4c44-8a92-81b173995013",
        "colab": {
          "base_uri": "https://localhost:8080/",
          "height": 331
        }
      },
      "source": [
        "df['출고순서_shift'] = df['출고순서누적'].shift(1).fillna(0)\n",
        "# '출고순서누적' 칼럼의 값을 한행씩 아래로 이동(shift(1))하고 첫 번째 행이 아래로 내려오면서 발생하는 NaN 값을 0으로 처리하기 위해서 fillna(0)으로 처리한다.\n",
        "print(df)\n",
        "df.style"
      ],
      "execution_count": 0,
      "outputs": [
        {
          "output_type": "stream",
          "text": [
            "           일자    적요  입고수량   입고단가    입고금액  출고수량  입고수량누적  출고순서누적  출고순서_shift\n",
            "0  2017-03-01  전월이월     5  20000  100000     0       5       5         0.0\n",
            "1  2017-03-09    매입    15  18000  270000     0      20      20         5.0\n",
            "2  2017-03-16    매출     0      0       0     5      20      20        20.0\n",
            "3  2017-03-16    매출     0      0       0     5      20      20        20.0\n",
            "4  2017-03-24    매입    20  22000  440000     0      40      22        20.0\n",
            "5  2017-03-29    매출     0      0       0    10      40      22        22.0\n",
            "6  2017-03-29    매출     0      0       0     2      40      22        22.0\n"
          ],
          "name": "stdout"
        },
        {
          "output_type": "execute_result",
          "data": {
            "text/html": [
              "<style  type=\"text/css\" >\n",
              "</style><table id=\"T_893786f0_94f1_11ea_b6bd_0242ac1c0002\" ><thead>    <tr>        <th class=\"blank level0\" ></th>        <th class=\"col_heading level0 col0\" >일자</th>        <th class=\"col_heading level0 col1\" >적요</th>        <th class=\"col_heading level0 col2\" >입고수량</th>        <th class=\"col_heading level0 col3\" >입고단가</th>        <th class=\"col_heading level0 col4\" >입고금액</th>        <th class=\"col_heading level0 col5\" >출고수량</th>        <th class=\"col_heading level0 col6\" >입고수량누적</th>        <th class=\"col_heading level0 col7\" >출고순서누적</th>        <th class=\"col_heading level0 col8\" >출고순서_shift</th>    </tr></thead><tbody>\n",
              "                <tr>\n",
              "                        <th id=\"T_893786f0_94f1_11ea_b6bd_0242ac1c0002level0_row0\" class=\"row_heading level0 row0\" >0</th>\n",
              "                        <td id=\"T_893786f0_94f1_11ea_b6bd_0242ac1c0002row0_col0\" class=\"data row0 col0\" >2017-03-01</td>\n",
              "                        <td id=\"T_893786f0_94f1_11ea_b6bd_0242ac1c0002row0_col1\" class=\"data row0 col1\" >전월이월</td>\n",
              "                        <td id=\"T_893786f0_94f1_11ea_b6bd_0242ac1c0002row0_col2\" class=\"data row0 col2\" >5</td>\n",
              "                        <td id=\"T_893786f0_94f1_11ea_b6bd_0242ac1c0002row0_col3\" class=\"data row0 col3\" >20000</td>\n",
              "                        <td id=\"T_893786f0_94f1_11ea_b6bd_0242ac1c0002row0_col4\" class=\"data row0 col4\" >100000</td>\n",
              "                        <td id=\"T_893786f0_94f1_11ea_b6bd_0242ac1c0002row0_col5\" class=\"data row0 col5\" >0</td>\n",
              "                        <td id=\"T_893786f0_94f1_11ea_b6bd_0242ac1c0002row0_col6\" class=\"data row0 col6\" >5</td>\n",
              "                        <td id=\"T_893786f0_94f1_11ea_b6bd_0242ac1c0002row0_col7\" class=\"data row0 col7\" >5</td>\n",
              "                        <td id=\"T_893786f0_94f1_11ea_b6bd_0242ac1c0002row0_col8\" class=\"data row0 col8\" >0.000000</td>\n",
              "            </tr>\n",
              "            <tr>\n",
              "                        <th id=\"T_893786f0_94f1_11ea_b6bd_0242ac1c0002level0_row1\" class=\"row_heading level0 row1\" >1</th>\n",
              "                        <td id=\"T_893786f0_94f1_11ea_b6bd_0242ac1c0002row1_col0\" class=\"data row1 col0\" >2017-03-09</td>\n",
              "                        <td id=\"T_893786f0_94f1_11ea_b6bd_0242ac1c0002row1_col1\" class=\"data row1 col1\" >매입</td>\n",
              "                        <td id=\"T_893786f0_94f1_11ea_b6bd_0242ac1c0002row1_col2\" class=\"data row1 col2\" >15</td>\n",
              "                        <td id=\"T_893786f0_94f1_11ea_b6bd_0242ac1c0002row1_col3\" class=\"data row1 col3\" >18000</td>\n",
              "                        <td id=\"T_893786f0_94f1_11ea_b6bd_0242ac1c0002row1_col4\" class=\"data row1 col4\" >270000</td>\n",
              "                        <td id=\"T_893786f0_94f1_11ea_b6bd_0242ac1c0002row1_col5\" class=\"data row1 col5\" >0</td>\n",
              "                        <td id=\"T_893786f0_94f1_11ea_b6bd_0242ac1c0002row1_col6\" class=\"data row1 col6\" >20</td>\n",
              "                        <td id=\"T_893786f0_94f1_11ea_b6bd_0242ac1c0002row1_col7\" class=\"data row1 col7\" >20</td>\n",
              "                        <td id=\"T_893786f0_94f1_11ea_b6bd_0242ac1c0002row1_col8\" class=\"data row1 col8\" >5.000000</td>\n",
              "            </tr>\n",
              "            <tr>\n",
              "                        <th id=\"T_893786f0_94f1_11ea_b6bd_0242ac1c0002level0_row2\" class=\"row_heading level0 row2\" >2</th>\n",
              "                        <td id=\"T_893786f0_94f1_11ea_b6bd_0242ac1c0002row2_col0\" class=\"data row2 col0\" >2017-03-16</td>\n",
              "                        <td id=\"T_893786f0_94f1_11ea_b6bd_0242ac1c0002row2_col1\" class=\"data row2 col1\" >매출</td>\n",
              "                        <td id=\"T_893786f0_94f1_11ea_b6bd_0242ac1c0002row2_col2\" class=\"data row2 col2\" >0</td>\n",
              "                        <td id=\"T_893786f0_94f1_11ea_b6bd_0242ac1c0002row2_col3\" class=\"data row2 col3\" >0</td>\n",
              "                        <td id=\"T_893786f0_94f1_11ea_b6bd_0242ac1c0002row2_col4\" class=\"data row2 col4\" >0</td>\n",
              "                        <td id=\"T_893786f0_94f1_11ea_b6bd_0242ac1c0002row2_col5\" class=\"data row2 col5\" >5</td>\n",
              "                        <td id=\"T_893786f0_94f1_11ea_b6bd_0242ac1c0002row2_col6\" class=\"data row2 col6\" >20</td>\n",
              "                        <td id=\"T_893786f0_94f1_11ea_b6bd_0242ac1c0002row2_col7\" class=\"data row2 col7\" >20</td>\n",
              "                        <td id=\"T_893786f0_94f1_11ea_b6bd_0242ac1c0002row2_col8\" class=\"data row2 col8\" >20.000000</td>\n",
              "            </tr>\n",
              "            <tr>\n",
              "                        <th id=\"T_893786f0_94f1_11ea_b6bd_0242ac1c0002level0_row3\" class=\"row_heading level0 row3\" >3</th>\n",
              "                        <td id=\"T_893786f0_94f1_11ea_b6bd_0242ac1c0002row3_col0\" class=\"data row3 col0\" >2017-03-16</td>\n",
              "                        <td id=\"T_893786f0_94f1_11ea_b6bd_0242ac1c0002row3_col1\" class=\"data row3 col1\" >매출</td>\n",
              "                        <td id=\"T_893786f0_94f1_11ea_b6bd_0242ac1c0002row3_col2\" class=\"data row3 col2\" >0</td>\n",
              "                        <td id=\"T_893786f0_94f1_11ea_b6bd_0242ac1c0002row3_col3\" class=\"data row3 col3\" >0</td>\n",
              "                        <td id=\"T_893786f0_94f1_11ea_b6bd_0242ac1c0002row3_col4\" class=\"data row3 col4\" >0</td>\n",
              "                        <td id=\"T_893786f0_94f1_11ea_b6bd_0242ac1c0002row3_col5\" class=\"data row3 col5\" >5</td>\n",
              "                        <td id=\"T_893786f0_94f1_11ea_b6bd_0242ac1c0002row3_col6\" class=\"data row3 col6\" >20</td>\n",
              "                        <td id=\"T_893786f0_94f1_11ea_b6bd_0242ac1c0002row3_col7\" class=\"data row3 col7\" >20</td>\n",
              "                        <td id=\"T_893786f0_94f1_11ea_b6bd_0242ac1c0002row3_col8\" class=\"data row3 col8\" >20.000000</td>\n",
              "            </tr>\n",
              "            <tr>\n",
              "                        <th id=\"T_893786f0_94f1_11ea_b6bd_0242ac1c0002level0_row4\" class=\"row_heading level0 row4\" >4</th>\n",
              "                        <td id=\"T_893786f0_94f1_11ea_b6bd_0242ac1c0002row4_col0\" class=\"data row4 col0\" >2017-03-24</td>\n",
              "                        <td id=\"T_893786f0_94f1_11ea_b6bd_0242ac1c0002row4_col1\" class=\"data row4 col1\" >매입</td>\n",
              "                        <td id=\"T_893786f0_94f1_11ea_b6bd_0242ac1c0002row4_col2\" class=\"data row4 col2\" >20</td>\n",
              "                        <td id=\"T_893786f0_94f1_11ea_b6bd_0242ac1c0002row4_col3\" class=\"data row4 col3\" >22000</td>\n",
              "                        <td id=\"T_893786f0_94f1_11ea_b6bd_0242ac1c0002row4_col4\" class=\"data row4 col4\" >440000</td>\n",
              "                        <td id=\"T_893786f0_94f1_11ea_b6bd_0242ac1c0002row4_col5\" class=\"data row4 col5\" >0</td>\n",
              "                        <td id=\"T_893786f0_94f1_11ea_b6bd_0242ac1c0002row4_col6\" class=\"data row4 col6\" >40</td>\n",
              "                        <td id=\"T_893786f0_94f1_11ea_b6bd_0242ac1c0002row4_col7\" class=\"data row4 col7\" >22</td>\n",
              "                        <td id=\"T_893786f0_94f1_11ea_b6bd_0242ac1c0002row4_col8\" class=\"data row4 col8\" >20.000000</td>\n",
              "            </tr>\n",
              "            <tr>\n",
              "                        <th id=\"T_893786f0_94f1_11ea_b6bd_0242ac1c0002level0_row5\" class=\"row_heading level0 row5\" >5</th>\n",
              "                        <td id=\"T_893786f0_94f1_11ea_b6bd_0242ac1c0002row5_col0\" class=\"data row5 col0\" >2017-03-29</td>\n",
              "                        <td id=\"T_893786f0_94f1_11ea_b6bd_0242ac1c0002row5_col1\" class=\"data row5 col1\" >매출</td>\n",
              "                        <td id=\"T_893786f0_94f1_11ea_b6bd_0242ac1c0002row5_col2\" class=\"data row5 col2\" >0</td>\n",
              "                        <td id=\"T_893786f0_94f1_11ea_b6bd_0242ac1c0002row5_col3\" class=\"data row5 col3\" >0</td>\n",
              "                        <td id=\"T_893786f0_94f1_11ea_b6bd_0242ac1c0002row5_col4\" class=\"data row5 col4\" >0</td>\n",
              "                        <td id=\"T_893786f0_94f1_11ea_b6bd_0242ac1c0002row5_col5\" class=\"data row5 col5\" >10</td>\n",
              "                        <td id=\"T_893786f0_94f1_11ea_b6bd_0242ac1c0002row5_col6\" class=\"data row5 col6\" >40</td>\n",
              "                        <td id=\"T_893786f0_94f1_11ea_b6bd_0242ac1c0002row5_col7\" class=\"data row5 col7\" >22</td>\n",
              "                        <td id=\"T_893786f0_94f1_11ea_b6bd_0242ac1c0002row5_col8\" class=\"data row5 col8\" >22.000000</td>\n",
              "            </tr>\n",
              "            <tr>\n",
              "                        <th id=\"T_893786f0_94f1_11ea_b6bd_0242ac1c0002level0_row6\" class=\"row_heading level0 row6\" >6</th>\n",
              "                        <td id=\"T_893786f0_94f1_11ea_b6bd_0242ac1c0002row6_col0\" class=\"data row6 col0\" >2017-03-29</td>\n",
              "                        <td id=\"T_893786f0_94f1_11ea_b6bd_0242ac1c0002row6_col1\" class=\"data row6 col1\" >매출</td>\n",
              "                        <td id=\"T_893786f0_94f1_11ea_b6bd_0242ac1c0002row6_col2\" class=\"data row6 col2\" >0</td>\n",
              "                        <td id=\"T_893786f0_94f1_11ea_b6bd_0242ac1c0002row6_col3\" class=\"data row6 col3\" >0</td>\n",
              "                        <td id=\"T_893786f0_94f1_11ea_b6bd_0242ac1c0002row6_col4\" class=\"data row6 col4\" >0</td>\n",
              "                        <td id=\"T_893786f0_94f1_11ea_b6bd_0242ac1c0002row6_col5\" class=\"data row6 col5\" >2</td>\n",
              "                        <td id=\"T_893786f0_94f1_11ea_b6bd_0242ac1c0002row6_col6\" class=\"data row6 col6\" >40</td>\n",
              "                        <td id=\"T_893786f0_94f1_11ea_b6bd_0242ac1c0002row6_col7\" class=\"data row6 col7\" >22</td>\n",
              "                        <td id=\"T_893786f0_94f1_11ea_b6bd_0242ac1c0002row6_col8\" class=\"data row6 col8\" >22.000000</td>\n",
              "            </tr>\n",
              "    </tbody></table>"
            ],
            "text/plain": [
              "<pandas.io.formats.style.Styler at 0x7fec6811d4a8>"
            ]
          },
          "metadata": {
            "tags": []
          },
          "execution_count": 56
        }
      ]
    },
    {
      "cell_type": "code",
      "metadata": {
        "id": "dOr9TkREwq2f",
        "colab_type": "code",
        "outputId": "e72495af-7d83-4562-c19b-09e18fb23ed3",
        "colab": {
          "base_uri": "https://localhost:8080/",
          "height": 367
        }
      },
      "source": [
        "df['출고순서_개별'] = df['출고순서누적'] - df['출고순서_shift']\n",
        "# '출고순서_개별' 칼럼은 '출고순서누적' 값과 '출고순서_shift' 값을 한행씩 차감하여 생긴 칼럼이다.\n",
        "print(df)\n",
        "df.style"
      ],
      "execution_count": 0,
      "outputs": [
        {
          "output_type": "stream",
          "text": [
            "           일자    적요  입고수량   입고단가  ...  입고수량누적  출고순서누적  출고순서_shift  출고순서_개별\n",
            "0  2017-03-01  전월이월     5  20000  ...       5       5         0.0      5.0\n",
            "1  2017-03-09    매입    15  18000  ...      20      20         5.0     15.0\n",
            "2  2017-03-16    매출     0      0  ...      20      20        20.0      0.0\n",
            "3  2017-03-16    매출     0      0  ...      20      20        20.0      0.0\n",
            "4  2017-03-24    매입    20  22000  ...      40      22        20.0      2.0\n",
            "5  2017-03-29    매출     0      0  ...      40      22        22.0      0.0\n",
            "6  2017-03-29    매출     0      0  ...      40      22        22.0      0.0\n",
            "\n",
            "[7 rows x 10 columns]\n"
          ],
          "name": "stdout"
        },
        {
          "output_type": "execute_result",
          "data": {
            "text/html": [
              "<style  type=\"text/css\" >\n",
              "</style><table id=\"T_90117bf2_94f1_11ea_b6bd_0242ac1c0002\" ><thead>    <tr>        <th class=\"blank level0\" ></th>        <th class=\"col_heading level0 col0\" >일자</th>        <th class=\"col_heading level0 col1\" >적요</th>        <th class=\"col_heading level0 col2\" >입고수량</th>        <th class=\"col_heading level0 col3\" >입고단가</th>        <th class=\"col_heading level0 col4\" >입고금액</th>        <th class=\"col_heading level0 col5\" >출고수량</th>        <th class=\"col_heading level0 col6\" >입고수량누적</th>        <th class=\"col_heading level0 col7\" >출고순서누적</th>        <th class=\"col_heading level0 col8\" >출고순서_shift</th>        <th class=\"col_heading level0 col9\" >출고순서_개별</th>    </tr></thead><tbody>\n",
              "                <tr>\n",
              "                        <th id=\"T_90117bf2_94f1_11ea_b6bd_0242ac1c0002level0_row0\" class=\"row_heading level0 row0\" >0</th>\n",
              "                        <td id=\"T_90117bf2_94f1_11ea_b6bd_0242ac1c0002row0_col0\" class=\"data row0 col0\" >2017-03-01</td>\n",
              "                        <td id=\"T_90117bf2_94f1_11ea_b6bd_0242ac1c0002row0_col1\" class=\"data row0 col1\" >전월이월</td>\n",
              "                        <td id=\"T_90117bf2_94f1_11ea_b6bd_0242ac1c0002row0_col2\" class=\"data row0 col2\" >5</td>\n",
              "                        <td id=\"T_90117bf2_94f1_11ea_b6bd_0242ac1c0002row0_col3\" class=\"data row0 col3\" >20000</td>\n",
              "                        <td id=\"T_90117bf2_94f1_11ea_b6bd_0242ac1c0002row0_col4\" class=\"data row0 col4\" >100000</td>\n",
              "                        <td id=\"T_90117bf2_94f1_11ea_b6bd_0242ac1c0002row0_col5\" class=\"data row0 col5\" >0</td>\n",
              "                        <td id=\"T_90117bf2_94f1_11ea_b6bd_0242ac1c0002row0_col6\" class=\"data row0 col6\" >5</td>\n",
              "                        <td id=\"T_90117bf2_94f1_11ea_b6bd_0242ac1c0002row0_col7\" class=\"data row0 col7\" >5</td>\n",
              "                        <td id=\"T_90117bf2_94f1_11ea_b6bd_0242ac1c0002row0_col8\" class=\"data row0 col8\" >0.000000</td>\n",
              "                        <td id=\"T_90117bf2_94f1_11ea_b6bd_0242ac1c0002row0_col9\" class=\"data row0 col9\" >5.000000</td>\n",
              "            </tr>\n",
              "            <tr>\n",
              "                        <th id=\"T_90117bf2_94f1_11ea_b6bd_0242ac1c0002level0_row1\" class=\"row_heading level0 row1\" >1</th>\n",
              "                        <td id=\"T_90117bf2_94f1_11ea_b6bd_0242ac1c0002row1_col0\" class=\"data row1 col0\" >2017-03-09</td>\n",
              "                        <td id=\"T_90117bf2_94f1_11ea_b6bd_0242ac1c0002row1_col1\" class=\"data row1 col1\" >매입</td>\n",
              "                        <td id=\"T_90117bf2_94f1_11ea_b6bd_0242ac1c0002row1_col2\" class=\"data row1 col2\" >15</td>\n",
              "                        <td id=\"T_90117bf2_94f1_11ea_b6bd_0242ac1c0002row1_col3\" class=\"data row1 col3\" >18000</td>\n",
              "                        <td id=\"T_90117bf2_94f1_11ea_b6bd_0242ac1c0002row1_col4\" class=\"data row1 col4\" >270000</td>\n",
              "                        <td id=\"T_90117bf2_94f1_11ea_b6bd_0242ac1c0002row1_col5\" class=\"data row1 col5\" >0</td>\n",
              "                        <td id=\"T_90117bf2_94f1_11ea_b6bd_0242ac1c0002row1_col6\" class=\"data row1 col6\" >20</td>\n",
              "                        <td id=\"T_90117bf2_94f1_11ea_b6bd_0242ac1c0002row1_col7\" class=\"data row1 col7\" >20</td>\n",
              "                        <td id=\"T_90117bf2_94f1_11ea_b6bd_0242ac1c0002row1_col8\" class=\"data row1 col8\" >5.000000</td>\n",
              "                        <td id=\"T_90117bf2_94f1_11ea_b6bd_0242ac1c0002row1_col9\" class=\"data row1 col9\" >15.000000</td>\n",
              "            </tr>\n",
              "            <tr>\n",
              "                        <th id=\"T_90117bf2_94f1_11ea_b6bd_0242ac1c0002level0_row2\" class=\"row_heading level0 row2\" >2</th>\n",
              "                        <td id=\"T_90117bf2_94f1_11ea_b6bd_0242ac1c0002row2_col0\" class=\"data row2 col0\" >2017-03-16</td>\n",
              "                        <td id=\"T_90117bf2_94f1_11ea_b6bd_0242ac1c0002row2_col1\" class=\"data row2 col1\" >매출</td>\n",
              "                        <td id=\"T_90117bf2_94f1_11ea_b6bd_0242ac1c0002row2_col2\" class=\"data row2 col2\" >0</td>\n",
              "                        <td id=\"T_90117bf2_94f1_11ea_b6bd_0242ac1c0002row2_col3\" class=\"data row2 col3\" >0</td>\n",
              "                        <td id=\"T_90117bf2_94f1_11ea_b6bd_0242ac1c0002row2_col4\" class=\"data row2 col4\" >0</td>\n",
              "                        <td id=\"T_90117bf2_94f1_11ea_b6bd_0242ac1c0002row2_col5\" class=\"data row2 col5\" >5</td>\n",
              "                        <td id=\"T_90117bf2_94f1_11ea_b6bd_0242ac1c0002row2_col6\" class=\"data row2 col6\" >20</td>\n",
              "                        <td id=\"T_90117bf2_94f1_11ea_b6bd_0242ac1c0002row2_col7\" class=\"data row2 col7\" >20</td>\n",
              "                        <td id=\"T_90117bf2_94f1_11ea_b6bd_0242ac1c0002row2_col8\" class=\"data row2 col8\" >20.000000</td>\n",
              "                        <td id=\"T_90117bf2_94f1_11ea_b6bd_0242ac1c0002row2_col9\" class=\"data row2 col9\" >0.000000</td>\n",
              "            </tr>\n",
              "            <tr>\n",
              "                        <th id=\"T_90117bf2_94f1_11ea_b6bd_0242ac1c0002level0_row3\" class=\"row_heading level0 row3\" >3</th>\n",
              "                        <td id=\"T_90117bf2_94f1_11ea_b6bd_0242ac1c0002row3_col0\" class=\"data row3 col0\" >2017-03-16</td>\n",
              "                        <td id=\"T_90117bf2_94f1_11ea_b6bd_0242ac1c0002row3_col1\" class=\"data row3 col1\" >매출</td>\n",
              "                        <td id=\"T_90117bf2_94f1_11ea_b6bd_0242ac1c0002row3_col2\" class=\"data row3 col2\" >0</td>\n",
              "                        <td id=\"T_90117bf2_94f1_11ea_b6bd_0242ac1c0002row3_col3\" class=\"data row3 col3\" >0</td>\n",
              "                        <td id=\"T_90117bf2_94f1_11ea_b6bd_0242ac1c0002row3_col4\" class=\"data row3 col4\" >0</td>\n",
              "                        <td id=\"T_90117bf2_94f1_11ea_b6bd_0242ac1c0002row3_col5\" class=\"data row3 col5\" >5</td>\n",
              "                        <td id=\"T_90117bf2_94f1_11ea_b6bd_0242ac1c0002row3_col6\" class=\"data row3 col6\" >20</td>\n",
              "                        <td id=\"T_90117bf2_94f1_11ea_b6bd_0242ac1c0002row3_col7\" class=\"data row3 col7\" >20</td>\n",
              "                        <td id=\"T_90117bf2_94f1_11ea_b6bd_0242ac1c0002row3_col8\" class=\"data row3 col8\" >20.000000</td>\n",
              "                        <td id=\"T_90117bf2_94f1_11ea_b6bd_0242ac1c0002row3_col9\" class=\"data row3 col9\" >0.000000</td>\n",
              "            </tr>\n",
              "            <tr>\n",
              "                        <th id=\"T_90117bf2_94f1_11ea_b6bd_0242ac1c0002level0_row4\" class=\"row_heading level0 row4\" >4</th>\n",
              "                        <td id=\"T_90117bf2_94f1_11ea_b6bd_0242ac1c0002row4_col0\" class=\"data row4 col0\" >2017-03-24</td>\n",
              "                        <td id=\"T_90117bf2_94f1_11ea_b6bd_0242ac1c0002row4_col1\" class=\"data row4 col1\" >매입</td>\n",
              "                        <td id=\"T_90117bf2_94f1_11ea_b6bd_0242ac1c0002row4_col2\" class=\"data row4 col2\" >20</td>\n",
              "                        <td id=\"T_90117bf2_94f1_11ea_b6bd_0242ac1c0002row4_col3\" class=\"data row4 col3\" >22000</td>\n",
              "                        <td id=\"T_90117bf2_94f1_11ea_b6bd_0242ac1c0002row4_col4\" class=\"data row4 col4\" >440000</td>\n",
              "                        <td id=\"T_90117bf2_94f1_11ea_b6bd_0242ac1c0002row4_col5\" class=\"data row4 col5\" >0</td>\n",
              "                        <td id=\"T_90117bf2_94f1_11ea_b6bd_0242ac1c0002row4_col6\" class=\"data row4 col6\" >40</td>\n",
              "                        <td id=\"T_90117bf2_94f1_11ea_b6bd_0242ac1c0002row4_col7\" class=\"data row4 col7\" >22</td>\n",
              "                        <td id=\"T_90117bf2_94f1_11ea_b6bd_0242ac1c0002row4_col8\" class=\"data row4 col8\" >20.000000</td>\n",
              "                        <td id=\"T_90117bf2_94f1_11ea_b6bd_0242ac1c0002row4_col9\" class=\"data row4 col9\" >2.000000</td>\n",
              "            </tr>\n",
              "            <tr>\n",
              "                        <th id=\"T_90117bf2_94f1_11ea_b6bd_0242ac1c0002level0_row5\" class=\"row_heading level0 row5\" >5</th>\n",
              "                        <td id=\"T_90117bf2_94f1_11ea_b6bd_0242ac1c0002row5_col0\" class=\"data row5 col0\" >2017-03-29</td>\n",
              "                        <td id=\"T_90117bf2_94f1_11ea_b6bd_0242ac1c0002row5_col1\" class=\"data row5 col1\" >매출</td>\n",
              "                        <td id=\"T_90117bf2_94f1_11ea_b6bd_0242ac1c0002row5_col2\" class=\"data row5 col2\" >0</td>\n",
              "                        <td id=\"T_90117bf2_94f1_11ea_b6bd_0242ac1c0002row5_col3\" class=\"data row5 col3\" >0</td>\n",
              "                        <td id=\"T_90117bf2_94f1_11ea_b6bd_0242ac1c0002row5_col4\" class=\"data row5 col4\" >0</td>\n",
              "                        <td id=\"T_90117bf2_94f1_11ea_b6bd_0242ac1c0002row5_col5\" class=\"data row5 col5\" >10</td>\n",
              "                        <td id=\"T_90117bf2_94f1_11ea_b6bd_0242ac1c0002row5_col6\" class=\"data row5 col6\" >40</td>\n",
              "                        <td id=\"T_90117bf2_94f1_11ea_b6bd_0242ac1c0002row5_col7\" class=\"data row5 col7\" >22</td>\n",
              "                        <td id=\"T_90117bf2_94f1_11ea_b6bd_0242ac1c0002row5_col8\" class=\"data row5 col8\" >22.000000</td>\n",
              "                        <td id=\"T_90117bf2_94f1_11ea_b6bd_0242ac1c0002row5_col9\" class=\"data row5 col9\" >0.000000</td>\n",
              "            </tr>\n",
              "            <tr>\n",
              "                        <th id=\"T_90117bf2_94f1_11ea_b6bd_0242ac1c0002level0_row6\" class=\"row_heading level0 row6\" >6</th>\n",
              "                        <td id=\"T_90117bf2_94f1_11ea_b6bd_0242ac1c0002row6_col0\" class=\"data row6 col0\" >2017-03-29</td>\n",
              "                        <td id=\"T_90117bf2_94f1_11ea_b6bd_0242ac1c0002row6_col1\" class=\"data row6 col1\" >매출</td>\n",
              "                        <td id=\"T_90117bf2_94f1_11ea_b6bd_0242ac1c0002row6_col2\" class=\"data row6 col2\" >0</td>\n",
              "                        <td id=\"T_90117bf2_94f1_11ea_b6bd_0242ac1c0002row6_col3\" class=\"data row6 col3\" >0</td>\n",
              "                        <td id=\"T_90117bf2_94f1_11ea_b6bd_0242ac1c0002row6_col4\" class=\"data row6 col4\" >0</td>\n",
              "                        <td id=\"T_90117bf2_94f1_11ea_b6bd_0242ac1c0002row6_col5\" class=\"data row6 col5\" >2</td>\n",
              "                        <td id=\"T_90117bf2_94f1_11ea_b6bd_0242ac1c0002row6_col6\" class=\"data row6 col6\" >40</td>\n",
              "                        <td id=\"T_90117bf2_94f1_11ea_b6bd_0242ac1c0002row6_col7\" class=\"data row6 col7\" >22</td>\n",
              "                        <td id=\"T_90117bf2_94f1_11ea_b6bd_0242ac1c0002row6_col8\" class=\"data row6 col8\" >22.000000</td>\n",
              "                        <td id=\"T_90117bf2_94f1_11ea_b6bd_0242ac1c0002row6_col9\" class=\"data row6 col9\" >0.000000</td>\n",
              "            </tr>\n",
              "    </tbody></table>"
            ],
            "text/plain": [
              "<pandas.io.formats.style.Styler at 0x7fec6811da58>"
            ]
          },
          "metadata": {
            "tags": []
          },
          "execution_count": 57
        }
      ]
    },
    {
      "cell_type": "code",
      "metadata": {
        "id": "IaquHjLEwtt-",
        "colab_type": "code",
        "outputId": "8d758e26-7c5b-4dd4-e748-3f909fc77b97",
        "colab": {
          "base_uri": "https://localhost:8080/",
          "height": 223
        }
      },
      "source": [
        "df['출고금액'] = df['출고순서_개별']*df['입고단가']\n",
        "매출원가 = df['출고금액'].sum()\n",
        "기말재고액 = df['입고금액'].sum() - 매출원가\n",
        "print(매출원가)\n",
        "print(기말재고액)\n",
        "df.style"
      ],
      "execution_count": 0,
      "outputs": [
        {
          "output_type": "stream",
          "text": [
            "414000.0\n",
            "396000.0\n"
          ],
          "name": "stdout"
        },
        {
          "output_type": "execute_result",
          "data": {
            "text/html": [
              "<style  type=\"text/css\" >\n",
              "</style><table id=\"T_9e812228_94f1_11ea_b6bd_0242ac1c0002\" ><thead>    <tr>        <th class=\"blank level0\" ></th>        <th class=\"col_heading level0 col0\" >일자</th>        <th class=\"col_heading level0 col1\" >적요</th>        <th class=\"col_heading level0 col2\" >입고수량</th>        <th class=\"col_heading level0 col3\" >입고단가</th>        <th class=\"col_heading level0 col4\" >입고금액</th>        <th class=\"col_heading level0 col5\" >출고수량</th>        <th class=\"col_heading level0 col6\" >입고수량누적</th>        <th class=\"col_heading level0 col7\" >출고순서누적</th>        <th class=\"col_heading level0 col8\" >출고순서_shift</th>        <th class=\"col_heading level0 col9\" >출고순서_개별</th>        <th class=\"col_heading level0 col10\" >출고금액</th>    </tr></thead><tbody>\n",
              "                <tr>\n",
              "                        <th id=\"T_9e812228_94f1_11ea_b6bd_0242ac1c0002level0_row0\" class=\"row_heading level0 row0\" >0</th>\n",
              "                        <td id=\"T_9e812228_94f1_11ea_b6bd_0242ac1c0002row0_col0\" class=\"data row0 col0\" >2017-03-01</td>\n",
              "                        <td id=\"T_9e812228_94f1_11ea_b6bd_0242ac1c0002row0_col1\" class=\"data row0 col1\" >전월이월</td>\n",
              "                        <td id=\"T_9e812228_94f1_11ea_b6bd_0242ac1c0002row0_col2\" class=\"data row0 col2\" >5</td>\n",
              "                        <td id=\"T_9e812228_94f1_11ea_b6bd_0242ac1c0002row0_col3\" class=\"data row0 col3\" >20000</td>\n",
              "                        <td id=\"T_9e812228_94f1_11ea_b6bd_0242ac1c0002row0_col4\" class=\"data row0 col4\" >100000</td>\n",
              "                        <td id=\"T_9e812228_94f1_11ea_b6bd_0242ac1c0002row0_col5\" class=\"data row0 col5\" >0</td>\n",
              "                        <td id=\"T_9e812228_94f1_11ea_b6bd_0242ac1c0002row0_col6\" class=\"data row0 col6\" >5</td>\n",
              "                        <td id=\"T_9e812228_94f1_11ea_b6bd_0242ac1c0002row0_col7\" class=\"data row0 col7\" >5</td>\n",
              "                        <td id=\"T_9e812228_94f1_11ea_b6bd_0242ac1c0002row0_col8\" class=\"data row0 col8\" >0.000000</td>\n",
              "                        <td id=\"T_9e812228_94f1_11ea_b6bd_0242ac1c0002row0_col9\" class=\"data row0 col9\" >5.000000</td>\n",
              "                        <td id=\"T_9e812228_94f1_11ea_b6bd_0242ac1c0002row0_col10\" class=\"data row0 col10\" >100000.000000</td>\n",
              "            </tr>\n",
              "            <tr>\n",
              "                        <th id=\"T_9e812228_94f1_11ea_b6bd_0242ac1c0002level0_row1\" class=\"row_heading level0 row1\" >1</th>\n",
              "                        <td id=\"T_9e812228_94f1_11ea_b6bd_0242ac1c0002row1_col0\" class=\"data row1 col0\" >2017-03-09</td>\n",
              "                        <td id=\"T_9e812228_94f1_11ea_b6bd_0242ac1c0002row1_col1\" class=\"data row1 col1\" >매입</td>\n",
              "                        <td id=\"T_9e812228_94f1_11ea_b6bd_0242ac1c0002row1_col2\" class=\"data row1 col2\" >15</td>\n",
              "                        <td id=\"T_9e812228_94f1_11ea_b6bd_0242ac1c0002row1_col3\" class=\"data row1 col3\" >18000</td>\n",
              "                        <td id=\"T_9e812228_94f1_11ea_b6bd_0242ac1c0002row1_col4\" class=\"data row1 col4\" >270000</td>\n",
              "                        <td id=\"T_9e812228_94f1_11ea_b6bd_0242ac1c0002row1_col5\" class=\"data row1 col5\" >0</td>\n",
              "                        <td id=\"T_9e812228_94f1_11ea_b6bd_0242ac1c0002row1_col6\" class=\"data row1 col6\" >20</td>\n",
              "                        <td id=\"T_9e812228_94f1_11ea_b6bd_0242ac1c0002row1_col7\" class=\"data row1 col7\" >20</td>\n",
              "                        <td id=\"T_9e812228_94f1_11ea_b6bd_0242ac1c0002row1_col8\" class=\"data row1 col8\" >5.000000</td>\n",
              "                        <td id=\"T_9e812228_94f1_11ea_b6bd_0242ac1c0002row1_col9\" class=\"data row1 col9\" >15.000000</td>\n",
              "                        <td id=\"T_9e812228_94f1_11ea_b6bd_0242ac1c0002row1_col10\" class=\"data row1 col10\" >270000.000000</td>\n",
              "            </tr>\n",
              "            <tr>\n",
              "                        <th id=\"T_9e812228_94f1_11ea_b6bd_0242ac1c0002level0_row2\" class=\"row_heading level0 row2\" >2</th>\n",
              "                        <td id=\"T_9e812228_94f1_11ea_b6bd_0242ac1c0002row2_col0\" class=\"data row2 col0\" >2017-03-16</td>\n",
              "                        <td id=\"T_9e812228_94f1_11ea_b6bd_0242ac1c0002row2_col1\" class=\"data row2 col1\" >매출</td>\n",
              "                        <td id=\"T_9e812228_94f1_11ea_b6bd_0242ac1c0002row2_col2\" class=\"data row2 col2\" >0</td>\n",
              "                        <td id=\"T_9e812228_94f1_11ea_b6bd_0242ac1c0002row2_col3\" class=\"data row2 col3\" >0</td>\n",
              "                        <td id=\"T_9e812228_94f1_11ea_b6bd_0242ac1c0002row2_col4\" class=\"data row2 col4\" >0</td>\n",
              "                        <td id=\"T_9e812228_94f1_11ea_b6bd_0242ac1c0002row2_col5\" class=\"data row2 col5\" >5</td>\n",
              "                        <td id=\"T_9e812228_94f1_11ea_b6bd_0242ac1c0002row2_col6\" class=\"data row2 col6\" >20</td>\n",
              "                        <td id=\"T_9e812228_94f1_11ea_b6bd_0242ac1c0002row2_col7\" class=\"data row2 col7\" >20</td>\n",
              "                        <td id=\"T_9e812228_94f1_11ea_b6bd_0242ac1c0002row2_col8\" class=\"data row2 col8\" >20.000000</td>\n",
              "                        <td id=\"T_9e812228_94f1_11ea_b6bd_0242ac1c0002row2_col9\" class=\"data row2 col9\" >0.000000</td>\n",
              "                        <td id=\"T_9e812228_94f1_11ea_b6bd_0242ac1c0002row2_col10\" class=\"data row2 col10\" >0.000000</td>\n",
              "            </tr>\n",
              "            <tr>\n",
              "                        <th id=\"T_9e812228_94f1_11ea_b6bd_0242ac1c0002level0_row3\" class=\"row_heading level0 row3\" >3</th>\n",
              "                        <td id=\"T_9e812228_94f1_11ea_b6bd_0242ac1c0002row3_col0\" class=\"data row3 col0\" >2017-03-16</td>\n",
              "                        <td id=\"T_9e812228_94f1_11ea_b6bd_0242ac1c0002row3_col1\" class=\"data row3 col1\" >매출</td>\n",
              "                        <td id=\"T_9e812228_94f1_11ea_b6bd_0242ac1c0002row3_col2\" class=\"data row3 col2\" >0</td>\n",
              "                        <td id=\"T_9e812228_94f1_11ea_b6bd_0242ac1c0002row3_col3\" class=\"data row3 col3\" >0</td>\n",
              "                        <td id=\"T_9e812228_94f1_11ea_b6bd_0242ac1c0002row3_col4\" class=\"data row3 col4\" >0</td>\n",
              "                        <td id=\"T_9e812228_94f1_11ea_b6bd_0242ac1c0002row3_col5\" class=\"data row3 col5\" >5</td>\n",
              "                        <td id=\"T_9e812228_94f1_11ea_b6bd_0242ac1c0002row3_col6\" class=\"data row3 col6\" >20</td>\n",
              "                        <td id=\"T_9e812228_94f1_11ea_b6bd_0242ac1c0002row3_col7\" class=\"data row3 col7\" >20</td>\n",
              "                        <td id=\"T_9e812228_94f1_11ea_b6bd_0242ac1c0002row3_col8\" class=\"data row3 col8\" >20.000000</td>\n",
              "                        <td id=\"T_9e812228_94f1_11ea_b6bd_0242ac1c0002row3_col9\" class=\"data row3 col9\" >0.000000</td>\n",
              "                        <td id=\"T_9e812228_94f1_11ea_b6bd_0242ac1c0002row3_col10\" class=\"data row3 col10\" >0.000000</td>\n",
              "            </tr>\n",
              "            <tr>\n",
              "                        <th id=\"T_9e812228_94f1_11ea_b6bd_0242ac1c0002level0_row4\" class=\"row_heading level0 row4\" >4</th>\n",
              "                        <td id=\"T_9e812228_94f1_11ea_b6bd_0242ac1c0002row4_col0\" class=\"data row4 col0\" >2017-03-24</td>\n",
              "                        <td id=\"T_9e812228_94f1_11ea_b6bd_0242ac1c0002row4_col1\" class=\"data row4 col1\" >매입</td>\n",
              "                        <td id=\"T_9e812228_94f1_11ea_b6bd_0242ac1c0002row4_col2\" class=\"data row4 col2\" >20</td>\n",
              "                        <td id=\"T_9e812228_94f1_11ea_b6bd_0242ac1c0002row4_col3\" class=\"data row4 col3\" >22000</td>\n",
              "                        <td id=\"T_9e812228_94f1_11ea_b6bd_0242ac1c0002row4_col4\" class=\"data row4 col4\" >440000</td>\n",
              "                        <td id=\"T_9e812228_94f1_11ea_b6bd_0242ac1c0002row4_col5\" class=\"data row4 col5\" >0</td>\n",
              "                        <td id=\"T_9e812228_94f1_11ea_b6bd_0242ac1c0002row4_col6\" class=\"data row4 col6\" >40</td>\n",
              "                        <td id=\"T_9e812228_94f1_11ea_b6bd_0242ac1c0002row4_col7\" class=\"data row4 col7\" >22</td>\n",
              "                        <td id=\"T_9e812228_94f1_11ea_b6bd_0242ac1c0002row4_col8\" class=\"data row4 col8\" >20.000000</td>\n",
              "                        <td id=\"T_9e812228_94f1_11ea_b6bd_0242ac1c0002row4_col9\" class=\"data row4 col9\" >2.000000</td>\n",
              "                        <td id=\"T_9e812228_94f1_11ea_b6bd_0242ac1c0002row4_col10\" class=\"data row4 col10\" >44000.000000</td>\n",
              "            </tr>\n",
              "            <tr>\n",
              "                        <th id=\"T_9e812228_94f1_11ea_b6bd_0242ac1c0002level0_row5\" class=\"row_heading level0 row5\" >5</th>\n",
              "                        <td id=\"T_9e812228_94f1_11ea_b6bd_0242ac1c0002row5_col0\" class=\"data row5 col0\" >2017-03-29</td>\n",
              "                        <td id=\"T_9e812228_94f1_11ea_b6bd_0242ac1c0002row5_col1\" class=\"data row5 col1\" >매출</td>\n",
              "                        <td id=\"T_9e812228_94f1_11ea_b6bd_0242ac1c0002row5_col2\" class=\"data row5 col2\" >0</td>\n",
              "                        <td id=\"T_9e812228_94f1_11ea_b6bd_0242ac1c0002row5_col3\" class=\"data row5 col3\" >0</td>\n",
              "                        <td id=\"T_9e812228_94f1_11ea_b6bd_0242ac1c0002row5_col4\" class=\"data row5 col4\" >0</td>\n",
              "                        <td id=\"T_9e812228_94f1_11ea_b6bd_0242ac1c0002row5_col5\" class=\"data row5 col5\" >10</td>\n",
              "                        <td id=\"T_9e812228_94f1_11ea_b6bd_0242ac1c0002row5_col6\" class=\"data row5 col6\" >40</td>\n",
              "                        <td id=\"T_9e812228_94f1_11ea_b6bd_0242ac1c0002row5_col7\" class=\"data row5 col7\" >22</td>\n",
              "                        <td id=\"T_9e812228_94f1_11ea_b6bd_0242ac1c0002row5_col8\" class=\"data row5 col8\" >22.000000</td>\n",
              "                        <td id=\"T_9e812228_94f1_11ea_b6bd_0242ac1c0002row5_col9\" class=\"data row5 col9\" >0.000000</td>\n",
              "                        <td id=\"T_9e812228_94f1_11ea_b6bd_0242ac1c0002row5_col10\" class=\"data row5 col10\" >0.000000</td>\n",
              "            </tr>\n",
              "            <tr>\n",
              "                        <th id=\"T_9e812228_94f1_11ea_b6bd_0242ac1c0002level0_row6\" class=\"row_heading level0 row6\" >6</th>\n",
              "                        <td id=\"T_9e812228_94f1_11ea_b6bd_0242ac1c0002row6_col0\" class=\"data row6 col0\" >2017-03-29</td>\n",
              "                        <td id=\"T_9e812228_94f1_11ea_b6bd_0242ac1c0002row6_col1\" class=\"data row6 col1\" >매출</td>\n",
              "                        <td id=\"T_9e812228_94f1_11ea_b6bd_0242ac1c0002row6_col2\" class=\"data row6 col2\" >0</td>\n",
              "                        <td id=\"T_9e812228_94f1_11ea_b6bd_0242ac1c0002row6_col3\" class=\"data row6 col3\" >0</td>\n",
              "                        <td id=\"T_9e812228_94f1_11ea_b6bd_0242ac1c0002row6_col4\" class=\"data row6 col4\" >0</td>\n",
              "                        <td id=\"T_9e812228_94f1_11ea_b6bd_0242ac1c0002row6_col5\" class=\"data row6 col5\" >2</td>\n",
              "                        <td id=\"T_9e812228_94f1_11ea_b6bd_0242ac1c0002row6_col6\" class=\"data row6 col6\" >40</td>\n",
              "                        <td id=\"T_9e812228_94f1_11ea_b6bd_0242ac1c0002row6_col7\" class=\"data row6 col7\" >22</td>\n",
              "                        <td id=\"T_9e812228_94f1_11ea_b6bd_0242ac1c0002row6_col8\" class=\"data row6 col8\" >22.000000</td>\n",
              "                        <td id=\"T_9e812228_94f1_11ea_b6bd_0242ac1c0002row6_col9\" class=\"data row6 col9\" >0.000000</td>\n",
              "                        <td id=\"T_9e812228_94f1_11ea_b6bd_0242ac1c0002row6_col10\" class=\"data row6 col10\" >0.000000</td>\n",
              "            </tr>\n",
              "    </tbody></table>"
            ],
            "text/plain": [
              "<pandas.io.formats.style.Styler at 0x7fec6811de48>"
            ]
          },
          "metadata": {
            "tags": []
          },
          "execution_count": 58
        }
      ]
    },
    {
      "cell_type": "markdown",
      "metadata": {
        "id": "i6C1-Usswv1v",
        "colab_type": "text"
      },
      "source": [
        "#10 : 재고자산 단위원가결정방법 - 총평균법"
      ]
    },
    {
      "cell_type": "code",
      "metadata": {
        "id": "uVfi9ExGw46n",
        "colab_type": "code",
        "colab": {}
      },
      "source": [
        "import numpy as np\n",
        "import pandas as pd\n",
        "from pandas import Series, DataFrame"
      ],
      "execution_count": 0,
      "outputs": []
    },
    {
      "cell_type": "code",
      "metadata": {
        "id": "hYoAK-5Vw5jr",
        "colab_type": "code",
        "colab": {}
      },
      "source": [
        "pd.options.display.float_format = '{:,.0f}'.format\n",
        "#출력시 일괄적으로 천단위 콤마를 넣도록 하는 코딩임"
      ],
      "execution_count": 0,
      "outputs": []
    },
    {
      "cell_type": "code",
      "metadata": {
        "id": "302VqUiOw-ou",
        "colab_type": "code",
        "outputId": "f2c2b298-c4b7-4500-b724-06fa14792bc8",
        "colab": {
          "base_uri": "https://localhost:8080/",
          "height": 331
        }
      },
      "source": [
        "df = pd.read_csv('/content/gdrive/My Drive/Colab Notebooks/inventory1.csv', encoding='ms949')\n",
        "#encoding='ms949'를 반드시 입력하여야 한다.\n",
        "print(df)\n",
        "df.style"
      ],
      "execution_count": 0,
      "outputs": [
        {
          "output_type": "stream",
          "text": [
            "           일자    적요  입고수량   입고단가    입고금액  출고수량\n",
            "0  2017-03-01  전월이월     5  20000  100000     0\n",
            "1  2017-03-09    매입    15  18000  270000     0\n",
            "2  2017-03-16    매출     0      0       0     5\n",
            "3  2017-03-16    매출     0      0       0     5\n",
            "4  2017-03-24    매입    20  22000  440000     0\n",
            "5  2017-03-29    매출     0      0       0    10\n",
            "6  2017-03-29    매출     0      0       0     2\n"
          ],
          "name": "stdout"
        },
        {
          "output_type": "execute_result",
          "data": {
            "text/html": [
              "<style  type=\"text/css\" >\n",
              "</style><table id=\"T_c88ae6f8_94f1_11ea_b6bd_0242ac1c0002\" ><thead>    <tr>        <th class=\"blank level0\" ></th>        <th class=\"col_heading level0 col0\" >일자</th>        <th class=\"col_heading level0 col1\" >적요</th>        <th class=\"col_heading level0 col2\" >입고수량</th>        <th class=\"col_heading level0 col3\" >입고단가</th>        <th class=\"col_heading level0 col4\" >입고금액</th>        <th class=\"col_heading level0 col5\" >출고수량</th>    </tr></thead><tbody>\n",
              "                <tr>\n",
              "                        <th id=\"T_c88ae6f8_94f1_11ea_b6bd_0242ac1c0002level0_row0\" class=\"row_heading level0 row0\" >0</th>\n",
              "                        <td id=\"T_c88ae6f8_94f1_11ea_b6bd_0242ac1c0002row0_col0\" class=\"data row0 col0\" >2017-03-01</td>\n",
              "                        <td id=\"T_c88ae6f8_94f1_11ea_b6bd_0242ac1c0002row0_col1\" class=\"data row0 col1\" >전월이월</td>\n",
              "                        <td id=\"T_c88ae6f8_94f1_11ea_b6bd_0242ac1c0002row0_col2\" class=\"data row0 col2\" >5</td>\n",
              "                        <td id=\"T_c88ae6f8_94f1_11ea_b6bd_0242ac1c0002row0_col3\" class=\"data row0 col3\" >20000</td>\n",
              "                        <td id=\"T_c88ae6f8_94f1_11ea_b6bd_0242ac1c0002row0_col4\" class=\"data row0 col4\" >100000</td>\n",
              "                        <td id=\"T_c88ae6f8_94f1_11ea_b6bd_0242ac1c0002row0_col5\" class=\"data row0 col5\" >0</td>\n",
              "            </tr>\n",
              "            <tr>\n",
              "                        <th id=\"T_c88ae6f8_94f1_11ea_b6bd_0242ac1c0002level0_row1\" class=\"row_heading level0 row1\" >1</th>\n",
              "                        <td id=\"T_c88ae6f8_94f1_11ea_b6bd_0242ac1c0002row1_col0\" class=\"data row1 col0\" >2017-03-09</td>\n",
              "                        <td id=\"T_c88ae6f8_94f1_11ea_b6bd_0242ac1c0002row1_col1\" class=\"data row1 col1\" >매입</td>\n",
              "                        <td id=\"T_c88ae6f8_94f1_11ea_b6bd_0242ac1c0002row1_col2\" class=\"data row1 col2\" >15</td>\n",
              "                        <td id=\"T_c88ae6f8_94f1_11ea_b6bd_0242ac1c0002row1_col3\" class=\"data row1 col3\" >18000</td>\n",
              "                        <td id=\"T_c88ae6f8_94f1_11ea_b6bd_0242ac1c0002row1_col4\" class=\"data row1 col4\" >270000</td>\n",
              "                        <td id=\"T_c88ae6f8_94f1_11ea_b6bd_0242ac1c0002row1_col5\" class=\"data row1 col5\" >0</td>\n",
              "            </tr>\n",
              "            <tr>\n",
              "                        <th id=\"T_c88ae6f8_94f1_11ea_b6bd_0242ac1c0002level0_row2\" class=\"row_heading level0 row2\" >2</th>\n",
              "                        <td id=\"T_c88ae6f8_94f1_11ea_b6bd_0242ac1c0002row2_col0\" class=\"data row2 col0\" >2017-03-16</td>\n",
              "                        <td id=\"T_c88ae6f8_94f1_11ea_b6bd_0242ac1c0002row2_col1\" class=\"data row2 col1\" >매출</td>\n",
              "                        <td id=\"T_c88ae6f8_94f1_11ea_b6bd_0242ac1c0002row2_col2\" class=\"data row2 col2\" >0</td>\n",
              "                        <td id=\"T_c88ae6f8_94f1_11ea_b6bd_0242ac1c0002row2_col3\" class=\"data row2 col3\" >0</td>\n",
              "                        <td id=\"T_c88ae6f8_94f1_11ea_b6bd_0242ac1c0002row2_col4\" class=\"data row2 col4\" >0</td>\n",
              "                        <td id=\"T_c88ae6f8_94f1_11ea_b6bd_0242ac1c0002row2_col5\" class=\"data row2 col5\" >5</td>\n",
              "            </tr>\n",
              "            <tr>\n",
              "                        <th id=\"T_c88ae6f8_94f1_11ea_b6bd_0242ac1c0002level0_row3\" class=\"row_heading level0 row3\" >3</th>\n",
              "                        <td id=\"T_c88ae6f8_94f1_11ea_b6bd_0242ac1c0002row3_col0\" class=\"data row3 col0\" >2017-03-16</td>\n",
              "                        <td id=\"T_c88ae6f8_94f1_11ea_b6bd_0242ac1c0002row3_col1\" class=\"data row3 col1\" >매출</td>\n",
              "                        <td id=\"T_c88ae6f8_94f1_11ea_b6bd_0242ac1c0002row3_col2\" class=\"data row3 col2\" >0</td>\n",
              "                        <td id=\"T_c88ae6f8_94f1_11ea_b6bd_0242ac1c0002row3_col3\" class=\"data row3 col3\" >0</td>\n",
              "                        <td id=\"T_c88ae6f8_94f1_11ea_b6bd_0242ac1c0002row3_col4\" class=\"data row3 col4\" >0</td>\n",
              "                        <td id=\"T_c88ae6f8_94f1_11ea_b6bd_0242ac1c0002row3_col5\" class=\"data row3 col5\" >5</td>\n",
              "            </tr>\n",
              "            <tr>\n",
              "                        <th id=\"T_c88ae6f8_94f1_11ea_b6bd_0242ac1c0002level0_row4\" class=\"row_heading level0 row4\" >4</th>\n",
              "                        <td id=\"T_c88ae6f8_94f1_11ea_b6bd_0242ac1c0002row4_col0\" class=\"data row4 col0\" >2017-03-24</td>\n",
              "                        <td id=\"T_c88ae6f8_94f1_11ea_b6bd_0242ac1c0002row4_col1\" class=\"data row4 col1\" >매입</td>\n",
              "                        <td id=\"T_c88ae6f8_94f1_11ea_b6bd_0242ac1c0002row4_col2\" class=\"data row4 col2\" >20</td>\n",
              "                        <td id=\"T_c88ae6f8_94f1_11ea_b6bd_0242ac1c0002row4_col3\" class=\"data row4 col3\" >22000</td>\n",
              "                        <td id=\"T_c88ae6f8_94f1_11ea_b6bd_0242ac1c0002row4_col4\" class=\"data row4 col4\" >440000</td>\n",
              "                        <td id=\"T_c88ae6f8_94f1_11ea_b6bd_0242ac1c0002row4_col5\" class=\"data row4 col5\" >0</td>\n",
              "            </tr>\n",
              "            <tr>\n",
              "                        <th id=\"T_c88ae6f8_94f1_11ea_b6bd_0242ac1c0002level0_row5\" class=\"row_heading level0 row5\" >5</th>\n",
              "                        <td id=\"T_c88ae6f8_94f1_11ea_b6bd_0242ac1c0002row5_col0\" class=\"data row5 col0\" >2017-03-29</td>\n",
              "                        <td id=\"T_c88ae6f8_94f1_11ea_b6bd_0242ac1c0002row5_col1\" class=\"data row5 col1\" >매출</td>\n",
              "                        <td id=\"T_c88ae6f8_94f1_11ea_b6bd_0242ac1c0002row5_col2\" class=\"data row5 col2\" >0</td>\n",
              "                        <td id=\"T_c88ae6f8_94f1_11ea_b6bd_0242ac1c0002row5_col3\" class=\"data row5 col3\" >0</td>\n",
              "                        <td id=\"T_c88ae6f8_94f1_11ea_b6bd_0242ac1c0002row5_col4\" class=\"data row5 col4\" >0</td>\n",
              "                        <td id=\"T_c88ae6f8_94f1_11ea_b6bd_0242ac1c0002row5_col5\" class=\"data row5 col5\" >10</td>\n",
              "            </tr>\n",
              "            <tr>\n",
              "                        <th id=\"T_c88ae6f8_94f1_11ea_b6bd_0242ac1c0002level0_row6\" class=\"row_heading level0 row6\" >6</th>\n",
              "                        <td id=\"T_c88ae6f8_94f1_11ea_b6bd_0242ac1c0002row6_col0\" class=\"data row6 col0\" >2017-03-29</td>\n",
              "                        <td id=\"T_c88ae6f8_94f1_11ea_b6bd_0242ac1c0002row6_col1\" class=\"data row6 col1\" >매출</td>\n",
              "                        <td id=\"T_c88ae6f8_94f1_11ea_b6bd_0242ac1c0002row6_col2\" class=\"data row6 col2\" >0</td>\n",
              "                        <td id=\"T_c88ae6f8_94f1_11ea_b6bd_0242ac1c0002row6_col3\" class=\"data row6 col3\" >0</td>\n",
              "                        <td id=\"T_c88ae6f8_94f1_11ea_b6bd_0242ac1c0002row6_col4\" class=\"data row6 col4\" >0</td>\n",
              "                        <td id=\"T_c88ae6f8_94f1_11ea_b6bd_0242ac1c0002row6_col5\" class=\"data row6 col5\" >2</td>\n",
              "            </tr>\n",
              "    </tbody></table>"
            ],
            "text/plain": [
              "<pandas.io.formats.style.Styler at 0x7fec6811da90>"
            ]
          },
          "metadata": {
            "tags": []
          },
          "execution_count": 61
        }
      ]
    },
    {
      "cell_type": "code",
      "metadata": {
        "id": "2el7yAUDxBci",
        "colab_type": "code",
        "outputId": "bc877bcc-ac41-4bdf-dda7-b62b5e481154",
        "colab": {
          "base_uri": "https://localhost:8080/",
          "height": 53
        }
      },
      "source": [
        "입고수량합계 = df['입고수량'].sum()\n",
        "출고수량합계 = df['출고수량'].sum()\n",
        "잔고수량 = 입고수량합계 - 출고수량합계\n",
        "입고금액합계 = df['입고금액'].sum()\n",
        "총평균단가 = 입고금액합계/입고수량합계\n",
        "기말재고자산 = 잔고수량*총평균단가\n",
        "기말재고자산 = float(기말재고자산)\n",
        "\n",
        "print(\"기말재고자산: \",\"{:,}\".format(기말재고자산))\n",
        "print(\"매출원가: \", \"{:,}\".format(매출원가))"
      ],
      "execution_count": 0,
      "outputs": [
        {
          "output_type": "stream",
          "text": [
            "기말재고자산:  364,500.0\n",
            "매출원가:  414,000.0\n"
          ],
          "name": "stdout"
        }
      ]
    },
    {
      "cell_type": "markdown",
      "metadata": {
        "id": "dwum_CigxGnG",
        "colab_type": "text"
      },
      "source": [
        "#11 : 재고자산 단위원가결정방법 - 이동평균법"
      ]
    },
    {
      "cell_type": "code",
      "metadata": {
        "id": "sdg-oomvxH4t",
        "colab_type": "code",
        "colab": {}
      },
      "source": [
        "import numpy as np\n",
        "import pandas as pd\n",
        "from pandas import Series, DataFrame"
      ],
      "execution_count": 0,
      "outputs": []
    },
    {
      "cell_type": "code",
      "metadata": {
        "id": "jryoety0xJ7e",
        "colab_type": "code",
        "colab": {}
      },
      "source": [
        "df = pd.read_csv('/content/gdrive/My Drive/Colab Notebooks/inventory1.csv', encoding='ms949')"
      ],
      "execution_count": 0,
      "outputs": []
    },
    {
      "cell_type": "code",
      "metadata": {
        "id": "1XOObe_cxMW-",
        "colab_type": "code",
        "colab": {}
      },
      "source": [
        "출고수량합계 = df['출고수량'].sum()"
      ],
      "execution_count": 0,
      "outputs": []
    },
    {
      "cell_type": "code",
      "metadata": {
        "id": "FVKR5VbCxPQx",
        "colab_type": "code",
        "colab": {}
      },
      "source": [
        "df['입고수량누적'] = df['입고수량'].cumsum()\n",
        "df['출고수량누적'] = df['출고수량'].cumsum()\n",
        "df['잔고수량누적'] = df['입고수량누적'] - df['출고수량누적']\n",
        "df['잔고수량누적shift'] = df['잔고수량누적'].shift(1).fillna(0)"
      ],
      "execution_count": 0,
      "outputs": []
    },
    {
      "cell_type": "code",
      "metadata": {
        "id": "dwcTBLC7xRsd",
        "colab_type": "code",
        "colab": {}
      },
      "source": [
        "price =0\n",
        "\n",
        "def 이동평균단가(df):\n",
        "    global price\n",
        "    if df['입고수량'] == df['잔고수량누적']:\n",
        "        price = df['입고단가']\n",
        "        return price\n",
        "\n",
        "    elif df['입고수량'] > 0:\n",
        "        price = (df['잔고수량누적shift']*price + df['입고수량']*df['입고단가'])/df['잔고수량누적']\n",
        "        return price\n",
        "\n",
        "    else:\n",
        "        return price"
      ],
      "execution_count": 0,
      "outputs": []
    },
    {
      "cell_type": "code",
      "metadata": {
        "id": "SQiUysbExT4r",
        "colab_type": "code",
        "colab": {}
      },
      "source": [
        "df['이동평균단가'] = df.apply(이동평균단가, axis=1)"
      ],
      "execution_count": 0,
      "outputs": []
    },
    {
      "cell_type": "code",
      "metadata": {
        "id": "YqJLl-j8xVhx",
        "colab_type": "code",
        "outputId": "4d227d08-9b3e-43a9-81ec-18feeb1a1342",
        "colab": {
          "base_uri": "https://localhost:8080/",
          "height": 367
        }
      },
      "source": [
        "df['출고순서누적'] = df['입고수량누적'].apply(lambda x:출고수량합계 if x >= 출고수량합계 else x)\n",
        "print(df)\n",
        "df.style"
      ],
      "execution_count": 0,
      "outputs": [
        {
          "output_type": "stream",
          "text": [
            "           일자    적요  입고수량   입고단가  ...  잔고수량누적  잔고수량누적shift  이동평균단가  출고순서누적\n",
            "0  2017-03-01  전월이월     5  20000  ...       5            0  20,000       5\n",
            "1  2017-03-09    매입    15  18000  ...      20            5  18,500      20\n",
            "2  2017-03-16    매출     0      0  ...      15           20  18,500      20\n",
            "3  2017-03-16    매출     0      0  ...      10           15  18,500      20\n",
            "4  2017-03-24    매입    20  22000  ...      30           10  20,833      22\n",
            "5  2017-03-29    매출     0      0  ...      20           30  20,833      22\n",
            "6  2017-03-29    매출     0      0  ...      18           20  20,833      22\n",
            "\n",
            "[7 rows x 12 columns]\n"
          ],
          "name": "stdout"
        },
        {
          "output_type": "execute_result",
          "data": {
            "text/html": [
              "<style  type=\"text/css\" >\n",
              "</style><table id=\"T_f0e0aec6_94f1_11ea_b6bd_0242ac1c0002\" ><thead>    <tr>        <th class=\"blank level0\" ></th>        <th class=\"col_heading level0 col0\" >일자</th>        <th class=\"col_heading level0 col1\" >적요</th>        <th class=\"col_heading level0 col2\" >입고수량</th>        <th class=\"col_heading level0 col3\" >입고단가</th>        <th class=\"col_heading level0 col4\" >입고금액</th>        <th class=\"col_heading level0 col5\" >출고수량</th>        <th class=\"col_heading level0 col6\" >입고수량누적</th>        <th class=\"col_heading level0 col7\" >출고수량누적</th>        <th class=\"col_heading level0 col8\" >잔고수량누적</th>        <th class=\"col_heading level0 col9\" >잔고수량누적shift</th>        <th class=\"col_heading level0 col10\" >이동평균단가</th>        <th class=\"col_heading level0 col11\" >출고순서누적</th>    </tr></thead><tbody>\n",
              "                <tr>\n",
              "                        <th id=\"T_f0e0aec6_94f1_11ea_b6bd_0242ac1c0002level0_row0\" class=\"row_heading level0 row0\" >0</th>\n",
              "                        <td id=\"T_f0e0aec6_94f1_11ea_b6bd_0242ac1c0002row0_col0\" class=\"data row0 col0\" >2017-03-01</td>\n",
              "                        <td id=\"T_f0e0aec6_94f1_11ea_b6bd_0242ac1c0002row0_col1\" class=\"data row0 col1\" >전월이월</td>\n",
              "                        <td id=\"T_f0e0aec6_94f1_11ea_b6bd_0242ac1c0002row0_col2\" class=\"data row0 col2\" >5</td>\n",
              "                        <td id=\"T_f0e0aec6_94f1_11ea_b6bd_0242ac1c0002row0_col3\" class=\"data row0 col3\" >20000</td>\n",
              "                        <td id=\"T_f0e0aec6_94f1_11ea_b6bd_0242ac1c0002row0_col4\" class=\"data row0 col4\" >100000</td>\n",
              "                        <td id=\"T_f0e0aec6_94f1_11ea_b6bd_0242ac1c0002row0_col5\" class=\"data row0 col5\" >0</td>\n",
              "                        <td id=\"T_f0e0aec6_94f1_11ea_b6bd_0242ac1c0002row0_col6\" class=\"data row0 col6\" >5</td>\n",
              "                        <td id=\"T_f0e0aec6_94f1_11ea_b6bd_0242ac1c0002row0_col7\" class=\"data row0 col7\" >0</td>\n",
              "                        <td id=\"T_f0e0aec6_94f1_11ea_b6bd_0242ac1c0002row0_col8\" class=\"data row0 col8\" >5</td>\n",
              "                        <td id=\"T_f0e0aec6_94f1_11ea_b6bd_0242ac1c0002row0_col9\" class=\"data row0 col9\" >0.000000</td>\n",
              "                        <td id=\"T_f0e0aec6_94f1_11ea_b6bd_0242ac1c0002row0_col10\" class=\"data row0 col10\" >20000.000000</td>\n",
              "                        <td id=\"T_f0e0aec6_94f1_11ea_b6bd_0242ac1c0002row0_col11\" class=\"data row0 col11\" >5</td>\n",
              "            </tr>\n",
              "            <tr>\n",
              "                        <th id=\"T_f0e0aec6_94f1_11ea_b6bd_0242ac1c0002level0_row1\" class=\"row_heading level0 row1\" >1</th>\n",
              "                        <td id=\"T_f0e0aec6_94f1_11ea_b6bd_0242ac1c0002row1_col0\" class=\"data row1 col0\" >2017-03-09</td>\n",
              "                        <td id=\"T_f0e0aec6_94f1_11ea_b6bd_0242ac1c0002row1_col1\" class=\"data row1 col1\" >매입</td>\n",
              "                        <td id=\"T_f0e0aec6_94f1_11ea_b6bd_0242ac1c0002row1_col2\" class=\"data row1 col2\" >15</td>\n",
              "                        <td id=\"T_f0e0aec6_94f1_11ea_b6bd_0242ac1c0002row1_col3\" class=\"data row1 col3\" >18000</td>\n",
              "                        <td id=\"T_f0e0aec6_94f1_11ea_b6bd_0242ac1c0002row1_col4\" class=\"data row1 col4\" >270000</td>\n",
              "                        <td id=\"T_f0e0aec6_94f1_11ea_b6bd_0242ac1c0002row1_col5\" class=\"data row1 col5\" >0</td>\n",
              "                        <td id=\"T_f0e0aec6_94f1_11ea_b6bd_0242ac1c0002row1_col6\" class=\"data row1 col6\" >20</td>\n",
              "                        <td id=\"T_f0e0aec6_94f1_11ea_b6bd_0242ac1c0002row1_col7\" class=\"data row1 col7\" >0</td>\n",
              "                        <td id=\"T_f0e0aec6_94f1_11ea_b6bd_0242ac1c0002row1_col8\" class=\"data row1 col8\" >20</td>\n",
              "                        <td id=\"T_f0e0aec6_94f1_11ea_b6bd_0242ac1c0002row1_col9\" class=\"data row1 col9\" >5.000000</td>\n",
              "                        <td id=\"T_f0e0aec6_94f1_11ea_b6bd_0242ac1c0002row1_col10\" class=\"data row1 col10\" >18500.000000</td>\n",
              "                        <td id=\"T_f0e0aec6_94f1_11ea_b6bd_0242ac1c0002row1_col11\" class=\"data row1 col11\" >20</td>\n",
              "            </tr>\n",
              "            <tr>\n",
              "                        <th id=\"T_f0e0aec6_94f1_11ea_b6bd_0242ac1c0002level0_row2\" class=\"row_heading level0 row2\" >2</th>\n",
              "                        <td id=\"T_f0e0aec6_94f1_11ea_b6bd_0242ac1c0002row2_col0\" class=\"data row2 col0\" >2017-03-16</td>\n",
              "                        <td id=\"T_f0e0aec6_94f1_11ea_b6bd_0242ac1c0002row2_col1\" class=\"data row2 col1\" >매출</td>\n",
              "                        <td id=\"T_f0e0aec6_94f1_11ea_b6bd_0242ac1c0002row2_col2\" class=\"data row2 col2\" >0</td>\n",
              "                        <td id=\"T_f0e0aec6_94f1_11ea_b6bd_0242ac1c0002row2_col3\" class=\"data row2 col3\" >0</td>\n",
              "                        <td id=\"T_f0e0aec6_94f1_11ea_b6bd_0242ac1c0002row2_col4\" class=\"data row2 col4\" >0</td>\n",
              "                        <td id=\"T_f0e0aec6_94f1_11ea_b6bd_0242ac1c0002row2_col5\" class=\"data row2 col5\" >5</td>\n",
              "                        <td id=\"T_f0e0aec6_94f1_11ea_b6bd_0242ac1c0002row2_col6\" class=\"data row2 col6\" >20</td>\n",
              "                        <td id=\"T_f0e0aec6_94f1_11ea_b6bd_0242ac1c0002row2_col7\" class=\"data row2 col7\" >5</td>\n",
              "                        <td id=\"T_f0e0aec6_94f1_11ea_b6bd_0242ac1c0002row2_col8\" class=\"data row2 col8\" >15</td>\n",
              "                        <td id=\"T_f0e0aec6_94f1_11ea_b6bd_0242ac1c0002row2_col9\" class=\"data row2 col9\" >20.000000</td>\n",
              "                        <td id=\"T_f0e0aec6_94f1_11ea_b6bd_0242ac1c0002row2_col10\" class=\"data row2 col10\" >18500.000000</td>\n",
              "                        <td id=\"T_f0e0aec6_94f1_11ea_b6bd_0242ac1c0002row2_col11\" class=\"data row2 col11\" >20</td>\n",
              "            </tr>\n",
              "            <tr>\n",
              "                        <th id=\"T_f0e0aec6_94f1_11ea_b6bd_0242ac1c0002level0_row3\" class=\"row_heading level0 row3\" >3</th>\n",
              "                        <td id=\"T_f0e0aec6_94f1_11ea_b6bd_0242ac1c0002row3_col0\" class=\"data row3 col0\" >2017-03-16</td>\n",
              "                        <td id=\"T_f0e0aec6_94f1_11ea_b6bd_0242ac1c0002row3_col1\" class=\"data row3 col1\" >매출</td>\n",
              "                        <td id=\"T_f0e0aec6_94f1_11ea_b6bd_0242ac1c0002row3_col2\" class=\"data row3 col2\" >0</td>\n",
              "                        <td id=\"T_f0e0aec6_94f1_11ea_b6bd_0242ac1c0002row3_col3\" class=\"data row3 col3\" >0</td>\n",
              "                        <td id=\"T_f0e0aec6_94f1_11ea_b6bd_0242ac1c0002row3_col4\" class=\"data row3 col4\" >0</td>\n",
              "                        <td id=\"T_f0e0aec6_94f1_11ea_b6bd_0242ac1c0002row3_col5\" class=\"data row3 col5\" >5</td>\n",
              "                        <td id=\"T_f0e0aec6_94f1_11ea_b6bd_0242ac1c0002row3_col6\" class=\"data row3 col6\" >20</td>\n",
              "                        <td id=\"T_f0e0aec6_94f1_11ea_b6bd_0242ac1c0002row3_col7\" class=\"data row3 col7\" >10</td>\n",
              "                        <td id=\"T_f0e0aec6_94f1_11ea_b6bd_0242ac1c0002row3_col8\" class=\"data row3 col8\" >10</td>\n",
              "                        <td id=\"T_f0e0aec6_94f1_11ea_b6bd_0242ac1c0002row3_col9\" class=\"data row3 col9\" >15.000000</td>\n",
              "                        <td id=\"T_f0e0aec6_94f1_11ea_b6bd_0242ac1c0002row3_col10\" class=\"data row3 col10\" >18500.000000</td>\n",
              "                        <td id=\"T_f0e0aec6_94f1_11ea_b6bd_0242ac1c0002row3_col11\" class=\"data row3 col11\" >20</td>\n",
              "            </tr>\n",
              "            <tr>\n",
              "                        <th id=\"T_f0e0aec6_94f1_11ea_b6bd_0242ac1c0002level0_row4\" class=\"row_heading level0 row4\" >4</th>\n",
              "                        <td id=\"T_f0e0aec6_94f1_11ea_b6bd_0242ac1c0002row4_col0\" class=\"data row4 col0\" >2017-03-24</td>\n",
              "                        <td id=\"T_f0e0aec6_94f1_11ea_b6bd_0242ac1c0002row4_col1\" class=\"data row4 col1\" >매입</td>\n",
              "                        <td id=\"T_f0e0aec6_94f1_11ea_b6bd_0242ac1c0002row4_col2\" class=\"data row4 col2\" >20</td>\n",
              "                        <td id=\"T_f0e0aec6_94f1_11ea_b6bd_0242ac1c0002row4_col3\" class=\"data row4 col3\" >22000</td>\n",
              "                        <td id=\"T_f0e0aec6_94f1_11ea_b6bd_0242ac1c0002row4_col4\" class=\"data row4 col4\" >440000</td>\n",
              "                        <td id=\"T_f0e0aec6_94f1_11ea_b6bd_0242ac1c0002row4_col5\" class=\"data row4 col5\" >0</td>\n",
              "                        <td id=\"T_f0e0aec6_94f1_11ea_b6bd_0242ac1c0002row4_col6\" class=\"data row4 col6\" >40</td>\n",
              "                        <td id=\"T_f0e0aec6_94f1_11ea_b6bd_0242ac1c0002row4_col7\" class=\"data row4 col7\" >10</td>\n",
              "                        <td id=\"T_f0e0aec6_94f1_11ea_b6bd_0242ac1c0002row4_col8\" class=\"data row4 col8\" >30</td>\n",
              "                        <td id=\"T_f0e0aec6_94f1_11ea_b6bd_0242ac1c0002row4_col9\" class=\"data row4 col9\" >10.000000</td>\n",
              "                        <td id=\"T_f0e0aec6_94f1_11ea_b6bd_0242ac1c0002row4_col10\" class=\"data row4 col10\" >20833.333333</td>\n",
              "                        <td id=\"T_f0e0aec6_94f1_11ea_b6bd_0242ac1c0002row4_col11\" class=\"data row4 col11\" >22</td>\n",
              "            </tr>\n",
              "            <tr>\n",
              "                        <th id=\"T_f0e0aec6_94f1_11ea_b6bd_0242ac1c0002level0_row5\" class=\"row_heading level0 row5\" >5</th>\n",
              "                        <td id=\"T_f0e0aec6_94f1_11ea_b6bd_0242ac1c0002row5_col0\" class=\"data row5 col0\" >2017-03-29</td>\n",
              "                        <td id=\"T_f0e0aec6_94f1_11ea_b6bd_0242ac1c0002row5_col1\" class=\"data row5 col1\" >매출</td>\n",
              "                        <td id=\"T_f0e0aec6_94f1_11ea_b6bd_0242ac1c0002row5_col2\" class=\"data row5 col2\" >0</td>\n",
              "                        <td id=\"T_f0e0aec6_94f1_11ea_b6bd_0242ac1c0002row5_col3\" class=\"data row5 col3\" >0</td>\n",
              "                        <td id=\"T_f0e0aec6_94f1_11ea_b6bd_0242ac1c0002row5_col4\" class=\"data row5 col4\" >0</td>\n",
              "                        <td id=\"T_f0e0aec6_94f1_11ea_b6bd_0242ac1c0002row5_col5\" class=\"data row5 col5\" >10</td>\n",
              "                        <td id=\"T_f0e0aec6_94f1_11ea_b6bd_0242ac1c0002row5_col6\" class=\"data row5 col6\" >40</td>\n",
              "                        <td id=\"T_f0e0aec6_94f1_11ea_b6bd_0242ac1c0002row5_col7\" class=\"data row5 col7\" >20</td>\n",
              "                        <td id=\"T_f0e0aec6_94f1_11ea_b6bd_0242ac1c0002row5_col8\" class=\"data row5 col8\" >20</td>\n",
              "                        <td id=\"T_f0e0aec6_94f1_11ea_b6bd_0242ac1c0002row5_col9\" class=\"data row5 col9\" >30.000000</td>\n",
              "                        <td id=\"T_f0e0aec6_94f1_11ea_b6bd_0242ac1c0002row5_col10\" class=\"data row5 col10\" >20833.333333</td>\n",
              "                        <td id=\"T_f0e0aec6_94f1_11ea_b6bd_0242ac1c0002row5_col11\" class=\"data row5 col11\" >22</td>\n",
              "            </tr>\n",
              "            <tr>\n",
              "                        <th id=\"T_f0e0aec6_94f1_11ea_b6bd_0242ac1c0002level0_row6\" class=\"row_heading level0 row6\" >6</th>\n",
              "                        <td id=\"T_f0e0aec6_94f1_11ea_b6bd_0242ac1c0002row6_col0\" class=\"data row6 col0\" >2017-03-29</td>\n",
              "                        <td id=\"T_f0e0aec6_94f1_11ea_b6bd_0242ac1c0002row6_col1\" class=\"data row6 col1\" >매출</td>\n",
              "                        <td id=\"T_f0e0aec6_94f1_11ea_b6bd_0242ac1c0002row6_col2\" class=\"data row6 col2\" >0</td>\n",
              "                        <td id=\"T_f0e0aec6_94f1_11ea_b6bd_0242ac1c0002row6_col3\" class=\"data row6 col3\" >0</td>\n",
              "                        <td id=\"T_f0e0aec6_94f1_11ea_b6bd_0242ac1c0002row6_col4\" class=\"data row6 col4\" >0</td>\n",
              "                        <td id=\"T_f0e0aec6_94f1_11ea_b6bd_0242ac1c0002row6_col5\" class=\"data row6 col5\" >2</td>\n",
              "                        <td id=\"T_f0e0aec6_94f1_11ea_b6bd_0242ac1c0002row6_col6\" class=\"data row6 col6\" >40</td>\n",
              "                        <td id=\"T_f0e0aec6_94f1_11ea_b6bd_0242ac1c0002row6_col7\" class=\"data row6 col7\" >22</td>\n",
              "                        <td id=\"T_f0e0aec6_94f1_11ea_b6bd_0242ac1c0002row6_col8\" class=\"data row6 col8\" >18</td>\n",
              "                        <td id=\"T_f0e0aec6_94f1_11ea_b6bd_0242ac1c0002row6_col9\" class=\"data row6 col9\" >20.000000</td>\n",
              "                        <td id=\"T_f0e0aec6_94f1_11ea_b6bd_0242ac1c0002row6_col10\" class=\"data row6 col10\" >20833.333333</td>\n",
              "                        <td id=\"T_f0e0aec6_94f1_11ea_b6bd_0242ac1c0002row6_col11\" class=\"data row6 col11\" >22</td>\n",
              "            </tr>\n",
              "    </tbody></table>"
            ],
            "text/plain": [
              "<pandas.io.formats.style.Styler at 0x7fec680d7198>"
            ]
          },
          "metadata": {
            "tags": []
          },
          "execution_count": 69
        }
      ]
    },
    {
      "cell_type": "code",
      "metadata": {
        "id": "Dv5u3QLUxXfm",
        "colab_type": "code",
        "outputId": "d4f8a3b4-6540-40ab-900c-97d8bad1f15a",
        "colab": {
          "base_uri": "https://localhost:8080/",
          "height": 503
        }
      },
      "source": [
        "df['출고순서_shift'] = df['출고순서누적'].shift(1).fillna(0)\n",
        "print(df)\n",
        "df.style"
      ],
      "execution_count": 0,
      "outputs": [
        {
          "output_type": "stream",
          "text": [
            "           일자    적요  입고수량   입고단가  ...  잔고수량누적shift  이동평균단가  출고순서누적  출고순서_shift\n",
            "0  2017-03-01  전월이월     5  20000  ...            0  20,000       5           0\n",
            "1  2017-03-09    매입    15  18000  ...            5  18,500      20           5\n",
            "2  2017-03-16    매출     0      0  ...           20  18,500      20          20\n",
            "3  2017-03-16    매출     0      0  ...           15  18,500      20          20\n",
            "4  2017-03-24    매입    20  22000  ...           10  20,833      22          20\n",
            "5  2017-03-29    매출     0      0  ...           30  20,833      22          22\n",
            "6  2017-03-29    매출     0      0  ...           20  20,833      22          22\n",
            "\n",
            "[7 rows x 13 columns]\n"
          ],
          "name": "stdout"
        },
        {
          "output_type": "execute_result",
          "data": {
            "text/html": [
              "<style  type=\"text/css\" >\n",
              "</style><table id=\"T_fdd6eac8_94f1_11ea_b6bd_0242ac1c0002\" ><thead>    <tr>        <th class=\"blank level0\" ></th>        <th class=\"col_heading level0 col0\" >일자</th>        <th class=\"col_heading level0 col1\" >적요</th>        <th class=\"col_heading level0 col2\" >입고수량</th>        <th class=\"col_heading level0 col3\" >입고단가</th>        <th class=\"col_heading level0 col4\" >입고금액</th>        <th class=\"col_heading level0 col5\" >출고수량</th>        <th class=\"col_heading level0 col6\" >입고수량누적</th>        <th class=\"col_heading level0 col7\" >출고수량누적</th>        <th class=\"col_heading level0 col8\" >잔고수량누적</th>        <th class=\"col_heading level0 col9\" >잔고수량누적shift</th>        <th class=\"col_heading level0 col10\" >이동평균단가</th>        <th class=\"col_heading level0 col11\" >출고순서누적</th>        <th class=\"col_heading level0 col12\" >출고순서_shift</th>    </tr></thead><tbody>\n",
              "                <tr>\n",
              "                        <th id=\"T_fdd6eac8_94f1_11ea_b6bd_0242ac1c0002level0_row0\" class=\"row_heading level0 row0\" >0</th>\n",
              "                        <td id=\"T_fdd6eac8_94f1_11ea_b6bd_0242ac1c0002row0_col0\" class=\"data row0 col0\" >2017-03-01</td>\n",
              "                        <td id=\"T_fdd6eac8_94f1_11ea_b6bd_0242ac1c0002row0_col1\" class=\"data row0 col1\" >전월이월</td>\n",
              "                        <td id=\"T_fdd6eac8_94f1_11ea_b6bd_0242ac1c0002row0_col2\" class=\"data row0 col2\" >5</td>\n",
              "                        <td id=\"T_fdd6eac8_94f1_11ea_b6bd_0242ac1c0002row0_col3\" class=\"data row0 col3\" >20000</td>\n",
              "                        <td id=\"T_fdd6eac8_94f1_11ea_b6bd_0242ac1c0002row0_col4\" class=\"data row0 col4\" >100000</td>\n",
              "                        <td id=\"T_fdd6eac8_94f1_11ea_b6bd_0242ac1c0002row0_col5\" class=\"data row0 col5\" >0</td>\n",
              "                        <td id=\"T_fdd6eac8_94f1_11ea_b6bd_0242ac1c0002row0_col6\" class=\"data row0 col6\" >5</td>\n",
              "                        <td id=\"T_fdd6eac8_94f1_11ea_b6bd_0242ac1c0002row0_col7\" class=\"data row0 col7\" >0</td>\n",
              "                        <td id=\"T_fdd6eac8_94f1_11ea_b6bd_0242ac1c0002row0_col8\" class=\"data row0 col8\" >5</td>\n",
              "                        <td id=\"T_fdd6eac8_94f1_11ea_b6bd_0242ac1c0002row0_col9\" class=\"data row0 col9\" >0.000000</td>\n",
              "                        <td id=\"T_fdd6eac8_94f1_11ea_b6bd_0242ac1c0002row0_col10\" class=\"data row0 col10\" >20000.000000</td>\n",
              "                        <td id=\"T_fdd6eac8_94f1_11ea_b6bd_0242ac1c0002row0_col11\" class=\"data row0 col11\" >5</td>\n",
              "                        <td id=\"T_fdd6eac8_94f1_11ea_b6bd_0242ac1c0002row0_col12\" class=\"data row0 col12\" >0.000000</td>\n",
              "            </tr>\n",
              "            <tr>\n",
              "                        <th id=\"T_fdd6eac8_94f1_11ea_b6bd_0242ac1c0002level0_row1\" class=\"row_heading level0 row1\" >1</th>\n",
              "                        <td id=\"T_fdd6eac8_94f1_11ea_b6bd_0242ac1c0002row1_col0\" class=\"data row1 col0\" >2017-03-09</td>\n",
              "                        <td id=\"T_fdd6eac8_94f1_11ea_b6bd_0242ac1c0002row1_col1\" class=\"data row1 col1\" >매입</td>\n",
              "                        <td id=\"T_fdd6eac8_94f1_11ea_b6bd_0242ac1c0002row1_col2\" class=\"data row1 col2\" >15</td>\n",
              "                        <td id=\"T_fdd6eac8_94f1_11ea_b6bd_0242ac1c0002row1_col3\" class=\"data row1 col3\" >18000</td>\n",
              "                        <td id=\"T_fdd6eac8_94f1_11ea_b6bd_0242ac1c0002row1_col4\" class=\"data row1 col4\" >270000</td>\n",
              "                        <td id=\"T_fdd6eac8_94f1_11ea_b6bd_0242ac1c0002row1_col5\" class=\"data row1 col5\" >0</td>\n",
              "                        <td id=\"T_fdd6eac8_94f1_11ea_b6bd_0242ac1c0002row1_col6\" class=\"data row1 col6\" >20</td>\n",
              "                        <td id=\"T_fdd6eac8_94f1_11ea_b6bd_0242ac1c0002row1_col7\" class=\"data row1 col7\" >0</td>\n",
              "                        <td id=\"T_fdd6eac8_94f1_11ea_b6bd_0242ac1c0002row1_col8\" class=\"data row1 col8\" >20</td>\n",
              "                        <td id=\"T_fdd6eac8_94f1_11ea_b6bd_0242ac1c0002row1_col9\" class=\"data row1 col9\" >5.000000</td>\n",
              "                        <td id=\"T_fdd6eac8_94f1_11ea_b6bd_0242ac1c0002row1_col10\" class=\"data row1 col10\" >18500.000000</td>\n",
              "                        <td id=\"T_fdd6eac8_94f1_11ea_b6bd_0242ac1c0002row1_col11\" class=\"data row1 col11\" >20</td>\n",
              "                        <td id=\"T_fdd6eac8_94f1_11ea_b6bd_0242ac1c0002row1_col12\" class=\"data row1 col12\" >5.000000</td>\n",
              "            </tr>\n",
              "            <tr>\n",
              "                        <th id=\"T_fdd6eac8_94f1_11ea_b6bd_0242ac1c0002level0_row2\" class=\"row_heading level0 row2\" >2</th>\n",
              "                        <td id=\"T_fdd6eac8_94f1_11ea_b6bd_0242ac1c0002row2_col0\" class=\"data row2 col0\" >2017-03-16</td>\n",
              "                        <td id=\"T_fdd6eac8_94f1_11ea_b6bd_0242ac1c0002row2_col1\" class=\"data row2 col1\" >매출</td>\n",
              "                        <td id=\"T_fdd6eac8_94f1_11ea_b6bd_0242ac1c0002row2_col2\" class=\"data row2 col2\" >0</td>\n",
              "                        <td id=\"T_fdd6eac8_94f1_11ea_b6bd_0242ac1c0002row2_col3\" class=\"data row2 col3\" >0</td>\n",
              "                        <td id=\"T_fdd6eac8_94f1_11ea_b6bd_0242ac1c0002row2_col4\" class=\"data row2 col4\" >0</td>\n",
              "                        <td id=\"T_fdd6eac8_94f1_11ea_b6bd_0242ac1c0002row2_col5\" class=\"data row2 col5\" >5</td>\n",
              "                        <td id=\"T_fdd6eac8_94f1_11ea_b6bd_0242ac1c0002row2_col6\" class=\"data row2 col6\" >20</td>\n",
              "                        <td id=\"T_fdd6eac8_94f1_11ea_b6bd_0242ac1c0002row2_col7\" class=\"data row2 col7\" >5</td>\n",
              "                        <td id=\"T_fdd6eac8_94f1_11ea_b6bd_0242ac1c0002row2_col8\" class=\"data row2 col8\" >15</td>\n",
              "                        <td id=\"T_fdd6eac8_94f1_11ea_b6bd_0242ac1c0002row2_col9\" class=\"data row2 col9\" >20.000000</td>\n",
              "                        <td id=\"T_fdd6eac8_94f1_11ea_b6bd_0242ac1c0002row2_col10\" class=\"data row2 col10\" >18500.000000</td>\n",
              "                        <td id=\"T_fdd6eac8_94f1_11ea_b6bd_0242ac1c0002row2_col11\" class=\"data row2 col11\" >20</td>\n",
              "                        <td id=\"T_fdd6eac8_94f1_11ea_b6bd_0242ac1c0002row2_col12\" class=\"data row2 col12\" >20.000000</td>\n",
              "            </tr>\n",
              "            <tr>\n",
              "                        <th id=\"T_fdd6eac8_94f1_11ea_b6bd_0242ac1c0002level0_row3\" class=\"row_heading level0 row3\" >3</th>\n",
              "                        <td id=\"T_fdd6eac8_94f1_11ea_b6bd_0242ac1c0002row3_col0\" class=\"data row3 col0\" >2017-03-16</td>\n",
              "                        <td id=\"T_fdd6eac8_94f1_11ea_b6bd_0242ac1c0002row3_col1\" class=\"data row3 col1\" >매출</td>\n",
              "                        <td id=\"T_fdd6eac8_94f1_11ea_b6bd_0242ac1c0002row3_col2\" class=\"data row3 col2\" >0</td>\n",
              "                        <td id=\"T_fdd6eac8_94f1_11ea_b6bd_0242ac1c0002row3_col3\" class=\"data row3 col3\" >0</td>\n",
              "                        <td id=\"T_fdd6eac8_94f1_11ea_b6bd_0242ac1c0002row3_col4\" class=\"data row3 col4\" >0</td>\n",
              "                        <td id=\"T_fdd6eac8_94f1_11ea_b6bd_0242ac1c0002row3_col5\" class=\"data row3 col5\" >5</td>\n",
              "                        <td id=\"T_fdd6eac8_94f1_11ea_b6bd_0242ac1c0002row3_col6\" class=\"data row3 col6\" >20</td>\n",
              "                        <td id=\"T_fdd6eac8_94f1_11ea_b6bd_0242ac1c0002row3_col7\" class=\"data row3 col7\" >10</td>\n",
              "                        <td id=\"T_fdd6eac8_94f1_11ea_b6bd_0242ac1c0002row3_col8\" class=\"data row3 col8\" >10</td>\n",
              "                        <td id=\"T_fdd6eac8_94f1_11ea_b6bd_0242ac1c0002row3_col9\" class=\"data row3 col9\" >15.000000</td>\n",
              "                        <td id=\"T_fdd6eac8_94f1_11ea_b6bd_0242ac1c0002row3_col10\" class=\"data row3 col10\" >18500.000000</td>\n",
              "                        <td id=\"T_fdd6eac8_94f1_11ea_b6bd_0242ac1c0002row3_col11\" class=\"data row3 col11\" >20</td>\n",
              "                        <td id=\"T_fdd6eac8_94f1_11ea_b6bd_0242ac1c0002row3_col12\" class=\"data row3 col12\" >20.000000</td>\n",
              "            </tr>\n",
              "            <tr>\n",
              "                        <th id=\"T_fdd6eac8_94f1_11ea_b6bd_0242ac1c0002level0_row4\" class=\"row_heading level0 row4\" >4</th>\n",
              "                        <td id=\"T_fdd6eac8_94f1_11ea_b6bd_0242ac1c0002row4_col0\" class=\"data row4 col0\" >2017-03-24</td>\n",
              "                        <td id=\"T_fdd6eac8_94f1_11ea_b6bd_0242ac1c0002row4_col1\" class=\"data row4 col1\" >매입</td>\n",
              "                        <td id=\"T_fdd6eac8_94f1_11ea_b6bd_0242ac1c0002row4_col2\" class=\"data row4 col2\" >20</td>\n",
              "                        <td id=\"T_fdd6eac8_94f1_11ea_b6bd_0242ac1c0002row4_col3\" class=\"data row4 col3\" >22000</td>\n",
              "                        <td id=\"T_fdd6eac8_94f1_11ea_b6bd_0242ac1c0002row4_col4\" class=\"data row4 col4\" >440000</td>\n",
              "                        <td id=\"T_fdd6eac8_94f1_11ea_b6bd_0242ac1c0002row4_col5\" class=\"data row4 col5\" >0</td>\n",
              "                        <td id=\"T_fdd6eac8_94f1_11ea_b6bd_0242ac1c0002row4_col6\" class=\"data row4 col6\" >40</td>\n",
              "                        <td id=\"T_fdd6eac8_94f1_11ea_b6bd_0242ac1c0002row4_col7\" class=\"data row4 col7\" >10</td>\n",
              "                        <td id=\"T_fdd6eac8_94f1_11ea_b6bd_0242ac1c0002row4_col8\" class=\"data row4 col8\" >30</td>\n",
              "                        <td id=\"T_fdd6eac8_94f1_11ea_b6bd_0242ac1c0002row4_col9\" class=\"data row4 col9\" >10.000000</td>\n",
              "                        <td id=\"T_fdd6eac8_94f1_11ea_b6bd_0242ac1c0002row4_col10\" class=\"data row4 col10\" >20833.333333</td>\n",
              "                        <td id=\"T_fdd6eac8_94f1_11ea_b6bd_0242ac1c0002row4_col11\" class=\"data row4 col11\" >22</td>\n",
              "                        <td id=\"T_fdd6eac8_94f1_11ea_b6bd_0242ac1c0002row4_col12\" class=\"data row4 col12\" >20.000000</td>\n",
              "            </tr>\n",
              "            <tr>\n",
              "                        <th id=\"T_fdd6eac8_94f1_11ea_b6bd_0242ac1c0002level0_row5\" class=\"row_heading level0 row5\" >5</th>\n",
              "                        <td id=\"T_fdd6eac8_94f1_11ea_b6bd_0242ac1c0002row5_col0\" class=\"data row5 col0\" >2017-03-29</td>\n",
              "                        <td id=\"T_fdd6eac8_94f1_11ea_b6bd_0242ac1c0002row5_col1\" class=\"data row5 col1\" >매출</td>\n",
              "                        <td id=\"T_fdd6eac8_94f1_11ea_b6bd_0242ac1c0002row5_col2\" class=\"data row5 col2\" >0</td>\n",
              "                        <td id=\"T_fdd6eac8_94f1_11ea_b6bd_0242ac1c0002row5_col3\" class=\"data row5 col3\" >0</td>\n",
              "                        <td id=\"T_fdd6eac8_94f1_11ea_b6bd_0242ac1c0002row5_col4\" class=\"data row5 col4\" >0</td>\n",
              "                        <td id=\"T_fdd6eac8_94f1_11ea_b6bd_0242ac1c0002row5_col5\" class=\"data row5 col5\" >10</td>\n",
              "                        <td id=\"T_fdd6eac8_94f1_11ea_b6bd_0242ac1c0002row5_col6\" class=\"data row5 col6\" >40</td>\n",
              "                        <td id=\"T_fdd6eac8_94f1_11ea_b6bd_0242ac1c0002row5_col7\" class=\"data row5 col7\" >20</td>\n",
              "                        <td id=\"T_fdd6eac8_94f1_11ea_b6bd_0242ac1c0002row5_col8\" class=\"data row5 col8\" >20</td>\n",
              "                        <td id=\"T_fdd6eac8_94f1_11ea_b6bd_0242ac1c0002row5_col9\" class=\"data row5 col9\" >30.000000</td>\n",
              "                        <td id=\"T_fdd6eac8_94f1_11ea_b6bd_0242ac1c0002row5_col10\" class=\"data row5 col10\" >20833.333333</td>\n",
              "                        <td id=\"T_fdd6eac8_94f1_11ea_b6bd_0242ac1c0002row5_col11\" class=\"data row5 col11\" >22</td>\n",
              "                        <td id=\"T_fdd6eac8_94f1_11ea_b6bd_0242ac1c0002row5_col12\" class=\"data row5 col12\" >22.000000</td>\n",
              "            </tr>\n",
              "            <tr>\n",
              "                        <th id=\"T_fdd6eac8_94f1_11ea_b6bd_0242ac1c0002level0_row6\" class=\"row_heading level0 row6\" >6</th>\n",
              "                        <td id=\"T_fdd6eac8_94f1_11ea_b6bd_0242ac1c0002row6_col0\" class=\"data row6 col0\" >2017-03-29</td>\n",
              "                        <td id=\"T_fdd6eac8_94f1_11ea_b6bd_0242ac1c0002row6_col1\" class=\"data row6 col1\" >매출</td>\n",
              "                        <td id=\"T_fdd6eac8_94f1_11ea_b6bd_0242ac1c0002row6_col2\" class=\"data row6 col2\" >0</td>\n",
              "                        <td id=\"T_fdd6eac8_94f1_11ea_b6bd_0242ac1c0002row6_col3\" class=\"data row6 col3\" >0</td>\n",
              "                        <td id=\"T_fdd6eac8_94f1_11ea_b6bd_0242ac1c0002row6_col4\" class=\"data row6 col4\" >0</td>\n",
              "                        <td id=\"T_fdd6eac8_94f1_11ea_b6bd_0242ac1c0002row6_col5\" class=\"data row6 col5\" >2</td>\n",
              "                        <td id=\"T_fdd6eac8_94f1_11ea_b6bd_0242ac1c0002row6_col6\" class=\"data row6 col6\" >40</td>\n",
              "                        <td id=\"T_fdd6eac8_94f1_11ea_b6bd_0242ac1c0002row6_col7\" class=\"data row6 col7\" >22</td>\n",
              "                        <td id=\"T_fdd6eac8_94f1_11ea_b6bd_0242ac1c0002row6_col8\" class=\"data row6 col8\" >18</td>\n",
              "                        <td id=\"T_fdd6eac8_94f1_11ea_b6bd_0242ac1c0002row6_col9\" class=\"data row6 col9\" >20.000000</td>\n",
              "                        <td id=\"T_fdd6eac8_94f1_11ea_b6bd_0242ac1c0002row6_col10\" class=\"data row6 col10\" >20833.333333</td>\n",
              "                        <td id=\"T_fdd6eac8_94f1_11ea_b6bd_0242ac1c0002row6_col11\" class=\"data row6 col11\" >22</td>\n",
              "                        <td id=\"T_fdd6eac8_94f1_11ea_b6bd_0242ac1c0002row6_col12\" class=\"data row6 col12\" >22.000000</td>\n",
              "            </tr>\n",
              "    </tbody></table>"
            ],
            "text/plain": [
              "<pandas.io.formats.style.Styler at 0x7fec680c1b00>"
            ]
          },
          "metadata": {
            "tags": []
          },
          "execution_count": 70
        }
      ]
    },
    {
      "cell_type": "code",
      "metadata": {
        "id": "w4_MzlCYxZxX",
        "colab_type": "code",
        "outputId": "e3f39f1c-0484-4cd5-b607-75733bcb4a0a",
        "colab": {
          "base_uri": "https://localhost:8080/",
          "height": 503
        }
      },
      "source": [
        "df['출고순서_개별'] = df['출고순서누적'] - df['출고순서_shift']\n",
        "print(df)\n",
        "df.style"
      ],
      "execution_count": 0,
      "outputs": [
        {
          "output_type": "stream",
          "text": [
            "           일자    적요  입고수량   입고단가  ...  이동평균단가  출고순서누적  출고순서_shift  출고순서_개별\n",
            "0  2017-03-01  전월이월     5  20000  ...  20,000       5           0        5\n",
            "1  2017-03-09    매입    15  18000  ...  18,500      20           5       15\n",
            "2  2017-03-16    매출     0      0  ...  18,500      20          20        0\n",
            "3  2017-03-16    매출     0      0  ...  18,500      20          20        0\n",
            "4  2017-03-24    매입    20  22000  ...  20,833      22          20        2\n",
            "5  2017-03-29    매출     0      0  ...  20,833      22          22        0\n",
            "6  2017-03-29    매출     0      0  ...  20,833      22          22        0\n",
            "\n",
            "[7 rows x 14 columns]\n"
          ],
          "name": "stdout"
        },
        {
          "output_type": "execute_result",
          "data": {
            "text/html": [
              "<style  type=\"text/css\" >\n",
              "</style><table id=\"T_01219994_94f2_11ea_b6bd_0242ac1c0002\" ><thead>    <tr>        <th class=\"blank level0\" ></th>        <th class=\"col_heading level0 col0\" >일자</th>        <th class=\"col_heading level0 col1\" >적요</th>        <th class=\"col_heading level0 col2\" >입고수량</th>        <th class=\"col_heading level0 col3\" >입고단가</th>        <th class=\"col_heading level0 col4\" >입고금액</th>        <th class=\"col_heading level0 col5\" >출고수량</th>        <th class=\"col_heading level0 col6\" >입고수량누적</th>        <th class=\"col_heading level0 col7\" >출고수량누적</th>        <th class=\"col_heading level0 col8\" >잔고수량누적</th>        <th class=\"col_heading level0 col9\" >잔고수량누적shift</th>        <th class=\"col_heading level0 col10\" >이동평균단가</th>        <th class=\"col_heading level0 col11\" >출고순서누적</th>        <th class=\"col_heading level0 col12\" >출고순서_shift</th>        <th class=\"col_heading level0 col13\" >출고순서_개별</th>    </tr></thead><tbody>\n",
              "                <tr>\n",
              "                        <th id=\"T_01219994_94f2_11ea_b6bd_0242ac1c0002level0_row0\" class=\"row_heading level0 row0\" >0</th>\n",
              "                        <td id=\"T_01219994_94f2_11ea_b6bd_0242ac1c0002row0_col0\" class=\"data row0 col0\" >2017-03-01</td>\n",
              "                        <td id=\"T_01219994_94f2_11ea_b6bd_0242ac1c0002row0_col1\" class=\"data row0 col1\" >전월이월</td>\n",
              "                        <td id=\"T_01219994_94f2_11ea_b6bd_0242ac1c0002row0_col2\" class=\"data row0 col2\" >5</td>\n",
              "                        <td id=\"T_01219994_94f2_11ea_b6bd_0242ac1c0002row0_col3\" class=\"data row0 col3\" >20000</td>\n",
              "                        <td id=\"T_01219994_94f2_11ea_b6bd_0242ac1c0002row0_col4\" class=\"data row0 col4\" >100000</td>\n",
              "                        <td id=\"T_01219994_94f2_11ea_b6bd_0242ac1c0002row0_col5\" class=\"data row0 col5\" >0</td>\n",
              "                        <td id=\"T_01219994_94f2_11ea_b6bd_0242ac1c0002row0_col6\" class=\"data row0 col6\" >5</td>\n",
              "                        <td id=\"T_01219994_94f2_11ea_b6bd_0242ac1c0002row0_col7\" class=\"data row0 col7\" >0</td>\n",
              "                        <td id=\"T_01219994_94f2_11ea_b6bd_0242ac1c0002row0_col8\" class=\"data row0 col8\" >5</td>\n",
              "                        <td id=\"T_01219994_94f2_11ea_b6bd_0242ac1c0002row0_col9\" class=\"data row0 col9\" >0.000000</td>\n",
              "                        <td id=\"T_01219994_94f2_11ea_b6bd_0242ac1c0002row0_col10\" class=\"data row0 col10\" >20000.000000</td>\n",
              "                        <td id=\"T_01219994_94f2_11ea_b6bd_0242ac1c0002row0_col11\" class=\"data row0 col11\" >5</td>\n",
              "                        <td id=\"T_01219994_94f2_11ea_b6bd_0242ac1c0002row0_col12\" class=\"data row0 col12\" >0.000000</td>\n",
              "                        <td id=\"T_01219994_94f2_11ea_b6bd_0242ac1c0002row0_col13\" class=\"data row0 col13\" >5.000000</td>\n",
              "            </tr>\n",
              "            <tr>\n",
              "                        <th id=\"T_01219994_94f2_11ea_b6bd_0242ac1c0002level0_row1\" class=\"row_heading level0 row1\" >1</th>\n",
              "                        <td id=\"T_01219994_94f2_11ea_b6bd_0242ac1c0002row1_col0\" class=\"data row1 col0\" >2017-03-09</td>\n",
              "                        <td id=\"T_01219994_94f2_11ea_b6bd_0242ac1c0002row1_col1\" class=\"data row1 col1\" >매입</td>\n",
              "                        <td id=\"T_01219994_94f2_11ea_b6bd_0242ac1c0002row1_col2\" class=\"data row1 col2\" >15</td>\n",
              "                        <td id=\"T_01219994_94f2_11ea_b6bd_0242ac1c0002row1_col3\" class=\"data row1 col3\" >18000</td>\n",
              "                        <td id=\"T_01219994_94f2_11ea_b6bd_0242ac1c0002row1_col4\" class=\"data row1 col4\" >270000</td>\n",
              "                        <td id=\"T_01219994_94f2_11ea_b6bd_0242ac1c0002row1_col5\" class=\"data row1 col5\" >0</td>\n",
              "                        <td id=\"T_01219994_94f2_11ea_b6bd_0242ac1c0002row1_col6\" class=\"data row1 col6\" >20</td>\n",
              "                        <td id=\"T_01219994_94f2_11ea_b6bd_0242ac1c0002row1_col7\" class=\"data row1 col7\" >0</td>\n",
              "                        <td id=\"T_01219994_94f2_11ea_b6bd_0242ac1c0002row1_col8\" class=\"data row1 col8\" >20</td>\n",
              "                        <td id=\"T_01219994_94f2_11ea_b6bd_0242ac1c0002row1_col9\" class=\"data row1 col9\" >5.000000</td>\n",
              "                        <td id=\"T_01219994_94f2_11ea_b6bd_0242ac1c0002row1_col10\" class=\"data row1 col10\" >18500.000000</td>\n",
              "                        <td id=\"T_01219994_94f2_11ea_b6bd_0242ac1c0002row1_col11\" class=\"data row1 col11\" >20</td>\n",
              "                        <td id=\"T_01219994_94f2_11ea_b6bd_0242ac1c0002row1_col12\" class=\"data row1 col12\" >5.000000</td>\n",
              "                        <td id=\"T_01219994_94f2_11ea_b6bd_0242ac1c0002row1_col13\" class=\"data row1 col13\" >15.000000</td>\n",
              "            </tr>\n",
              "            <tr>\n",
              "                        <th id=\"T_01219994_94f2_11ea_b6bd_0242ac1c0002level0_row2\" class=\"row_heading level0 row2\" >2</th>\n",
              "                        <td id=\"T_01219994_94f2_11ea_b6bd_0242ac1c0002row2_col0\" class=\"data row2 col0\" >2017-03-16</td>\n",
              "                        <td id=\"T_01219994_94f2_11ea_b6bd_0242ac1c0002row2_col1\" class=\"data row2 col1\" >매출</td>\n",
              "                        <td id=\"T_01219994_94f2_11ea_b6bd_0242ac1c0002row2_col2\" class=\"data row2 col2\" >0</td>\n",
              "                        <td id=\"T_01219994_94f2_11ea_b6bd_0242ac1c0002row2_col3\" class=\"data row2 col3\" >0</td>\n",
              "                        <td id=\"T_01219994_94f2_11ea_b6bd_0242ac1c0002row2_col4\" class=\"data row2 col4\" >0</td>\n",
              "                        <td id=\"T_01219994_94f2_11ea_b6bd_0242ac1c0002row2_col5\" class=\"data row2 col5\" >5</td>\n",
              "                        <td id=\"T_01219994_94f2_11ea_b6bd_0242ac1c0002row2_col6\" class=\"data row2 col6\" >20</td>\n",
              "                        <td id=\"T_01219994_94f2_11ea_b6bd_0242ac1c0002row2_col7\" class=\"data row2 col7\" >5</td>\n",
              "                        <td id=\"T_01219994_94f2_11ea_b6bd_0242ac1c0002row2_col8\" class=\"data row2 col8\" >15</td>\n",
              "                        <td id=\"T_01219994_94f2_11ea_b6bd_0242ac1c0002row2_col9\" class=\"data row2 col9\" >20.000000</td>\n",
              "                        <td id=\"T_01219994_94f2_11ea_b6bd_0242ac1c0002row2_col10\" class=\"data row2 col10\" >18500.000000</td>\n",
              "                        <td id=\"T_01219994_94f2_11ea_b6bd_0242ac1c0002row2_col11\" class=\"data row2 col11\" >20</td>\n",
              "                        <td id=\"T_01219994_94f2_11ea_b6bd_0242ac1c0002row2_col12\" class=\"data row2 col12\" >20.000000</td>\n",
              "                        <td id=\"T_01219994_94f2_11ea_b6bd_0242ac1c0002row2_col13\" class=\"data row2 col13\" >0.000000</td>\n",
              "            </tr>\n",
              "            <tr>\n",
              "                        <th id=\"T_01219994_94f2_11ea_b6bd_0242ac1c0002level0_row3\" class=\"row_heading level0 row3\" >3</th>\n",
              "                        <td id=\"T_01219994_94f2_11ea_b6bd_0242ac1c0002row3_col0\" class=\"data row3 col0\" >2017-03-16</td>\n",
              "                        <td id=\"T_01219994_94f2_11ea_b6bd_0242ac1c0002row3_col1\" class=\"data row3 col1\" >매출</td>\n",
              "                        <td id=\"T_01219994_94f2_11ea_b6bd_0242ac1c0002row3_col2\" class=\"data row3 col2\" >0</td>\n",
              "                        <td id=\"T_01219994_94f2_11ea_b6bd_0242ac1c0002row3_col3\" class=\"data row3 col3\" >0</td>\n",
              "                        <td id=\"T_01219994_94f2_11ea_b6bd_0242ac1c0002row3_col4\" class=\"data row3 col4\" >0</td>\n",
              "                        <td id=\"T_01219994_94f2_11ea_b6bd_0242ac1c0002row3_col5\" class=\"data row3 col5\" >5</td>\n",
              "                        <td id=\"T_01219994_94f2_11ea_b6bd_0242ac1c0002row3_col6\" class=\"data row3 col6\" >20</td>\n",
              "                        <td id=\"T_01219994_94f2_11ea_b6bd_0242ac1c0002row3_col7\" class=\"data row3 col7\" >10</td>\n",
              "                        <td id=\"T_01219994_94f2_11ea_b6bd_0242ac1c0002row3_col8\" class=\"data row3 col8\" >10</td>\n",
              "                        <td id=\"T_01219994_94f2_11ea_b6bd_0242ac1c0002row3_col9\" class=\"data row3 col9\" >15.000000</td>\n",
              "                        <td id=\"T_01219994_94f2_11ea_b6bd_0242ac1c0002row3_col10\" class=\"data row3 col10\" >18500.000000</td>\n",
              "                        <td id=\"T_01219994_94f2_11ea_b6bd_0242ac1c0002row3_col11\" class=\"data row3 col11\" >20</td>\n",
              "                        <td id=\"T_01219994_94f2_11ea_b6bd_0242ac1c0002row3_col12\" class=\"data row3 col12\" >20.000000</td>\n",
              "                        <td id=\"T_01219994_94f2_11ea_b6bd_0242ac1c0002row3_col13\" class=\"data row3 col13\" >0.000000</td>\n",
              "            </tr>\n",
              "            <tr>\n",
              "                        <th id=\"T_01219994_94f2_11ea_b6bd_0242ac1c0002level0_row4\" class=\"row_heading level0 row4\" >4</th>\n",
              "                        <td id=\"T_01219994_94f2_11ea_b6bd_0242ac1c0002row4_col0\" class=\"data row4 col0\" >2017-03-24</td>\n",
              "                        <td id=\"T_01219994_94f2_11ea_b6bd_0242ac1c0002row4_col1\" class=\"data row4 col1\" >매입</td>\n",
              "                        <td id=\"T_01219994_94f2_11ea_b6bd_0242ac1c0002row4_col2\" class=\"data row4 col2\" >20</td>\n",
              "                        <td id=\"T_01219994_94f2_11ea_b6bd_0242ac1c0002row4_col3\" class=\"data row4 col3\" >22000</td>\n",
              "                        <td id=\"T_01219994_94f2_11ea_b6bd_0242ac1c0002row4_col4\" class=\"data row4 col4\" >440000</td>\n",
              "                        <td id=\"T_01219994_94f2_11ea_b6bd_0242ac1c0002row4_col5\" class=\"data row4 col5\" >0</td>\n",
              "                        <td id=\"T_01219994_94f2_11ea_b6bd_0242ac1c0002row4_col6\" class=\"data row4 col6\" >40</td>\n",
              "                        <td id=\"T_01219994_94f2_11ea_b6bd_0242ac1c0002row4_col7\" class=\"data row4 col7\" >10</td>\n",
              "                        <td id=\"T_01219994_94f2_11ea_b6bd_0242ac1c0002row4_col8\" class=\"data row4 col8\" >30</td>\n",
              "                        <td id=\"T_01219994_94f2_11ea_b6bd_0242ac1c0002row4_col9\" class=\"data row4 col9\" >10.000000</td>\n",
              "                        <td id=\"T_01219994_94f2_11ea_b6bd_0242ac1c0002row4_col10\" class=\"data row4 col10\" >20833.333333</td>\n",
              "                        <td id=\"T_01219994_94f2_11ea_b6bd_0242ac1c0002row4_col11\" class=\"data row4 col11\" >22</td>\n",
              "                        <td id=\"T_01219994_94f2_11ea_b6bd_0242ac1c0002row4_col12\" class=\"data row4 col12\" >20.000000</td>\n",
              "                        <td id=\"T_01219994_94f2_11ea_b6bd_0242ac1c0002row4_col13\" class=\"data row4 col13\" >2.000000</td>\n",
              "            </tr>\n",
              "            <tr>\n",
              "                        <th id=\"T_01219994_94f2_11ea_b6bd_0242ac1c0002level0_row5\" class=\"row_heading level0 row5\" >5</th>\n",
              "                        <td id=\"T_01219994_94f2_11ea_b6bd_0242ac1c0002row5_col0\" class=\"data row5 col0\" >2017-03-29</td>\n",
              "                        <td id=\"T_01219994_94f2_11ea_b6bd_0242ac1c0002row5_col1\" class=\"data row5 col1\" >매출</td>\n",
              "                        <td id=\"T_01219994_94f2_11ea_b6bd_0242ac1c0002row5_col2\" class=\"data row5 col2\" >0</td>\n",
              "                        <td id=\"T_01219994_94f2_11ea_b6bd_0242ac1c0002row5_col3\" class=\"data row5 col3\" >0</td>\n",
              "                        <td id=\"T_01219994_94f2_11ea_b6bd_0242ac1c0002row5_col4\" class=\"data row5 col4\" >0</td>\n",
              "                        <td id=\"T_01219994_94f2_11ea_b6bd_0242ac1c0002row5_col5\" class=\"data row5 col5\" >10</td>\n",
              "                        <td id=\"T_01219994_94f2_11ea_b6bd_0242ac1c0002row5_col6\" class=\"data row5 col6\" >40</td>\n",
              "                        <td id=\"T_01219994_94f2_11ea_b6bd_0242ac1c0002row5_col7\" class=\"data row5 col7\" >20</td>\n",
              "                        <td id=\"T_01219994_94f2_11ea_b6bd_0242ac1c0002row5_col8\" class=\"data row5 col8\" >20</td>\n",
              "                        <td id=\"T_01219994_94f2_11ea_b6bd_0242ac1c0002row5_col9\" class=\"data row5 col9\" >30.000000</td>\n",
              "                        <td id=\"T_01219994_94f2_11ea_b6bd_0242ac1c0002row5_col10\" class=\"data row5 col10\" >20833.333333</td>\n",
              "                        <td id=\"T_01219994_94f2_11ea_b6bd_0242ac1c0002row5_col11\" class=\"data row5 col11\" >22</td>\n",
              "                        <td id=\"T_01219994_94f2_11ea_b6bd_0242ac1c0002row5_col12\" class=\"data row5 col12\" >22.000000</td>\n",
              "                        <td id=\"T_01219994_94f2_11ea_b6bd_0242ac1c0002row5_col13\" class=\"data row5 col13\" >0.000000</td>\n",
              "            </tr>\n",
              "            <tr>\n",
              "                        <th id=\"T_01219994_94f2_11ea_b6bd_0242ac1c0002level0_row6\" class=\"row_heading level0 row6\" >6</th>\n",
              "                        <td id=\"T_01219994_94f2_11ea_b6bd_0242ac1c0002row6_col0\" class=\"data row6 col0\" >2017-03-29</td>\n",
              "                        <td id=\"T_01219994_94f2_11ea_b6bd_0242ac1c0002row6_col1\" class=\"data row6 col1\" >매출</td>\n",
              "                        <td id=\"T_01219994_94f2_11ea_b6bd_0242ac1c0002row6_col2\" class=\"data row6 col2\" >0</td>\n",
              "                        <td id=\"T_01219994_94f2_11ea_b6bd_0242ac1c0002row6_col3\" class=\"data row6 col3\" >0</td>\n",
              "                        <td id=\"T_01219994_94f2_11ea_b6bd_0242ac1c0002row6_col4\" class=\"data row6 col4\" >0</td>\n",
              "                        <td id=\"T_01219994_94f2_11ea_b6bd_0242ac1c0002row6_col5\" class=\"data row6 col5\" >2</td>\n",
              "                        <td id=\"T_01219994_94f2_11ea_b6bd_0242ac1c0002row6_col6\" class=\"data row6 col6\" >40</td>\n",
              "                        <td id=\"T_01219994_94f2_11ea_b6bd_0242ac1c0002row6_col7\" class=\"data row6 col7\" >22</td>\n",
              "                        <td id=\"T_01219994_94f2_11ea_b6bd_0242ac1c0002row6_col8\" class=\"data row6 col8\" >18</td>\n",
              "                        <td id=\"T_01219994_94f2_11ea_b6bd_0242ac1c0002row6_col9\" class=\"data row6 col9\" >20.000000</td>\n",
              "                        <td id=\"T_01219994_94f2_11ea_b6bd_0242ac1c0002row6_col10\" class=\"data row6 col10\" >20833.333333</td>\n",
              "                        <td id=\"T_01219994_94f2_11ea_b6bd_0242ac1c0002row6_col11\" class=\"data row6 col11\" >22</td>\n",
              "                        <td id=\"T_01219994_94f2_11ea_b6bd_0242ac1c0002row6_col12\" class=\"data row6 col12\" >22.000000</td>\n",
              "                        <td id=\"T_01219994_94f2_11ea_b6bd_0242ac1c0002row6_col13\" class=\"data row6 col13\" >0.000000</td>\n",
              "            </tr>\n",
              "    </tbody></table>"
            ],
            "text/plain": [
              "<pandas.io.formats.style.Styler at 0x7fec680cb7b8>"
            ]
          },
          "metadata": {
            "tags": []
          },
          "execution_count": 71
        }
      ]
    },
    {
      "cell_type": "code",
      "metadata": {
        "id": "0v_G_v8jxcVg",
        "colab_type": "code",
        "outputId": "80f35d4f-10e0-4aff-83dc-e6f7efc9cc4e",
        "colab": {
          "base_uri": "https://localhost:8080/",
          "height": 503
        }
      },
      "source": [
        "df['출고금액'] = df['출고순서_개별']*df['입고단가']\n",
        "print(df)\n",
        "df.style"
      ],
      "execution_count": 0,
      "outputs": [
        {
          "output_type": "stream",
          "text": [
            "           일자    적요  입고수량   입고단가  ...  출고순서누적  출고순서_shift  출고순서_개별    출고금액\n",
            "0  2017-03-01  전월이월     5  20000  ...       5           0        5 100,000\n",
            "1  2017-03-09    매입    15  18000  ...      20           5       15 270,000\n",
            "2  2017-03-16    매출     0      0  ...      20          20        0       0\n",
            "3  2017-03-16    매출     0      0  ...      20          20        0       0\n",
            "4  2017-03-24    매입    20  22000  ...      22          20        2  44,000\n",
            "5  2017-03-29    매출     0      0  ...      22          22        0       0\n",
            "6  2017-03-29    매출     0      0  ...      22          22        0       0\n",
            "\n",
            "[7 rows x 15 columns]\n"
          ],
          "name": "stdout"
        },
        {
          "output_type": "execute_result",
          "data": {
            "text/html": [
              "<style  type=\"text/css\" >\n",
              "</style><table id=\"T_04d4df10_94f2_11ea_b6bd_0242ac1c0002\" ><thead>    <tr>        <th class=\"blank level0\" ></th>        <th class=\"col_heading level0 col0\" >일자</th>        <th class=\"col_heading level0 col1\" >적요</th>        <th class=\"col_heading level0 col2\" >입고수량</th>        <th class=\"col_heading level0 col3\" >입고단가</th>        <th class=\"col_heading level0 col4\" >입고금액</th>        <th class=\"col_heading level0 col5\" >출고수량</th>        <th class=\"col_heading level0 col6\" >입고수량누적</th>        <th class=\"col_heading level0 col7\" >출고수량누적</th>        <th class=\"col_heading level0 col8\" >잔고수량누적</th>        <th class=\"col_heading level0 col9\" >잔고수량누적shift</th>        <th class=\"col_heading level0 col10\" >이동평균단가</th>        <th class=\"col_heading level0 col11\" >출고순서누적</th>        <th class=\"col_heading level0 col12\" >출고순서_shift</th>        <th class=\"col_heading level0 col13\" >출고순서_개별</th>        <th class=\"col_heading level0 col14\" >출고금액</th>    </tr></thead><tbody>\n",
              "                <tr>\n",
              "                        <th id=\"T_04d4df10_94f2_11ea_b6bd_0242ac1c0002level0_row0\" class=\"row_heading level0 row0\" >0</th>\n",
              "                        <td id=\"T_04d4df10_94f2_11ea_b6bd_0242ac1c0002row0_col0\" class=\"data row0 col0\" >2017-03-01</td>\n",
              "                        <td id=\"T_04d4df10_94f2_11ea_b6bd_0242ac1c0002row0_col1\" class=\"data row0 col1\" >전월이월</td>\n",
              "                        <td id=\"T_04d4df10_94f2_11ea_b6bd_0242ac1c0002row0_col2\" class=\"data row0 col2\" >5</td>\n",
              "                        <td id=\"T_04d4df10_94f2_11ea_b6bd_0242ac1c0002row0_col3\" class=\"data row0 col3\" >20000</td>\n",
              "                        <td id=\"T_04d4df10_94f2_11ea_b6bd_0242ac1c0002row0_col4\" class=\"data row0 col4\" >100000</td>\n",
              "                        <td id=\"T_04d4df10_94f2_11ea_b6bd_0242ac1c0002row0_col5\" class=\"data row0 col5\" >0</td>\n",
              "                        <td id=\"T_04d4df10_94f2_11ea_b6bd_0242ac1c0002row0_col6\" class=\"data row0 col6\" >5</td>\n",
              "                        <td id=\"T_04d4df10_94f2_11ea_b6bd_0242ac1c0002row0_col7\" class=\"data row0 col7\" >0</td>\n",
              "                        <td id=\"T_04d4df10_94f2_11ea_b6bd_0242ac1c0002row0_col8\" class=\"data row0 col8\" >5</td>\n",
              "                        <td id=\"T_04d4df10_94f2_11ea_b6bd_0242ac1c0002row0_col9\" class=\"data row0 col9\" >0.000000</td>\n",
              "                        <td id=\"T_04d4df10_94f2_11ea_b6bd_0242ac1c0002row0_col10\" class=\"data row0 col10\" >20000.000000</td>\n",
              "                        <td id=\"T_04d4df10_94f2_11ea_b6bd_0242ac1c0002row0_col11\" class=\"data row0 col11\" >5</td>\n",
              "                        <td id=\"T_04d4df10_94f2_11ea_b6bd_0242ac1c0002row0_col12\" class=\"data row0 col12\" >0.000000</td>\n",
              "                        <td id=\"T_04d4df10_94f2_11ea_b6bd_0242ac1c0002row0_col13\" class=\"data row0 col13\" >5.000000</td>\n",
              "                        <td id=\"T_04d4df10_94f2_11ea_b6bd_0242ac1c0002row0_col14\" class=\"data row0 col14\" >100000.000000</td>\n",
              "            </tr>\n",
              "            <tr>\n",
              "                        <th id=\"T_04d4df10_94f2_11ea_b6bd_0242ac1c0002level0_row1\" class=\"row_heading level0 row1\" >1</th>\n",
              "                        <td id=\"T_04d4df10_94f2_11ea_b6bd_0242ac1c0002row1_col0\" class=\"data row1 col0\" >2017-03-09</td>\n",
              "                        <td id=\"T_04d4df10_94f2_11ea_b6bd_0242ac1c0002row1_col1\" class=\"data row1 col1\" >매입</td>\n",
              "                        <td id=\"T_04d4df10_94f2_11ea_b6bd_0242ac1c0002row1_col2\" class=\"data row1 col2\" >15</td>\n",
              "                        <td id=\"T_04d4df10_94f2_11ea_b6bd_0242ac1c0002row1_col3\" class=\"data row1 col3\" >18000</td>\n",
              "                        <td id=\"T_04d4df10_94f2_11ea_b6bd_0242ac1c0002row1_col4\" class=\"data row1 col4\" >270000</td>\n",
              "                        <td id=\"T_04d4df10_94f2_11ea_b6bd_0242ac1c0002row1_col5\" class=\"data row1 col5\" >0</td>\n",
              "                        <td id=\"T_04d4df10_94f2_11ea_b6bd_0242ac1c0002row1_col6\" class=\"data row1 col6\" >20</td>\n",
              "                        <td id=\"T_04d4df10_94f2_11ea_b6bd_0242ac1c0002row1_col7\" class=\"data row1 col7\" >0</td>\n",
              "                        <td id=\"T_04d4df10_94f2_11ea_b6bd_0242ac1c0002row1_col8\" class=\"data row1 col8\" >20</td>\n",
              "                        <td id=\"T_04d4df10_94f2_11ea_b6bd_0242ac1c0002row1_col9\" class=\"data row1 col9\" >5.000000</td>\n",
              "                        <td id=\"T_04d4df10_94f2_11ea_b6bd_0242ac1c0002row1_col10\" class=\"data row1 col10\" >18500.000000</td>\n",
              "                        <td id=\"T_04d4df10_94f2_11ea_b6bd_0242ac1c0002row1_col11\" class=\"data row1 col11\" >20</td>\n",
              "                        <td id=\"T_04d4df10_94f2_11ea_b6bd_0242ac1c0002row1_col12\" class=\"data row1 col12\" >5.000000</td>\n",
              "                        <td id=\"T_04d4df10_94f2_11ea_b6bd_0242ac1c0002row1_col13\" class=\"data row1 col13\" >15.000000</td>\n",
              "                        <td id=\"T_04d4df10_94f2_11ea_b6bd_0242ac1c0002row1_col14\" class=\"data row1 col14\" >270000.000000</td>\n",
              "            </tr>\n",
              "            <tr>\n",
              "                        <th id=\"T_04d4df10_94f2_11ea_b6bd_0242ac1c0002level0_row2\" class=\"row_heading level0 row2\" >2</th>\n",
              "                        <td id=\"T_04d4df10_94f2_11ea_b6bd_0242ac1c0002row2_col0\" class=\"data row2 col0\" >2017-03-16</td>\n",
              "                        <td id=\"T_04d4df10_94f2_11ea_b6bd_0242ac1c0002row2_col1\" class=\"data row2 col1\" >매출</td>\n",
              "                        <td id=\"T_04d4df10_94f2_11ea_b6bd_0242ac1c0002row2_col2\" class=\"data row2 col2\" >0</td>\n",
              "                        <td id=\"T_04d4df10_94f2_11ea_b6bd_0242ac1c0002row2_col3\" class=\"data row2 col3\" >0</td>\n",
              "                        <td id=\"T_04d4df10_94f2_11ea_b6bd_0242ac1c0002row2_col4\" class=\"data row2 col4\" >0</td>\n",
              "                        <td id=\"T_04d4df10_94f2_11ea_b6bd_0242ac1c0002row2_col5\" class=\"data row2 col5\" >5</td>\n",
              "                        <td id=\"T_04d4df10_94f2_11ea_b6bd_0242ac1c0002row2_col6\" class=\"data row2 col6\" >20</td>\n",
              "                        <td id=\"T_04d4df10_94f2_11ea_b6bd_0242ac1c0002row2_col7\" class=\"data row2 col7\" >5</td>\n",
              "                        <td id=\"T_04d4df10_94f2_11ea_b6bd_0242ac1c0002row2_col8\" class=\"data row2 col8\" >15</td>\n",
              "                        <td id=\"T_04d4df10_94f2_11ea_b6bd_0242ac1c0002row2_col9\" class=\"data row2 col9\" >20.000000</td>\n",
              "                        <td id=\"T_04d4df10_94f2_11ea_b6bd_0242ac1c0002row2_col10\" class=\"data row2 col10\" >18500.000000</td>\n",
              "                        <td id=\"T_04d4df10_94f2_11ea_b6bd_0242ac1c0002row2_col11\" class=\"data row2 col11\" >20</td>\n",
              "                        <td id=\"T_04d4df10_94f2_11ea_b6bd_0242ac1c0002row2_col12\" class=\"data row2 col12\" >20.000000</td>\n",
              "                        <td id=\"T_04d4df10_94f2_11ea_b6bd_0242ac1c0002row2_col13\" class=\"data row2 col13\" >0.000000</td>\n",
              "                        <td id=\"T_04d4df10_94f2_11ea_b6bd_0242ac1c0002row2_col14\" class=\"data row2 col14\" >0.000000</td>\n",
              "            </tr>\n",
              "            <tr>\n",
              "                        <th id=\"T_04d4df10_94f2_11ea_b6bd_0242ac1c0002level0_row3\" class=\"row_heading level0 row3\" >3</th>\n",
              "                        <td id=\"T_04d4df10_94f2_11ea_b6bd_0242ac1c0002row3_col0\" class=\"data row3 col0\" >2017-03-16</td>\n",
              "                        <td id=\"T_04d4df10_94f2_11ea_b6bd_0242ac1c0002row3_col1\" class=\"data row3 col1\" >매출</td>\n",
              "                        <td id=\"T_04d4df10_94f2_11ea_b6bd_0242ac1c0002row3_col2\" class=\"data row3 col2\" >0</td>\n",
              "                        <td id=\"T_04d4df10_94f2_11ea_b6bd_0242ac1c0002row3_col3\" class=\"data row3 col3\" >0</td>\n",
              "                        <td id=\"T_04d4df10_94f2_11ea_b6bd_0242ac1c0002row3_col4\" class=\"data row3 col4\" >0</td>\n",
              "                        <td id=\"T_04d4df10_94f2_11ea_b6bd_0242ac1c0002row3_col5\" class=\"data row3 col5\" >5</td>\n",
              "                        <td id=\"T_04d4df10_94f2_11ea_b6bd_0242ac1c0002row3_col6\" class=\"data row3 col6\" >20</td>\n",
              "                        <td id=\"T_04d4df10_94f2_11ea_b6bd_0242ac1c0002row3_col7\" class=\"data row3 col7\" >10</td>\n",
              "                        <td id=\"T_04d4df10_94f2_11ea_b6bd_0242ac1c0002row3_col8\" class=\"data row3 col8\" >10</td>\n",
              "                        <td id=\"T_04d4df10_94f2_11ea_b6bd_0242ac1c0002row3_col9\" class=\"data row3 col9\" >15.000000</td>\n",
              "                        <td id=\"T_04d4df10_94f2_11ea_b6bd_0242ac1c0002row3_col10\" class=\"data row3 col10\" >18500.000000</td>\n",
              "                        <td id=\"T_04d4df10_94f2_11ea_b6bd_0242ac1c0002row3_col11\" class=\"data row3 col11\" >20</td>\n",
              "                        <td id=\"T_04d4df10_94f2_11ea_b6bd_0242ac1c0002row3_col12\" class=\"data row3 col12\" >20.000000</td>\n",
              "                        <td id=\"T_04d4df10_94f2_11ea_b6bd_0242ac1c0002row3_col13\" class=\"data row3 col13\" >0.000000</td>\n",
              "                        <td id=\"T_04d4df10_94f2_11ea_b6bd_0242ac1c0002row3_col14\" class=\"data row3 col14\" >0.000000</td>\n",
              "            </tr>\n",
              "            <tr>\n",
              "                        <th id=\"T_04d4df10_94f2_11ea_b6bd_0242ac1c0002level0_row4\" class=\"row_heading level0 row4\" >4</th>\n",
              "                        <td id=\"T_04d4df10_94f2_11ea_b6bd_0242ac1c0002row4_col0\" class=\"data row4 col0\" >2017-03-24</td>\n",
              "                        <td id=\"T_04d4df10_94f2_11ea_b6bd_0242ac1c0002row4_col1\" class=\"data row4 col1\" >매입</td>\n",
              "                        <td id=\"T_04d4df10_94f2_11ea_b6bd_0242ac1c0002row4_col2\" class=\"data row4 col2\" >20</td>\n",
              "                        <td id=\"T_04d4df10_94f2_11ea_b6bd_0242ac1c0002row4_col3\" class=\"data row4 col3\" >22000</td>\n",
              "                        <td id=\"T_04d4df10_94f2_11ea_b6bd_0242ac1c0002row4_col4\" class=\"data row4 col4\" >440000</td>\n",
              "                        <td id=\"T_04d4df10_94f2_11ea_b6bd_0242ac1c0002row4_col5\" class=\"data row4 col5\" >0</td>\n",
              "                        <td id=\"T_04d4df10_94f2_11ea_b6bd_0242ac1c0002row4_col6\" class=\"data row4 col6\" >40</td>\n",
              "                        <td id=\"T_04d4df10_94f2_11ea_b6bd_0242ac1c0002row4_col7\" class=\"data row4 col7\" >10</td>\n",
              "                        <td id=\"T_04d4df10_94f2_11ea_b6bd_0242ac1c0002row4_col8\" class=\"data row4 col8\" >30</td>\n",
              "                        <td id=\"T_04d4df10_94f2_11ea_b6bd_0242ac1c0002row4_col9\" class=\"data row4 col9\" >10.000000</td>\n",
              "                        <td id=\"T_04d4df10_94f2_11ea_b6bd_0242ac1c0002row4_col10\" class=\"data row4 col10\" >20833.333333</td>\n",
              "                        <td id=\"T_04d4df10_94f2_11ea_b6bd_0242ac1c0002row4_col11\" class=\"data row4 col11\" >22</td>\n",
              "                        <td id=\"T_04d4df10_94f2_11ea_b6bd_0242ac1c0002row4_col12\" class=\"data row4 col12\" >20.000000</td>\n",
              "                        <td id=\"T_04d4df10_94f2_11ea_b6bd_0242ac1c0002row4_col13\" class=\"data row4 col13\" >2.000000</td>\n",
              "                        <td id=\"T_04d4df10_94f2_11ea_b6bd_0242ac1c0002row4_col14\" class=\"data row4 col14\" >44000.000000</td>\n",
              "            </tr>\n",
              "            <tr>\n",
              "                        <th id=\"T_04d4df10_94f2_11ea_b6bd_0242ac1c0002level0_row5\" class=\"row_heading level0 row5\" >5</th>\n",
              "                        <td id=\"T_04d4df10_94f2_11ea_b6bd_0242ac1c0002row5_col0\" class=\"data row5 col0\" >2017-03-29</td>\n",
              "                        <td id=\"T_04d4df10_94f2_11ea_b6bd_0242ac1c0002row5_col1\" class=\"data row5 col1\" >매출</td>\n",
              "                        <td id=\"T_04d4df10_94f2_11ea_b6bd_0242ac1c0002row5_col2\" class=\"data row5 col2\" >0</td>\n",
              "                        <td id=\"T_04d4df10_94f2_11ea_b6bd_0242ac1c0002row5_col3\" class=\"data row5 col3\" >0</td>\n",
              "                        <td id=\"T_04d4df10_94f2_11ea_b6bd_0242ac1c0002row5_col4\" class=\"data row5 col4\" >0</td>\n",
              "                        <td id=\"T_04d4df10_94f2_11ea_b6bd_0242ac1c0002row5_col5\" class=\"data row5 col5\" >10</td>\n",
              "                        <td id=\"T_04d4df10_94f2_11ea_b6bd_0242ac1c0002row5_col6\" class=\"data row5 col6\" >40</td>\n",
              "                        <td id=\"T_04d4df10_94f2_11ea_b6bd_0242ac1c0002row5_col7\" class=\"data row5 col7\" >20</td>\n",
              "                        <td id=\"T_04d4df10_94f2_11ea_b6bd_0242ac1c0002row5_col8\" class=\"data row5 col8\" >20</td>\n",
              "                        <td id=\"T_04d4df10_94f2_11ea_b6bd_0242ac1c0002row5_col9\" class=\"data row5 col9\" >30.000000</td>\n",
              "                        <td id=\"T_04d4df10_94f2_11ea_b6bd_0242ac1c0002row5_col10\" class=\"data row5 col10\" >20833.333333</td>\n",
              "                        <td id=\"T_04d4df10_94f2_11ea_b6bd_0242ac1c0002row5_col11\" class=\"data row5 col11\" >22</td>\n",
              "                        <td id=\"T_04d4df10_94f2_11ea_b6bd_0242ac1c0002row5_col12\" class=\"data row5 col12\" >22.000000</td>\n",
              "                        <td id=\"T_04d4df10_94f2_11ea_b6bd_0242ac1c0002row5_col13\" class=\"data row5 col13\" >0.000000</td>\n",
              "                        <td id=\"T_04d4df10_94f2_11ea_b6bd_0242ac1c0002row5_col14\" class=\"data row5 col14\" >0.000000</td>\n",
              "            </tr>\n",
              "            <tr>\n",
              "                        <th id=\"T_04d4df10_94f2_11ea_b6bd_0242ac1c0002level0_row6\" class=\"row_heading level0 row6\" >6</th>\n",
              "                        <td id=\"T_04d4df10_94f2_11ea_b6bd_0242ac1c0002row6_col0\" class=\"data row6 col0\" >2017-03-29</td>\n",
              "                        <td id=\"T_04d4df10_94f2_11ea_b6bd_0242ac1c0002row6_col1\" class=\"data row6 col1\" >매출</td>\n",
              "                        <td id=\"T_04d4df10_94f2_11ea_b6bd_0242ac1c0002row6_col2\" class=\"data row6 col2\" >0</td>\n",
              "                        <td id=\"T_04d4df10_94f2_11ea_b6bd_0242ac1c0002row6_col3\" class=\"data row6 col3\" >0</td>\n",
              "                        <td id=\"T_04d4df10_94f2_11ea_b6bd_0242ac1c0002row6_col4\" class=\"data row6 col4\" >0</td>\n",
              "                        <td id=\"T_04d4df10_94f2_11ea_b6bd_0242ac1c0002row6_col5\" class=\"data row6 col5\" >2</td>\n",
              "                        <td id=\"T_04d4df10_94f2_11ea_b6bd_0242ac1c0002row6_col6\" class=\"data row6 col6\" >40</td>\n",
              "                        <td id=\"T_04d4df10_94f2_11ea_b6bd_0242ac1c0002row6_col7\" class=\"data row6 col7\" >22</td>\n",
              "                        <td id=\"T_04d4df10_94f2_11ea_b6bd_0242ac1c0002row6_col8\" class=\"data row6 col8\" >18</td>\n",
              "                        <td id=\"T_04d4df10_94f2_11ea_b6bd_0242ac1c0002row6_col9\" class=\"data row6 col9\" >20.000000</td>\n",
              "                        <td id=\"T_04d4df10_94f2_11ea_b6bd_0242ac1c0002row6_col10\" class=\"data row6 col10\" >20833.333333</td>\n",
              "                        <td id=\"T_04d4df10_94f2_11ea_b6bd_0242ac1c0002row6_col11\" class=\"data row6 col11\" >22</td>\n",
              "                        <td id=\"T_04d4df10_94f2_11ea_b6bd_0242ac1c0002row6_col12\" class=\"data row6 col12\" >22.000000</td>\n",
              "                        <td id=\"T_04d4df10_94f2_11ea_b6bd_0242ac1c0002row6_col13\" class=\"data row6 col13\" >0.000000</td>\n",
              "                        <td id=\"T_04d4df10_94f2_11ea_b6bd_0242ac1c0002row6_col14\" class=\"data row6 col14\" >0.000000</td>\n",
              "            </tr>\n",
              "    </tbody></table>"
            ],
            "text/plain": [
              "<pandas.io.formats.style.Styler at 0x7fec6811dd30>"
            ]
          },
          "metadata": {
            "tags": []
          },
          "execution_count": 72
        }
      ]
    },
    {
      "cell_type": "code",
      "metadata": {
        "id": "G3_74cCAxfif",
        "colab_type": "code",
        "outputId": "a8d0c051-1106-43d6-ed23-60ace03d1bd0",
        "colab": {
          "base_uri": "https://localhost:8080/",
          "height": 53
        }
      },
      "source": [
        "매출원가 = df['출고금액'].sum()\n",
        "기말재고액 = df['입고금액'].sum() - 매출원가\n",
        "\n",
        "print(매출원가)\n",
        "print(기말재고액)"
      ],
      "execution_count": 0,
      "outputs": [
        {
          "output_type": "stream",
          "text": [
            "414000.0\n",
            "396000.0\n"
          ],
          "name": "stdout"
        }
      ]
    },
    {
      "cell_type": "markdown",
      "metadata": {
        "id": "b88hs5XOxjm2",
        "colab_type": "text"
      },
      "source": [
        "#12 : 매출채권의 집합적 대손 검토"
      ]
    },
    {
      "cell_type": "code",
      "metadata": {
        "id": "1hKFkdofxmml",
        "colab_type": "code",
        "colab": {}
      },
      "source": [
        "대손율 = (0,0.04,0.1,0.25)"
      ],
      "execution_count": 0,
      "outputs": []
    },
    {
      "cell_type": "code",
      "metadata": {
        "id": "xC3olX-nxsXY",
        "colab_type": "code",
        "outputId": "f4ebcc0c-d343-4110-abea-7f525e10e7e1",
        "colab": {
          "base_uri": "https://localhost:8080/",
          "height": 35
        }
      },
      "source": [
        "연체기간_매출채권잔액 = list()\n",
        "연체기간_매출채권잔액.append((0,75000))\n",
        "연체기간_매출채권잔액.append((1,10000))\n",
        "연체기간_매출채권잔액.append((2,5000))\n",
        "연체기간_매출채권잔액.append((3,500))\n",
        "\n",
        "print(연체기간_매출채권잔액)"
      ],
      "execution_count": 0,
      "outputs": [
        {
          "output_type": "stream",
          "text": [
            "[(0, 75000), (1, 10000), (2, 5000), (3, 500)]\n"
          ],
          "name": "stdout"
        }
      ]
    },
    {
      "cell_type": "code",
      "metadata": {
        "id": "G0J5UslpxuHe",
        "colab_type": "code",
        "colab": {}
      },
      "source": [
        "\t\n",
        "def 대손충당금(X):\n",
        "    기간구분,채권잔액 = X\n",
        "    결과 = 채권잔액 * 대손율[기간구분]\n",
        "    return 결과"
      ],
      "execution_count": 0,
      "outputs": []
    },
    {
      "cell_type": "code",
      "metadata": {
        "id": "Z4FpAiZ0xxOt",
        "colab_type": "code",
        "outputId": "0c5a8905-05f2-4c09-89ac-d3f158a6dd1f",
        "colab": {
          "base_uri": "https://localhost:8080/",
          "height": 35
        }
      },
      "source": [
        "sum(map(대손충당금, 연체기간_매출채권잔액))"
      ],
      "execution_count": 0,
      "outputs": [
        {
          "output_type": "execute_result",
          "data": {
            "text/plain": [
              "1025.0"
            ]
          },
          "metadata": {
            "tags": []
          },
          "execution_count": 77
        }
      ]
    },
    {
      "cell_type": "markdown",
      "metadata": {
        "id": "7Gk17k0Wx2Ds",
        "colab_type": "text"
      },
      "source": [
        "#13 : 유형자산 원가에 포함되는 항목"
      ]
    },
    {
      "cell_type": "code",
      "metadata": {
        "id": "95lgRmtux0_q",
        "colab_type": "code",
        "colab": {}
      },
      "source": [
        "class 취득원가:\n",
        "\n",
        "    def __init__(self):\n",
        "        self.rule = set()\n",
        "        self.rule.add(\"구입원가\")\n",
        "        self.rule.add(\"운임\")\n",
        "        self.rule.add(\"수입관세\")\n",
        "        self.rule.add(\"설치비용\")\n",
        "        self.rule.add(\"복구비용\")\n",
        "        self.costSum = 0\n",
        "\n",
        "    def pay(self,항목,비용):\n",
        "        if 항목 in self.rule:\n",
        "            self.costSum = self.costSum + 비용"
      ],
      "execution_count": 0,
      "outputs": []
    },
    {
      "cell_type": "code",
      "metadata": {
        "id": "H7RF-Iywx5od",
        "colab_type": "code",
        "colab": {}
      },
      "source": [
        "기계취득원가 = 취득원가()\n",
        "기계취득원가.pay(\"설치비용\",1000)\n",
        "기계취득원가.pay(\"복구비용\",3000)\n",
        "기계취득원가.pay(\"유지비용\",1500)"
      ],
      "execution_count": 0,
      "outputs": []
    },
    {
      "cell_type": "code",
      "metadata": {
        "id": "18IUMZnCx7fw",
        "colab_type": "code",
        "outputId": "b85c5ee4-31a5-418e-97c2-222d57f65e88",
        "colab": {
          "base_uri": "https://localhost:8080/",
          "height": 35
        }
      },
      "source": [
        "기계취득원가.costSum\n",
        "print(기계취득원가.costSum)"
      ],
      "execution_count": 0,
      "outputs": [
        {
          "output_type": "stream",
          "text": [
            "4000\n"
          ],
          "name": "stdout"
        }
      ]
    },
    {
      "cell_type": "markdown",
      "metadata": {
        "id": "lgc_pp_rx9CH",
        "colab_type": "text"
      },
      "source": [
        "#14 : 재평가잉여금"
      ]
    },
    {
      "cell_type": "code",
      "metadata": {
        "id": "k7xfSu1SyAWi",
        "colab_type": "code",
        "outputId": "cab1fee7-5439-4e10-de11-c70e252f5f7b",
        "colab": {
          "base_uri": "https://localhost:8080/",
          "height": 143
        }
      },
      "source": [
        "def 재평가잉여금처리():\n",
        "    장부금액 = int(input(\"장부금액: \"))\n",
        "    재평가금액 = int(input(\"재평가금액: \"))\n",
        "    직전재평가잉여금 = int(input(\"직전재평가잉여금: \"))\n",
        "    손실인식재평가감소액 = int(input(\"손실인식재평가감소액: \"))\n",
        "\n",
        "    if 직전재평가잉여금 and 손실인식재평가감소액 !=0 :\n",
        "        print(\"직전재평가잉여금과 손실인식재평가감소액은 동시에 존재할 수 없습니다.\")\n",
        "\n",
        "    elif 재평가금액 > 장부금액:\n",
        "        자산증가액 = 재평가금액 - 장부금액\n",
        "        재평가잉여금증가액 = (재평가금액 - 장부금액) - 손실인식재평가감소액\n",
        "\n",
        "        if 재평가잉여금증가액 >= 0 :\n",
        "            print(\"차변 : 기계장치 %d\" % 자산증가액)\n",
        "            print(\"대변 : 재평가잉여금(기타포괄손익) %d\" %재평가잉여금증가액)\n",
        "            print(\"대변 : 재평가이익(당기손익) %d\" %손실인식재평가감소액)\n",
        "\n",
        "        else:\n",
        "            print(\"차변 : 기계장치 %d\" % 자산증가액)\n",
        "            print(\"대변 : 재평가이익(당기손익) %d\" %(재평가금액 - 장부금액))\n",
        "\n",
        "    elif 재평가금액 < 장부금액:\n",
        "        자산감소액 = 장부금액 - 재평가금액\n",
        "        재평가잉여금감소액 = abs(장부금액 - 재평가금액) - 직전재평가잉여금\n",
        "\n",
        "        if 재평가잉여금감소액 >= 0 :\n",
        "            print(\"차변 : 재평가잉여금(기타포괄손익) %d\" %직전재평가잉여금)\n",
        "            print(\"차변 : 재평가손실(당기손익) %d\" %재평가잉여금감소액)\n",
        "            print(\"대변 : 기계장치 %d\" % 자산감소액)\n",
        "\n",
        "        else :\n",
        "            print(\"차변 : 재평가잉여금(기타포괄손익) %d\" %(재평가잉여금감소액 + 직전재평가잉여금))\n",
        "            print(\"대변 : 기계장치 %d\" % 자산감소액)\n",
        "\n",
        "    else :\n",
        "        print(\"분개 없음\")\n",
        "\n",
        "재평가잉여금처리()"
      ],
      "execution_count": 0,
      "outputs": [
        {
          "output_type": "stream",
          "text": [
            "장부금액: 80000\n",
            "재평가금액: 88000\n",
            "직전재평가잉여금: 0\n",
            "손실인식재평가감소액: 5000\n",
            "차변 : 기계장치 8000\n",
            "대변 : 재평가잉여금(기타포괄손익) 3000\n",
            "대변 : 재평가이익(당기손익) 5000\n"
          ],
          "name": "stdout"
        }
      ]
    },
    {
      "cell_type": "markdown",
      "metadata": {
        "id": "tkqV0m0vyKcZ",
        "colab_type": "text"
      },
      "source": [
        "# 15 : 감가상각"
      ]
    },
    {
      "cell_type": "code",
      "metadata": {
        "id": "SQptaDIYyXPj",
        "colab_type": "code",
        "outputId": "32971443-8c44-4b84-ed44-ea83cebb08b8",
        "colab": {
          "base_uri": "https://localhost:8080/",
          "height": 179
        }
      },
      "source": [
        "# 정액법\n",
        "print('%12s'%\"년도\", '%6s'%\"감가상각비\",'%6s'% \"기말장부금액\")\n",
        "print(\"*\"*50)\n",
        "\n",
        "def 정액법(원가, 잔존가치, 내용연수):\n",
        "    for i in range(1,내용연수+1):\n",
        "        감가상각비 = (원가-잔존가치)/내용연수\n",
        "        감가상각누계액 = 감가상각비*i\n",
        "        기말장부금액 = 원가 - 감가상각누계액\n",
        "        print ('%12.0f'%i,'%12.0f'%감가상각비, '%12.0f'%기말장부금액)\n",
        "\n",
        "print(정액법(5000, 1000,5))\n",
        "print(\"*\"*50)"
      ],
      "execution_count": 0,
      "outputs": [
        {
          "output_type": "stream",
          "text": [
            "          년도  감가상각비 기말장부금액\n",
            "**************************************************\n",
            "           1          800         4200\n",
            "           2          800         3400\n",
            "           3          800         2600\n",
            "           4          800         1800\n",
            "           5          800         1000\n",
            "None\n",
            "**************************************************\n"
          ],
          "name": "stdout"
        }
      ]
    },
    {
      "cell_type": "code",
      "metadata": {
        "id": "fhaoIEVuyeL4",
        "colab_type": "code",
        "outputId": "697c9cbc-128c-4144-8c15-bad7fb456fae",
        "colab": {
          "base_uri": "https://localhost:8080/",
          "height": 179
        }
      },
      "source": [
        "# 정률법\n",
        "print('%12s'%\"년도\", '%6s'%\"감가상각비\",'%6s'% \"기말장부금액\")\n",
        "print(\"-\"*50)\n",
        "\n",
        "def 정률법(원가, 잔존가치, 내용연수):\n",
        "    상각률 = 1 - ((잔존가치/원가)**(1/내용연수))\n",
        "    for i in range(1, 내용연수+1):\n",
        "        감가상각비 = 원가 * 상각률\n",
        "        원가 = 원가 - 감가상각비\n",
        "        print ('%12.0f'%i,'%12.0f'%감가상각비, '%12.0f'%원가)\n",
        "\n",
        "print(정률법(5000,1000,5))\n",
        "print(\"-\"*50)"
      ],
      "execution_count": 0,
      "outputs": [
        {
          "output_type": "stream",
          "text": [
            "          년도  감가상각비 기말장부금액\n",
            "--------------------------------------------------\n",
            "           1         1376         3624\n",
            "           2          997         2627\n",
            "           3          723         1904\n",
            "           4          524         1380\n",
            "           5          380         1000\n",
            "None\n",
            "--------------------------------------------------\n"
          ],
          "name": "stdout"
        }
      ]
    },
    {
      "cell_type": "code",
      "metadata": {
        "id": "e50imxDayhO7",
        "colab_type": "code",
        "outputId": "8fc1a63e-df9b-449e-d6d2-1cc8daa7093c",
        "colab": {
          "base_uri": "https://localhost:8080/",
          "height": 136
        }
      },
      "source": [
        "# 연수합계법\n",
        "print('%12s'%\"년도\", '%6s'%\"감가상각비\",'%6s'% \"기말장부금액\")\n",
        "print(\"+\"*50)\n",
        "\n",
        "def 연수합계법(원가,잔존가치, 내용연수):\n",
        "    상각대상액 = 원가 - 잔존가치\n",
        "    for year in range(1,내용연수+1):\n",
        "        감가상각비 = 상각대상액 *(내용연수-(year-1))/(내용연수*(내용연수+1)/2) \n",
        "        원가=원가–감가상각비 \n",
        "        print ('%12.0f'%year,'%12.0f'%감가상각비, '%12.0f'%원가)\n",
        "\n",
        "print(연수합계법(5000,1000,5))\n",
        "print(\"+\"*50)"
      ],
      "execution_count": 0,
      "outputs": [
        {
          "output_type": "error",
          "ename": "SyntaxError",
          "evalue": "ignored",
          "traceback": [
            "\u001b[0;36m  File \u001b[0;32m\"<ipython-input-87-87ec4be3766f>\"\u001b[0;36m, line \u001b[0;32m9\u001b[0m\n\u001b[0;31m    원가=원가–감가상각비\u001b[0m\n\u001b[0m              ^\u001b[0m\n\u001b[0;31mSyntaxError\u001b[0m\u001b[0;31m:\u001b[0m invalid character in identifier\n"
          ]
        }
      ]
    },
    {
      "cell_type": "markdown",
      "metadata": {
        "id": "C0IDs9F4ykjY",
        "colab_type": "text"
      },
      "source": [
        "#16 : 사채할인발행"
      ]
    },
    {
      "cell_type": "code",
      "metadata": {
        "id": "W4xM0xtsymf4",
        "colab_type": "code",
        "outputId": "e72d6e3d-dd6b-4a17-f79e-eb6710dacfc4",
        "colab": {
          "base_uri": "https://localhost:8080/",
          "height": 467
        }
      },
      "source": [
        "class 사채:\n",
        "\n",
        "    def __init__(self, 액면가액, 표시이자율, 시장이자율, 만기):\n",
        "        self.액면가액 = 액면가액\n",
        "        self.표시이자율 = 표시이자율\n",
        "        self.시장이자율 = 시장이자율\n",
        "        self.만기 = 만기\n",
        "\n",
        "    def 현가계수_발행가액(self):\n",
        "        연금현가계수 = 0\n",
        "        for i in range(1,self.만기+1):\n",
        "            년도현가계수 = (1/(1+self.시장이자율))**i\n",
        "            연금현가계수 = 연금현가계수 + 년도현가계수 \n",
        "            print ('%12.0f'%i,'%12.4f'%년도현가계수, '%12.4f'%연금현가계수)\n",
        "\n",
        "        원금현가 = self.액면가액*(1/(1+self.시장이자율))**self.만기\n",
        "        이자현가 = self.액면가액*self.표시이자율*연금현가계수\n",
        "        발행가액 = 원금현가 + 이자현가\n",
        "\n",
        "        print(\"*\"*100)\n",
        "        print('%12s' %\"년도\",\n",
        "                '%7s' %\"유효이자\",\n",
        "                '%7s'% \"액면이자\",\n",
        "                '%7s'% \"발행차금상각\",\n",
        "                '%7s'% \"기말장부금액\")\n",
        "\n",
        "        장부금액 = 발행가액\n",
        "\n",
        "        for i in range(1,self.만기+1):\n",
        "            유효이자 = 장부금액 * self.시장이자율\n",
        "            액면이자 = self.액면가액 * self.표시이자율\n",
        "            발행차금상각 = 유효이자 - 액면이자\n",
        "            장부금액 = 장부금액 + 발행차금상각\n",
        "\n",
        "            print ('%12.0f' % i,\n",
        "                '%12.0f' % 유효이자,\n",
        "                '%12.0f' % 액면이자,\n",
        "                '%12.0f' % 발행차금상각,\n",
        "                '%12.0f' % 장부금액 )\n",
        "\n",
        "        장부금액 = 발행가액\n",
        "\n",
        "        for i in range(1,self.만기+1):\n",
        "            유효이자 = 장부금액 * self.시장이자율\n",
        "            액면이자 = self.액면가액 * self.표시이자율\n",
        "            발행차금상각 = 유효이자 - 액면이자\n",
        "            장부금액 = 장부금액 + 발행차금상각\n",
        "\n",
        "            if i == 1:\n",
        "                print(\"*\"*100)\n",
        "                print(\"차변\", \"현금\", '%20.0f' %발행가액)  \n",
        "                print(\"차변\", \"사채할인발행차금\", '%9.0f' %(self.액면가액 - 발행가액))\n",
        "                print(\"대변\", \"사채\", '%30.0f' %self.액면가액 )\n",
        "                print(\"*\"*100)\n",
        "                print(\"차변\", \"이자비용\", '%17.0f' %유효이자)\n",
        "                print(\"대변\", \"현금\", '%31.0f' %액면이자)\n",
        "                print(\"대변\", \"사채할인발행차금\",'%20.0f' %발행차금상각 )\n",
        "                print(\"*\"*100)\n",
        "\n",
        "            else:\n",
        "                print(\"차변\", \"이자비용\", '%17.0f' %유효이자)\n",
        "                print(\"대변\", \"현금\", '%31.0f' %액면이자)\n",
        "                print(\"대변\", \"사채할인발행차금\",'%20.0f' %발행차금상각 )\n",
        "                print(\"*\"*100)\n",
        "\n",
        "a = 사채(100000, 0.12, 0.10, 3)\n",
        "a.현가계수_발행가액()"
      ],
      "execution_count": 0,
      "outputs": [
        {
          "output_type": "stream",
          "text": [
            "           1       0.9091       0.9091\n",
            "           2       0.8264       1.7355\n",
            "           3       0.7513       2.4869\n",
            "****************************************************************************************************\n",
            "          년도    유효이자    액면이자  발행차금상각  기말장부금액\n",
            "           1        10497        12000        -1503       103471\n",
            "           2        10347        12000        -1653       101818\n",
            "           3        10182        12000        -1818       100000\n",
            "****************************************************************************************************\n",
            "차변 현금               104974\n",
            "차변 사채할인발행차금     -4974\n",
            "대변 사채                         100000\n",
            "****************************************************************************************************\n",
            "차변 이자비용             10497\n",
            "대변 현금                           12000\n",
            "대변 사채할인발행차금                -1503\n",
            "****************************************************************************************************\n",
            "차변 이자비용             10347\n",
            "대변 현금                           12000\n",
            "대변 사채할인발행차금                -1653\n",
            "****************************************************************************************************\n",
            "차변 이자비용             10182\n",
            "대변 현금                           12000\n",
            "대변 사채할인발행차금                -1818\n",
            "****************************************************************************************************\n"
          ],
          "name": "stdout"
        }
      ]
    }
  ]
}